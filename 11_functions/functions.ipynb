{
 "cells": [
  {
   "cell_type": "markdown",
   "id": "a2d26aba",
   "metadata": {},
   "source": [
    "# functions\n",
    "\n",
    "- for reusable code"
   ]
  },
  {
   "cell_type": "markdown",
   "id": "60e7ef80",
   "metadata": {},
   "source": [
    "##### Create a function and understanding terminolgy"
   ]
  },
  {
   "cell_type": "code",
   "execution_count": null,
   "id": "f4f0464f",
   "metadata": {},
   "outputs": [],
   "source": [
    "# create a simple example of function\n",
    "\n",
    "def squarer(x): # use keyword def; squarer is the function name; x is the parameter\n",
    "    result = x**2 # statement\n",
    "    return result # return block defines the output"
   ]
  },
  {
   "cell_type": "code",
   "execution_count": null,
   "id": "3880013e",
   "metadata": {},
   "outputs": [
    {
     "data": {
      "text/plain": [
       "4"
      ]
     },
     "execution_count": 2,
     "metadata": {},
     "output_type": "execute_result"
    }
   ],
   "source": [
    "# a call for a function\n",
    "squarer(2) # cite the function; () is the callable; argument"
   ]
  },
  {
   "cell_type": "markdown",
   "id": "5e533a76",
   "metadata": {},
   "source": [
    "##### Positional arguments"
   ]
  },
  {
   "cell_type": "code",
   "execution_count": 6,
   "id": "07b71a3d",
   "metadata": {},
   "outputs": [],
   "source": [
    "def my_fruits(fruit_like, fruit_hate):\n",
    "    print(f\"I like to eat {fruit_like}\")\n",
    "    print(f\"But I hate to eat {fruit_hate}\")\n",
    "    return None # python will add this line if you don't have a return block\n"
   ]
  },
  {
   "cell_type": "code",
   "execution_count": 8,
   "id": "e4c09d11",
   "metadata": {},
   "outputs": [
    {
     "name": "stdout",
     "output_type": "stream",
     "text": [
      "I like to eat apple\n",
      "But I hate to eat orange\n"
     ]
    }
   ],
   "source": [
    "# suppose I like to eat orange and hate to eat apple\n",
    "# check out what is the problem in the order of the arguments below\n",
    "my_fruits(\"apple\", \"orange\")"
   ]
  },
  {
   "cell_type": "markdown",
   "id": "8b329f74",
   "metadata": {},
   "source": [
    "##### Keyword arguments"
   ]
  },
  {
   "cell_type": "code",
   "execution_count": 12,
   "id": "da6cd8e1",
   "metadata": {},
   "outputs": [
    {
     "name": "stdout",
     "output_type": "stream",
     "text": [
      "I like to eat orange\n",
      "But I hate to eat apple\n"
     ]
    }
   ],
   "source": [
    "# if you don't want do depend on positions arguments, provide the parameter names also\n",
    "my_fruits(fruit_hate=\"apple\", fruit_like=\"orange\")"
   ]
  },
  {
   "cell_type": "code",
   "execution_count": null,
   "id": "09155e62",
   "metadata": {},
   "outputs": [
    {
     "ename": "TypeError",
     "evalue": "my_fruits() takes 2 positional arguments but 3 were given",
     "output_type": "error",
     "traceback": [
      "\u001b[31m---------------------------------------------------------------------------\u001b[39m",
      "\u001b[31mTypeError\u001b[39m                                 Traceback (most recent call last)",
      "\u001b[36mCell\u001b[39m\u001b[36m \u001b[39m\u001b[32mIn[13]\u001b[39m\u001b[32m, line 2\u001b[39m\n\u001b[32m      1\u001b[39m \u001b[38;5;66;03m# what if I provide three fruits\u001b[39;00m\n\u001b[32m----> \u001b[39m\u001b[32m2\u001b[39m \u001b[43mmy_fruits\u001b[49m\u001b[43m(\u001b[49m\u001b[33;43m\"\u001b[39;49m\u001b[33;43mapple\u001b[39;49m\u001b[33;43m\"\u001b[39;49m\u001b[43m,\u001b[49m\u001b[43m \u001b[49m\u001b[33;43m\"\u001b[39;49m\u001b[33;43morange\u001b[39;49m\u001b[33;43m\"\u001b[39;49m\u001b[43m,\u001b[49m\u001b[43m \u001b[49m\u001b[33;43m\"\u001b[39;49m\u001b[33;43mstrawberry\u001b[39;49m\u001b[33;43m\"\u001b[39;49m\u001b[43m)\u001b[49m\n",
      "\u001b[31mTypeError\u001b[39m: my_fruits() takes 2 positional arguments but 3 were given"
     ]
    }
   ],
   "source": [
    "# what if I provide three fruits\n",
    "# due to the error of, we neeed to think of other ways to take care of unknown numbers of arguments\n",
    "my_fruits(\"apple\", \"orange\", \"strawberry\")"
   ]
  },
  {
   "cell_type": "markdown",
   "id": "7a312e99",
   "metadata": {},
   "source": [
    "##### Unknown number of postitional arguments"
   ]
  },
  {
   "cell_type": "code",
   "execution_count": 22,
   "id": "8f294319",
   "metadata": {},
   "outputs": [],
   "source": [
    "# suppose I want to print out all the fruits that are inputed as argments to a function\n",
    "# we will use a symbol * in the parameter\n",
    "\n",
    "def print_fruits(*fruits): # has two meanings: positional arguments, the nr of arguments will be unknowm\n",
    "    for fruit in fruits:\n",
    "        print(fruit)\n",
    "    return type(fruits)"
   ]
  },
  {
   "cell_type": "code",
   "execution_count": 23,
   "id": "b332640b",
   "metadata": {},
   "outputs": [
    {
     "name": "stdout",
     "output_type": "stream",
     "text": [
      "apple\n",
      "orange\n",
      "kiwi\n",
      "strawberry\n"
     ]
    },
    {
     "data": {
      "text/plain": [
       "tuple"
      ]
     },
     "execution_count": 23,
     "metadata": {},
     "output_type": "execute_result"
    }
   ],
   "source": [
    "print_fruits(\"apple\", \"orange\", \"kiwi\", \"strawberry\")"
   ]
  },
  {
   "cell_type": "markdown",
   "id": "12b575e1",
   "metadata": {},
   "source": [
    "##### Unknown number of keyword"
   ]
  },
  {
   "cell_type": "code",
   "execution_count": 25,
   "id": "e414a859",
   "metadata": {},
   "outputs": [],
   "source": [
    "def print_nr_fruits(**fruits):\n",
    "    for key, value in fruits.items():\n",
    "        print(key, value)\n",
    "    return type(fruits)"
   ]
  },
  {
   "cell_type": "code",
   "execution_count": 28,
   "id": "bfa3a3c3",
   "metadata": {},
   "outputs": [
    {
     "name": "stdout",
     "output_type": "stream",
     "text": [
      "fruit1 orange\n",
      "fruit2 apple\n"
     ]
    },
    {
     "data": {
      "text/plain": [
       "dict"
      ]
     },
     "execution_count": 28,
     "metadata": {},
     "output_type": "execute_result"
    }
   ],
   "source": [
    "print_nr_fruits(fruit1=\"orange\", fruit2=\"apple\") # key is provided when calling for the function"
   ]
  }
 ],
 "metadata": {
  "kernelspec": {
   "display_name": "11_functions",
   "language": "python",
   "name": "python3"
  },
  "language_info": {
   "codemirror_mode": {
    "name": "ipython",
    "version": 3
   },
   "file_extension": ".py",
   "mimetype": "text/x-python",
   "name": "python",
   "nbconvert_exporter": "python",
   "pygments_lexer": "ipython3",
   "version": "3.12.10"
  }
 },
 "nbformat": 4,
 "nbformat_minor": 5
}

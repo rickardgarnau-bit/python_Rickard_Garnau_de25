{
 "cells": [
  {
   "cell_type": "code",
   "execution_count": 15,
   "id": "ae563952",
   "metadata": {},
   "outputs": [
    {
     "name": "stdout",
     "output_type": "stream",
     "text": [
      "[3]\n",
      "[3, 2]\n",
      "[3, 2, 1]\n",
      "[3, 2, 1, 3]\n",
      "[3, 2, 1, 3, 6]\n",
      "[3, 2, 1, 3, 6, 4]\n",
      "[3, 2, 1, 3, 6, 4, 1]\n",
      "[3, 2, 1, 3, 6, 4, 1, 3]\n",
      "[3, 2, 1, 3, 6, 4, 1, 3, 6]\n",
      "[3, 2, 1, 3, 6, 4, 1, 3, 6, 5]\n",
      "[1, 1, 2, 3, 3, 3, 4, 5, 6, 6]\n"
     ]
    }
   ],
   "source": [
    "import random\n",
    "\n",
    "dice_rolls = []\n",
    "\n",
    "for _ in range(10):\n",
    "    dice_rolls.append(random.randint(1, 6))\n",
    "    print(dice_rolls)\n",
    "dice_rolls.sort()\n",
    "print(dice_rolls)\n",
    "\n"
   ]
  },
  {
   "cell_type": "code",
   "execution_count": 71,
   "id": "386136b2",
   "metadata": {},
   "outputs": [
    {
     "name": "stdout",
     "output_type": "stream",
     "text": [
      "[2, 5, 6, 5, 2, 2, 1, 3, 1, 6]\n",
      "[1, 1, 2, 2, 2, 3, 5, 5, 6, 6]\n"
     ]
    }
   ],
   "source": [
    "import random\n",
    "\n",
    "rolls_comp = [random.randint(1, 6) for _ in range(10)]\n",
    "\n",
    "print(rolls_comp)\n",
    "\n",
    "rolls_comp.sort()\n",
    "print(rolls_comp) #a\n"
   ]
  },
  {
   "cell_type": "code",
   "execution_count": 73,
   "id": "98b5ba49",
   "metadata": {},
   "outputs": [
    {
     "name": "stdout",
     "output_type": "stream",
     "text": [
      "[6, 6, 5, 5, 3, 2, 2, 2, 1, 1]\n"
     ]
    }
   ],
   "source": [
    "#b\n",
    "rolls_comp.sort(reverse=True)\n",
    "print(rolls_comp)"
   ]
  },
  {
   "cell_type": "code",
   "execution_count": 72,
   "id": "6ab8618d",
   "metadata": {},
   "outputs": [
    {
     "name": "stdout",
     "output_type": "stream",
     "text": [
      "6\n",
      "1\n"
     ]
    }
   ],
   "source": [
    "#c\n",
    "highest = max(rolls_comp)\n",
    "lowest = min(rolls_comp)\n",
    "\n",
    "print(highest)\n",
    "print(lowest)"
   ]
  },
  {
   "cell_type": "code",
   "execution_count": 74,
   "id": "5b12d095",
   "metadata": {},
   "outputs": [
    {
     "name": "stdout",
     "output_type": "stream",
     "text": [
      "3.3\n"
     ]
    }
   ],
   "source": [
    "#d\n",
    "genomsnitt = sum(rolls_comp) / len(rolls_comp)\n",
    "print(genomsnitt)"
   ]
  },
  {
   "cell_type": "code",
   "execution_count": 76,
   "id": "e0dbb9f6",
   "metadata": {},
   "outputs": [
    {
     "name": "stdout",
     "output_type": "stream",
     "text": [
      "[1, 1, 2, 2, 2, 3, 5, 5, 6, 6]\n",
      "2.5\n"
     ]
    }
   ],
   "source": [
    "#e\n",
    "rolls_comp.sort()\n",
    "\n",
    "print(rolls_comp)\n",
    "\n",
    "n = len(rolls_comp)\n",
    "if n % 2 == 1:\n",
    "    median = rolls_comp[n // 2]\n",
    "else:\n",
    "    median = (rolls_comp[n//2 - 1] + rolls_comp[n//2]) / 2\n",
    "\n",
    "print(median)"
   ]
  },
  {
   "cell_type": "code",
   "execution_count": 39,
   "id": "243f4d5b",
   "metadata": {},
   "outputs": [
    {
     "name": "stdout",
     "output_type": "stream",
     "text": [
      "['Klave', 'Klave', 'Krona', 'Krona', 'Klave', 'Krona', 'Krona', 'Krona', 'Klave', 'Klave', 'Krona', 'Klave', 'Klave', 'Krona', 'Krona']\n",
      "['Klave', 'Klave', 'Klave', 'Klave', 'Klave', 'Klave', 'Klave', 'Krona', 'Krona', 'Krona', 'Krona', 'Krona', 'Krona', 'Krona', 'Krona']\n"
     ]
    }
   ],
   "source": [
    "import random\n",
    "\n",
    "myntkast = []\n",
    "\n",
    "myntkast = [random.choice([\"Krona\", \"Klave\"]) for _ in range(15)]\n",
    "    \n",
    "print(myntkast)\n",
    "\n",
    "myntkast.sort()\n",
    "\n",
    "print(myntkast)\n"
   ]
  },
  {
   "cell_type": "code",
   "execution_count": 64,
   "id": "522c285a",
   "metadata": {},
   "outputs": [
    {
     "name": "stdout",
     "output_type": "stream",
     "text": [
      "19\n",
      "-8\n",
      "2.2\n"
     ]
    }
   ],
   "source": [
    "temp = []\n",
    "\n",
    "for _ in range(5):\n",
    "    temp.append(random.randint(-10, 35))\n",
    "högsta = max(temp)\n",
    "lägsta = min(temp)\n",
    "genomsnitt = sum(temp) / len(temp)\n",
    "\n",
    "print(högsta)\n",
    "print(lägsta)\n",
    "print(genomsnitt)"
   ]
  },
  {
   "cell_type": "code",
   "execution_count": 66,
   "id": "ff70ca46",
   "metadata": {},
   "outputs": [
    {
     "name": "stdout",
     "output_type": "stream",
     "text": [
      "[15, 9]\n",
      "9\n"
     ]
    }
   ],
   "source": [
    "temp = []\n",
    "\n",
    "temp = [random.randint(-10, 35) for _ in range (2)]\n",
    "print(temp)\n",
    "\n",
    "lägsta = min(temp)\n",
    "\n",
    "temp.sort()\n",
    "\n",
    "print(lägsta)"
   ]
  },
  {
   "cell_type": "markdown",
   "id": "9cc70ff8",
   "metadata": {},
   "source": []
  }
 ],
 "metadata": {
  "kernelspec": {
   "display_name": "exercise_3",
   "language": "python",
   "name": "python3"
  },
  "language_info": {
   "codemirror_mode": {
    "name": "ipython",
    "version": 3
   },
   "file_extension": ".py",
   "mimetype": "text/x-python",
   "name": "python",
   "nbconvert_exporter": "python",
   "pygments_lexer": "ipython3",
   "version": "3.12.10"
  }
 },
 "nbformat": 4,
 "nbformat_minor": 5
}

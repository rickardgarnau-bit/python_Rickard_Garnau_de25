{
 "cells": [
  {
   "cell_type": "code",
   "execution_count": 15,
   "id": "ae563952",
   "metadata": {},
   "outputs": [
    {
     "name": "stdout",
     "output_type": "stream",
     "text": [
      "[3]\n",
      "[3, 2]\n",
      "[3, 2, 1]\n",
      "[3, 2, 1, 3]\n",
      "[3, 2, 1, 3, 6]\n",
      "[3, 2, 1, 3, 6, 4]\n",
      "[3, 2, 1, 3, 6, 4, 1]\n",
      "[3, 2, 1, 3, 6, 4, 1, 3]\n",
      "[3, 2, 1, 3, 6, 4, 1, 3, 6]\n",
      "[3, 2, 1, 3, 6, 4, 1, 3, 6, 5]\n",
      "[1, 1, 2, 3, 3, 3, 4, 5, 6, 6]\n"
     ]
    }
   ],
   "source": [
    "import random\n",
    "\n",
    "dice_rolls = []\n",
    "\n",
    "for _ in range(10):\n",
    "    dice_rolls.append(random.randint(1, 6))\n",
    "    print(dice_rolls)\n",
    "dice_rolls.sort()\n",
    "print(dice_rolls)\n",
    "\n"
   ]
  },
  {
   "cell_type": "code",
   "execution_count": 4,
   "id": "386136b2",
   "metadata": {},
   "outputs": [
    {
     "name": "stdout",
     "output_type": "stream",
     "text": [
      "[3, 3, 2, 3, 5, 3, 6, 6, 1, 5]\n",
      "[1, 2, 3, 3, 3, 3, 5, 5, 6, 6]\n"
     ]
    }
   ],
   "source": [
    "import random\n",
    "\n",
    "rolls_comp = [random.randint(1, 6) for _ in range(10)]\n",
    "\n",
    "print(rolls_comp)\n",
    "\n",
    "rolls_comp.sort()\n",
    "print(rolls_comp) #a\n"
   ]
  },
  {
   "cell_type": "code",
   "execution_count": 5,
   "id": "98b5ba49",
   "metadata": {},
   "outputs": [
    {
     "name": "stdout",
     "output_type": "stream",
     "text": [
      "[6, 6, 5, 5, 3, 3, 3, 3, 2, 1]\n"
     ]
    }
   ],
   "source": [
    "#b\n",
    "rolls_comp.sort(reverse=True)\n",
    "print(rolls_comp)"
   ]
  },
  {
   "cell_type": "code",
   "execution_count": 6,
   "id": "6ab8618d",
   "metadata": {},
   "outputs": [
    {
     "name": "stdout",
     "output_type": "stream",
     "text": [
      "6\n",
      "1\n"
     ]
    }
   ],
   "source": [
    "#c\n",
    "highest = max(rolls_comp)\n",
    "lowest = min(rolls_comp)\n",
    "\n",
    "print(highest)\n",
    "print(lowest)"
   ]
  },
  {
   "cell_type": "code",
   "execution_count": 7,
   "id": "5b12d095",
   "metadata": {},
   "outputs": [
    {
     "name": "stdout",
     "output_type": "stream",
     "text": [
      "3.7\n"
     ]
    }
   ],
   "source": [
    "#d\n",
    "genomsnitt = sum(rolls_comp) / len(rolls_comp)\n",
    "print(genomsnitt)"
   ]
  },
  {
   "cell_type": "code",
   "execution_count": 11,
   "id": "e0dbb9f6",
   "metadata": {},
   "outputs": [
    {
     "name": "stdout",
     "output_type": "stream",
     "text": [
      "[1, 2, 3, 3, 3, 3, 5, 5, 6, 6]\n",
      "3.0\n"
     ]
    }
   ],
   "source": [
    "#e\n",
    "rolls_comp.sort()\n",
    "\n",
    "print(rolls_comp)\n",
    "\n",
    "n = len(rolls_comp)\n",
    "if n % 2 == 1:\n",
    "    median = rolls_comp[n // 2]\n",
    "else:\n",
    "    median = (rolls_comp[n//2 - 1] + rolls_comp[n//2]) / 2\n",
    "\n",
    "print(median)"
   ]
  },
  {
   "cell_type": "code",
   "execution_count": 23,
   "id": "79f73e5f",
   "metadata": {},
   "outputs": [
    {
     "name": "stdout",
     "output_type": "stream",
     "text": [
      "[1, 2, 3, 5, 6]\n"
     ]
    }
   ],
   "source": [
    "#f)\n",
    "rolls_comp = []\n",
    "for _ in range(10):\n",
    "    rolls_comp.append(random.randint(1, 6))\n",
    "\n",
    "unique_values = list(set(rolls_comp))\n",
    "print(unique_values)"
   ]
  },
  {
   "cell_type": "markdown",
   "id": "f8bbbd4d",
   "metadata": {},
   "source": [
    "# 1. Food menu (*)\n",
    "Create a:\n",
    "\n",
    "a) list with the following elements: \"vegetarian lasagna\", \"spaghetti\", \"fish\", \"soup\", \"pancakes\". (*)\n",
    "\n",
    "b) list with the weekdays (*)\n",
    "\n",
    "c) create a food menu with each day corresponding to each food item and print it out like this (*)\n",
    "\n",
    "```bash\n",
    "Day        Food\n",
    "-----------------\n",
    "Monday     vegetarian lasagna\n",
    "Tuesday    spaghetti\n",
    "Wednesday  fish\n",
    "Thursday   soup\n",
    "Friday     pancakes\n",
    "```"
   ]
  },
  {
   "cell_type": "code",
   "execution_count": 50,
   "id": "59eb06f6",
   "metadata": {},
   "outputs": [
    {
     "name": "stdout",
     "output_type": "stream",
     "text": [
      "['vegetarian lasagna', 'spaghetti', 'fish', 'soup', 'pancakes']\n"
     ]
    }
   ],
   "source": [
    "#a \n",
    "menu = [\"vegetarian lasagna\", \"spaghetti\", \"fish\", \"soup\", \"pancakes\"]\n",
    "print(menu)"
   ]
  },
  {
   "cell_type": "code",
   "execution_count": 51,
   "id": "2a3b8a7f",
   "metadata": {},
   "outputs": [
    {
     "name": "stdout",
     "output_type": "stream",
     "text": [
      "['Monday', 'Tuesday', 'Wednesday', 'Thursday', 'Friday']\n"
     ]
    }
   ],
   "source": [
    "#b\n",
    "weekdays = [\"Monday\", \"Tuesday\", \"Wednesday\", \"Thursday\", \"Friday\"]\n",
    "print(weekdays)"
   ]
  },
  {
   "cell_type": "code",
   "execution_count": 39,
   "id": "18ebef4e",
   "metadata": {},
   "outputs": [
    {
     "name": "stdout",
     "output_type": "stream",
     "text": [
      "Day        Food\n",
      "--------------------\n",
      "Monday     vegetarian lasagna\n",
      "Tuesday    spaghetti\n",
      "Wednesday  fish\n",
      "Thursday   soup\n",
      "Friday     pancakes\n"
     ]
    }
   ],
   "source": [
    "menu = [\n",
    "        (\"Monday\", \"vegetarian lasagna\"),\n",
    "        (\"Tuesday\", \"spaghetti\"),\n",
    "        (\"Wednesday\", \"fish\"),\n",
    "        (\"Thursday\", \"soup\"),\n",
    "        (\"Friday\", \"pancakes\")\n",
    "        ]\n",
    "\n",
    "print(\"Day        Food\")\n",
    "print(\"--------------------\")\n",
    "for day, food in menu:\n",
    "    print(f\"{day:<10} {food}\")"
   ]
  },
  {
   "cell_type": "markdown",
   "id": "653e9093",
   "metadata": {},
   "source": [
    "# 2. Squares (*)\n",
    "a) Use list comprehension to create a list of squares from -10 to 10 (*)\n",
    "\n",
    "b) Plot this list using matplotlib. (*)"
   ]
  },
  {
   "cell_type": "code",
   "execution_count": 1,
   "id": "6c2975ab",
   "metadata": {},
   "outputs": [
    {
     "name": "stdout",
     "output_type": "stream",
     "text": [
      "[100, 81, 64, 49, 36, 25, 16, 9, 4, 1, 0, 1, 4, 9, 16, 25, 36, 49, 64, 81, 100]\n"
     ]
    }
   ],
   "source": [
    "#a)\n",
    "squares = []\n",
    "\n",
    "squares = [x**2 for x in range (-10, 11)]\n",
    "print(squares)"
   ]
  },
  {
   "cell_type": "code",
   "execution_count": 4,
   "id": "a7b4f293",
   "metadata": {},
   "outputs": [
    {
     "data": {
      "image/png": "[encoded data removed]",
      "text/plain": [
       "<Figure size 640x480 with 1 Axes>"
      ]
     },
     "metadata": {},
     "output_type": "display_data"
    }
   ],
   "source": [
    "#b)\n",
    "import matplotlib.pyplot as plt\n",
    "\n",
    "x_values = list(range(-10, 11))\n",
    "squares = [x**2 for x in x_values]\n",
    "plt.plot(x_values, squares, marker='o')\n",
    "plt.title(\"Kvadrater från -10 till 10\")\n",
    "plt.xlabel(\"x\")\n",
    "plt.ylabel(\"x^2\")\n",
    "plt.grid(True)\n",
    "plt.show()"
   ]
  },
  {
   "cell_type": "markdown",
   "id": "96c24a85",
   "metadata": {},
   "source": [
    "## 3. Chessboard (\\*\\*)\n",
    "\n",
    "a) Create this list using **list comprehension**: (\\*)\n",
    "\n",
    "```python\n",
    "['A1', 'B1', 'C1', 'D1', 'E1', 'F1', 'G1', 'H1']\n",
    "```\n",
    "\n",
    "b) Create a 2D list to hold the coordinates in a chessboard like this (\\*\\*)\n",
    "\n",
    "```\n",
    "[[A1, B1, C1, D1, E1, F1, G1, H1],\n",
    " [A2, B2, C2, D2, E2, F2, G2, H2],\n",
    " [A3, B3, C3, D3, E3, F3, G3, H3],\n",
    " [A4, B4, C4, D4, E4, F4, G4, H4],\n",
    " [A5, B5, C5, D5, E5, F5, G5, H5],\n",
    " [A6, B6, C6, D6, E6, F6, G6, H6],\n",
    " [A7, B7, C7, D7, E7, F7, G7, H7],\n",
    " [A8, B8, C8, D8, E8, F8, G8 ,H8]]\n",
    "```"
   ]
  },
  {
   "cell_type": "code",
   "execution_count": 9,
   "id": "658dfeff",
   "metadata": {},
   "outputs": [
    {
     "name": "stdout",
     "output_type": "stream",
     "text": [
      "['A', 'B1', 'C1', 'D1', 'E', 'F1', 'G1', 'H1']\n"
     ]
    }
   ],
   "source": [
    "#a)\n",
    "chessboard = []\n",
    "chessboard = ['A', 'B1', 'C1', 'D1', 'E', 'F1', 'G1', 'H1']\n",
    "print(chessboard)"
   ]
  },
  {
   "cell_type": "code",
   "execution_count": 33,
   "id": "5f1d0f9b",
   "metadata": {},
   "outputs": [
    {
     "name": "stdout",
     "output_type": "stream",
     "text": [
      "['A1', 'B1', 'C1', 'D1', 'E1', 'F1', 'G1', 'H1']\n",
      "['A2', 'B2', 'C2', 'D2', 'E2', 'F2', 'G2', 'H2']\n",
      "['A3', 'B3', 'C3', 'D3', 'E3', 'F3', 'G3', 'H3']\n",
      "['A4', 'B4', 'C4', 'D4', 'E4', 'F4', 'G4', 'H4']\n",
      "['A5', 'B5', 'C5', 'D5', 'E5', 'F5', 'G5', 'H5']\n",
      "['A6', 'B6', 'C6', 'D6', 'E6', 'F6', 'G6', 'H6']\n",
      "['A7', 'B7', 'C7', 'D7', 'E7', 'F7', 'G7', 'H7']\n",
      "['A8', 'B8', 'C8', 'D8', 'E8', 'F8', 'G8', 'H8']\n"
     ]
    }
   ],
   "source": [
    "#b)\n",
    "\n",
    "letters = ['A', 'B', 'C', 'D', 'E', 'F', 'G', 'H']\n",
    "numbers = range(1, 9)\n",
    "chessboard = [[f\"{letter}{number}\" for letter in letters] for number in numbers]\n",
    "for row in chessboard:\n",
    "    print(row)"
   ]
  },
  {
   "cell_type": "markdown",
   "id": "f9c958c3",
   "metadata": {},
   "source": [
    "# c) Instead of lists use tuples to hold the coordinates in a chessboard like this (**)\n",
    "\n",
    "```\n",
    "((\"A\",1),(\"B\",1),(\"C\",1),(\"D\",1),(\"E\",1),(\"F\",1),(\"G\",1),(\"H\",1)),\n",
    "((\"A\",2),(\"B\",2),(\"C\",2),(\"D\",2),(\"E\",2),(\"F\",2),(\"G\",2),(\"H\",2)),\n",
    "((\"A\",3),(\"B\",3),(\"C\",3),(\"D\",3),(\"E\",3),(\"F\",3),(\"G\",3),(\"H\",3)),\n",
    "((\"A\",4),(\"B\",4),(\"C\",4),(\"D\",4),(\"E\",4),(\"F\",4),(\"G\",4),(\"H\",4)),\n",
    "((\"A\",5),(\"B\",5),(\"C\",5),(\"D\",5),(\"E\",5),(\"F\",5),(\"G\",5),(\"H\",5)),\n",
    "((\"A\",6),(\"B\",6),(\"C\",6),(\"D\",6),(\"E\",6),(\"F\",6),(\"G\",6),(\"H\",6)),\n",
    "((\"A\",7),(\"B\",7),(\"C\",7),(\"D\",7),(\"E\",7),(\"F\",7),(\"G\",7),(\"H\",7)),\n",
    "((\"A\",8),(\"B\",8),(\"C\",8),(\"D\",8),(\"E\",8),(\"F\",8),(\"G\",8),(\"H\",8))\n",
    "```"
   ]
  },
  {
   "cell_type": "code",
   "execution_count": null,
   "id": "62c17ac3",
   "metadata": {},
   "outputs": [
    {
     "name": "stdout",
     "output_type": "stream",
     "text": [
      "((\"A\", 1), (\"B\", 1), (\"C\", 1), (\"D\", 1), (\"E\", 1), (\"F\", 1), (\"G\", 1), (\"H\", 1)),\n",
      "((\"A\", 2), (\"B\", 2), (\"C\", 2), (\"D\", 2), (\"E\", 2), (\"F\", 2), (\"G\", 2), (\"H\", 2)),\n",
      "((\"A\", 3), (\"B\", 3), (\"C\", 3), (\"D\", 3), (\"E\", 3), (\"F\", 3), (\"G\", 3), (\"H\", 3)),\n",
      "((\"A\", 4), (\"B\", 4), (\"C\", 4), (\"D\", 4), (\"E\", 4), (\"F\", 4), (\"G\", 4), (\"H\", 4)),\n",
      "((\"A\", 5), (\"B\", 5), (\"C\", 5), (\"D\", 5), (\"E\", 5), (\"F\", 5), (\"G\", 5), (\"H\", 5)),\n",
      "((\"A\", 6), (\"B\", 6), (\"C\", 6), (\"D\", 6), (\"E\", 6), (\"F\", 6), (\"G\", 6), (\"H\", 6)),\n",
      "((\"A\", 7), (\"B\", 7), (\"C\", 7), (\"D\", 7), (\"E\", 7), (\"F\", 7), (\"G\", 7), (\"H\", 7)),\n",
      "((\"A\", 8), (\"B\", 8), (\"C\", 8), (\"D\", 8), (\"E\", 8), (\"F\", 8), (\"G\", 8), (\"H\", 8)),\n"
     ]
    }
   ],
   "source": [
    "letters = [\"A\", \"B\", \"C\", \"D\", \"E\", \"F\", \"G\", \"H\"]\n",
    "numbers = range(1, 9)\n",
    "\n",
    "chessboard = tuple(\n",
    "    tuple((letter,number) for letter in letters)\n",
    "    for number in numbers\n",
    ")\n",
    "\n",
    "for row in chessboard:\n",
    "    row_str = \", \".join(f'(\"{letter}\", {number})' for letter, number in row)\n",
    "    print(f\"({row_str})\")"
   ]
  },
  {
   "cell_type": "code",
   "execution_count": 39,
   "id": "243f4d5b",
   "metadata": {},
   "outputs": [
    {
     "name": "stdout",
     "output_type": "stream",
     "text": [
      "['Klave', 'Klave', 'Krona', 'Krona', 'Klave', 'Krona', 'Krona', 'Krona', 'Klave', 'Klave', 'Krona', 'Klave', 'Klave', 'Krona', 'Krona']\n",
      "['Klave', 'Klave', 'Klave', 'Klave', 'Klave', 'Klave', 'Klave', 'Krona', 'Krona', 'Krona', 'Krona', 'Krona', 'Krona', 'Krona', 'Krona']\n"
     ]
    }
   ],
   "source": [
    "import random\n",
    "\n",
    "myntkast = []\n",
    "\n",
    "myntkast = [random.choice([\"Krona\", \"Klave\"]) for _ in range(15)]\n",
    "    \n",
    "print(myntkast)\n",
    "\n",
    "myntkast.sort()\n",
    "\n",
    "print(myntkast)\n"
   ]
  },
  {
   "cell_type": "code",
   "execution_count": 64,
   "id": "522c285a",
   "metadata": {},
   "outputs": [
    {
     "name": "stdout",
     "output_type": "stream",
     "text": [
      "19\n",
      "-8\n",
      "2.2\n"
     ]
    }
   ],
   "source": [
    "temp = []\n",
    "\n",
    "for _ in range(5):\n",
    "    temp.append(random.randint(-10, 35))\n",
    "högsta = max(temp)\n",
    "lägsta = min(temp)\n",
    "genomsnitt = sum(temp) / len(temp)\n",
    "\n",
    "print(högsta)\n",
    "print(lägsta)\n",
    "print(genomsnitt)"
   ]
  },
  {
   "cell_type": "code",
   "execution_count": 66,
   "id": "ff70ca46",
   "metadata": {},
   "outputs": [
    {
     "name": "stdout",
     "output_type": "stream",
     "text": [
      "[15, 9]\n",
      "9\n"
     ]
    }
   ],
   "source": [
    "temp = []\n",
    "\n",
    "temp = [random.randint(-10, 35) for _ in range (2)]\n",
    "print(temp)\n",
    "\n",
    "lägsta = min(temp)\n",
    "\n",
    "temp.sort()\n",
    "\n",
    "print(lägsta)"
   ]
  },
  {
   "cell_type": "code",
   "execution_count": null,
   "id": "9cc70ff8",
   "metadata": {},
   "outputs": [],
   "source": []
  }
 ],
 "metadata": {
  "kernelspec": {
   "display_name": "Python 3",
   "language": "python",
   "name": "python3"
  },
  "language_info": {
   "codemirror_mode": {
    "name": "ipython",
    "version": 3
   },
   "file_extension": ".py",
   "mimetype": "text/x-python",
   "name": "python",
   "nbconvert_exporter": "python",
   "pygments_lexer": "ipython3",
   "version": "3.12.10"
  }
 },
 "nbformat": 4,
 "nbformat_minor": 5
}

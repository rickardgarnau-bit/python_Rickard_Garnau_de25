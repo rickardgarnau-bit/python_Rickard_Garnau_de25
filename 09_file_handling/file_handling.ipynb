{
 "cells": [
  {
   "cell_type": "markdown",
   "id": "55d31353",
   "metadata": {},
   "source": [
    "# Lecture 9 - file handling\n",
    "- reading text files (.txt)\n",
    "- we need to \n",
    "    - read the file\n",
    "    - clean contents\n",
    "    -write the clean contents to a new text file\n",
    "- we now focus on text/string contents\n"
   ]
  },
  {
   "cell_type": "markdown",
   "id": "aec7c365",
   "metadata": {},
   "source": [
    "### Read file"
   ]
  },
  {
   "cell_type": "markdown",
   "id": "baffd9f5",
   "metadata": {},
   "source": [
    "#### Open the file directly"
   ]
  },
  {
   "cell_type": "markdown",
   "id": "b48d6bd6",
   "metadata": {},
   "source": [
    "#### Open the file with `with` statement"
   ]
  },
  {
   "cell_type": "code",
   "execution_count": 19,
   "id": "da87d7c5",
   "metadata": {},
   "outputs": [
    {
     "name": "stdout",
     "output_type": "stream",
     "text": [
      "fesdefsd\n",
      "dsfsdf\n",
      "dsfsdf\n",
      "\n",
      "\n",
      "#### Open the file with `with` statement\n"
     ]
    }
   ],
   "source": [
    "\n",
    "f = open(\"test.txt\", \"r\")  # <-- put \"r\" inside the parentheses\n",
    "\n",
    "# Save the contents of the file in a variable\n",
    "text = f.read()\n",
    "print(text)\n",
    "\n",
    "f.close()\n",
    "\n"
   ]
  },
  {
   "cell_type": "code",
   "execution_count": 21,
   "id": "fa00601d",
   "metadata": {},
   "outputs": [
    {
     "name": "stdout",
     "output_type": "stream",
     "text": [
      "fesdefsd\n",
      "dsfsdf\n",
      "dsfsdf\n",
      "\n",
      "\n",
      "#### Open the file with `with` statement\n"
     ]
    }
   ],
   "source": [
    "with open(\"test.txt\" ,\"r\") as f:\n",
    "    text = f.read()\n",
    "\n",
    "print(text)"
   ]
  },
  {
   "cell_type": "code",
   "execution_count": null,
   "id": "914fce73",
   "metadata": {},
   "outputs": [],
   "source": []
  }
 ],
 "metadata": {
  "kernelspec": {
   "display_name": "09_file_handling",
   "language": "python",
   "name": "python3"
  },
  "language_info": {
   "codemirror_mode": {
    "name": "ipython",
    "version": 3
   },
   "file_extension": ".py",
   "mimetype": "text/x-python",
   "name": "python",
   "nbconvert_exporter": "python",
   "pygments_lexer": "ipython3",
   "version": "3.12.10"
  }
 },
 "nbformat": 4,
 "nbformat_minor": 5
}

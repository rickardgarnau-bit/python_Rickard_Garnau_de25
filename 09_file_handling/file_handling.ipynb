{
 "cells": [
  {
   "cell_type": "markdown",
   "id": "55d31353",
   "metadata": {},
   "source": [
    "# Lecture 9 - file handling\n",
    "- reading text files (.txt)\n",
    "- we need to \n",
    "    - read the file\n",
    "    - clean contents\n",
    "    -write the clean contents to a new text file\n",
    "- we now focus on text/string contents\n"
   ]
  },
  {
   "cell_type": "markdown",
   "id": "aec7c365",
   "metadata": {},
   "source": [
    "### Read file"
   ]
  },
  {
   "cell_type": "markdown",
   "id": "baffd9f5",
   "metadata": {},
   "source": [
    "#### Open the file directly"
   ]
  },
  {
   "cell_type": "code",
   "execution_count": 16,
   "id": "da87d7c5",
   "metadata": {},
   "outputs": [
    {
     "name": "stdout",
     "output_type": "stream",
     "text": [
      "fesdefsd\n",
      "dsfsdf\n",
      "dsfsdf\n",
      "\n",
      "\n",
      "#### Open the file with `with` statement\n"
     ]
    }
   ],
   "source": [
    "\n",
    "f = open(\"test.txt\", \"r\")  # <-- put \"r\" inside the parentheses\n",
    "\n",
    "# Save the contents of the file in a variable\n",
    "text = f.read()\n",
    "print(text)\n",
    "\n",
    "f.close()\n",
    "\n"
   ]
  },
  {
   "cell_type": "markdown",
   "id": "a46bfc3f",
   "metadata": {},
   "source": [
    "### Open the file with `with` statement"
   ]
  },
  {
   "cell_type": "code",
   "execution_count": 17,
   "id": "fa00601d",
   "metadata": {},
   "outputs": [
    {
     "name": "stdout",
     "output_type": "stream",
     "text": [
      "fesdefsd\n",
      "dsfsdf\n",
      "dsfsdf\n",
      "\n",
      "\n",
      "#### Open the file with `with` statement\n"
     ]
    }
   ],
   "source": [
    "with open(\"test.txt\" ,\"r\") as f:\n",
    "    text = f.read()\n",
    "    # with statement will close the file automatically\n",
    "\n",
    "print(text)"
   ]
  },
  {
   "cell_type": "markdown",
   "id": "76cdb5c5",
   "metadata": {},
   "source": [
    "### Clean the quotes file"
   ]
  },
  {
   "cell_type": "code",
   "execution_count": 18,
   "id": "c2acf5e0",
   "metadata": {},
   "outputs": [],
   "source": [
    "# we will use regular expression package to clean string contents\n",
    "import re"
   ]
  },
  {
   "cell_type": "code",
   "execution_count": 20,
   "id": "914fce73",
   "metadata": {},
   "outputs": [],
   "source": [
    "# create and empty list for saving quotes\n",
    "\n",
    "quotes = []\n",
    "\n",
    "# initiate a quote number\n",
    "\n",
    "i = 1"
   ]
  },
  {
   "cell_type": "code",
   "execution_count": null,
   "id": "0c047b04",
   "metadata": {},
   "outputs": [
    {
     "name": "stdout",
     "output_type": "stream",
     "text": [
      "<_io.TextIOWrapper name='quotes.txt' mode='r' encoding='cp1252'>\n",
      "  If     we     knew what it was      we were doing, it would not be called research,          would it?     - Albert Einstein\n",
      "\n",
      "Time is a drug. Too       much of it kills you.  -  Terry Pratchett\n",
      "\n",
      "\n",
      " An expert is a person who       has made all the mistakes that           can be made in a          very narrow field - Niels Bohr\n",
      "\n",
      "   Everything must be made as simple as possible. But not simpler. - Albert Einstein     \n",
      "\n",
      "\n",
      "  Nothing in life                is to be feared, it is only to be understood. Now is the time to understand more, so that we may fear less. - Marie  Curie  \n",
      "\n",
      "If I have seen further     it is by standing on the shoulders of Giants. - Isaac Newton\n"
     ]
    }
   ],
   "source": [
    "# open the file\n",
    "# comparing the use of absolute and relative paths\n",
    "\n",
    "# print out all the contents at once\n",
    "with open(\"quotes.txt\" ,\"r\") as f_read:\n",
    "    quotes = f_read.read()\n",
    "\n",
    "print(f_read) # what you can see from just opening the file\n",
    "print(quotes) # what you can see from aplying the read() method on the same file"
   ]
  },
  {
   "cell_type": "code",
   "execution_count": null,
   "id": "f8711cc9",
   "metadata": {},
   "outputs": [
    {
     "name": "stdout",
     "output_type": "stream",
     "text": [
      "If     we     knew what it was      we were doing, it would not be called research,          would it?     - Albert Einstein\n",
      "\n",
      "Time is a drug. Too       much of it kills you.  -  Terry Pratchett\n",
      "\n",
      "\n",
      "An expert is a person who       has made all the mistakes that           can be made in a          very narrow field - Niels Bohr\n",
      "\n",
      "Everything must be made as simple as possible. But not simpler. - Albert Einstein\n",
      "\n",
      "\n",
      "Nothing in life                is to be feared, it is only to be understood. Now is the time to understand more, so that we may fear less. - Marie  Curie\n",
      "\n",
      "If I have seen further     it is by standing on the shoulders of Giants. - Isaac Newton\n"
     ]
    }
   ],
   "source": [
    "# loop through lines in the file contents\n",
    "with open(\"quotes.txt\" ,\"r\") as f_read:\n",
    "    for quote in f_read:\n",
    "        # data cleaning\n",
    "        quote = quote.strip(\" \\n\") # replace the q with a modified q\n",
    "\n",
    "\n",
    "        # print each line\n",
    "        print(quote)"
   ]
  },
  {
   "cell_type": "code",
   "execution_count": null,
   "id": "18fa6aa8",
   "metadata": {},
   "outputs": [],
   "source": []
  }
 ],
 "metadata": {
  "kernelspec": {
   "display_name": "09_file_handling",
   "language": "python",
   "name": "python3"
  },
  "language_info": {
   "codemirror_mode": {
    "name": "ipython",
    "version": 3
   },
   "file_extension": ".py",
   "mimetype": "text/x-python",
   "name": "python",
   "nbconvert_exporter": "python",
   "pygments_lexer": "ipython3",
   "version": "3.12.10"
  }
 },
 "nbformat": 4,
 "nbformat_minor": 5
}

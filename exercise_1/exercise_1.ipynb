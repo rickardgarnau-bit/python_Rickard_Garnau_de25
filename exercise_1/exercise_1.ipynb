{
 "cells": [
  {
   "cell_type": "markdown",
   "id": "1152f5de",
   "metadata": {},
   "source": [
    "# 0. Pythagorean theorem (*)\n",
    "a) A right angled triangle has the catheti: a = 3 and b = 4 length units. Compute the hypothenuse of the triangle. (*)\n",
    "\n",
    "b) A right angled triangle has hypothenuse c = 7.0 and a cathetus a = 5.0 length units. Compute the other cathetus and round to one decimal. (*)"
   ]
  },
  {
   "cell_type": "code",
   "execution_count": 8,
   "id": "3e85a85e",
   "metadata": {},
   "outputs": [
    {
     "name": "stdout",
     "output_type": "stream",
     "text": [
      "Hypothenus is 5.0\n"
     ]
    }
   ],
   "source": [
    "import math\n",
    "a = 3\n",
    "b = 4\n",
    "\n",
    "c = math.sqrt(a**2 + b**2)\n",
    "\n",
    "print(f\"Hypothenus is {c:.1f}\")"
   ]
  },
  {
   "cell_type": "code",
   "execution_count": 11,
   "id": "d3ae9cdd",
   "metadata": {},
   "outputs": [
    {
     "name": "stdout",
     "output_type": "stream",
     "text": [
      "The cathetus is 4.9\n"
     ]
    }
   ],
   "source": [
    "c = 7.0\n",
    "a = 5.0\n",
    "\n",
    "b = math.sqrt(c**2 - a**2)\n",
    "print(f\"The cathetus is {b:.1f}\")"
   ]
  },
  {
   "cell_type": "markdown",
   "id": "79433bf1",
   "metadata": {},
   "source": [
    "# 1. Classification accuracy (*)\n",
    "A machine learning algorithm has been trained to predict whether or not it would rain the next day. Out of 365 predictions, it got 300 correct, compute the accuracy of this model."
   ]
  },
  {
   "cell_type": "code",
   "execution_count": null,
   "id": "1cb4a1cf",
   "metadata": {},
   "outputs": [
    {
     "name": "stdout",
     "output_type": "stream",
     "text": [
      "82.2 percent accuracy\n",
      "82.2 percent accuracy\n"
     ]
    }
   ],
   "source": [
    "# en variant\n",
    "num1 = 365\n",
    "num2 = 300\n",
    "\n",
    "prediction = num2 / num1 * 100\n",
    "\n",
    "print(f'{prediction:.1f} percent accuracy')\n",
    "\n",
    "# kortare variant \n",
    "correct, total = 300, 365\n",
    "\n",
    "print(f'{correct/total*100:.1f} percent accuracy')"
   ]
  },
  {
   "cell_type": "markdown",
   "id": "df022109",
   "metadata": {},
   "source": [
    "# 2. Classification accuracy (*)\n",
    "A machine learning model has been trained to detect fire. Here is the result of its predictions:\n",
    "\n",
    "Is this a good model? Why? Why not?"
   ]
  },
  {
   "cell_type": "code",
   "execution_count": 36,
   "id": "57c7a3b1",
   "metadata": {},
   "outputs": [
    {
     "name": "stdout",
     "output_type": "stream",
     "text": [
      "The model had an accuracy of 98.7 %\n",
      "The model only caught 15.4 % of the actual fires\n"
     ]
    }
   ],
   "source": [
    "tp = 2\n",
    "tn = 985\n",
    "fn = 11\n",
    "fp = 2\n",
    "\n",
    "accuracy = (tp + tn) / (tp + tn + fn + fp)*100\n",
    "\n",
    "print(f\"The model had an accuracy of {accuracy} %\")\n",
    "\n",
    "# Why this i a bad model\n",
    "recall = tp / (tp + fn) * 100\n",
    "\n",
    "print(f\"The model only caught {recall:.1f} % of the actual fires\")\n"
   ]
  },
  {
   "cell_type": "markdown",
   "id": "0528b05b",
   "metadata": {},
   "source": [
    "# 3. File metadata - format print (*)\n",
    "There is a file with the following metadata:\n",
    "\n",
    "name: orders_data.csv\n",
    "file size: 3.14mb\n",
    "modified 2024\n",
    "Create variables for each of them and print out the following to the screen\n",
    "\n",
    "=== File metadata ===\n",
    "Filename: sales_data.csv\n",
    "Size (MB): 24.7\n",
    "Last Modified Year: 2023"
   ]
  },
  {
   "cell_type": "code",
   "execution_count": 40,
   "id": "a4e7e6a0",
   "metadata": {},
   "outputs": [
    {
     "name": "stdout",
     "output_type": "stream",
     "text": [
      "=== File metadata ===\n",
      "Filename: sales_data.csv\n",
      "Size MB: 24.7\n",
      "Last Modified Year: 2023\n"
     ]
    }
   ],
   "source": [
    "file_name = \"sales_data.csv\"\n",
    "size_mb = 24.7\n",
    "modified_year = 2023\n",
    "\n",
    "print(\"=== File metadata ===\")\n",
    "print(f\"Filename: {file_name}\")\n",
    "print(f\"Size MB: {size_mb}\")\n",
    "print(f\"Last Modified Year: {modified_year}\")\n"
   ]
  },
  {
   "cell_type": "markdown",
   "id": "88d0731f",
   "metadata": {},
   "source": [
    "# 4. Unit converter - inch to cm (*)\n",
    "Screen sizes are defined using inches for example my computer has 15'' and it corresponds to the diagonal of the screen. Let the user type in a value in inches and output the result in centimeters."
   ]
  },
  {
   "cell_type": "code",
   "execution_count": 42,
   "id": "6155f44f",
   "metadata": {},
   "outputs": [
    {
     "name": "stdout",
     "output_type": "stream",
     "text": [
      "15.0 inches is 38.10 in centimeter\n"
     ]
    }
   ],
   "source": [
    "inches = float(input(\"How many inches is your screen?: \"))\n",
    "cm = inches * 2.54\n",
    "print(f\"{inches} inches is {cm:.2f} in centimeter\")\n",
    "\n"
   ]
  },
  {
   "cell_type": "markdown",
   "id": "568901c0",
   "metadata": {},
   "source": [
    "# 5. Count characters in a text (*)\n",
    "Create a program to let a user input a text, count the number of characters and print it out to the screen. Space can also be counted as a character here.\n",
    "\n",
    "Hint: len() function"
   ]
  },
  {
   "cell_type": "code",
   "execution_count": 43,
   "id": "d315274a",
   "metadata": {},
   "outputs": [
    {
     "name": "stdout",
     "output_type": "stream",
     "text": [
      "The number of characters in your safeword is 13 characters\n"
     ]
    }
   ],
   "source": [
    "characters = len(input(\"Choose a safeword: \"))\n",
    "print(f\"The number of characters in your safeword is {characters} characters\")"
   ]
  },
  {
   "cell_type": "markdown",
   "id": "a24e83ad",
   "metadata": {},
   "source": [
    "# 6. Data types (*)\n",
    "Create variables of type bool, int, float, str and list. Then use type function and check each variables type.\n",
    "\n",
    "radius = 5 has type <class 'int'>\n",
    "PI = 3.1415 has type <class 'float'>\n",
    "cool_subject = 'math' has type <class 'str'>\n",
    "is_cool = True has type <class 'bool'>\n",
    "numbers = [1, 2, 41, 2] has type <class 'list'>"
   ]
  },
  {
   "cell_type": "code",
   "execution_count": 48,
   "id": "f2aaba61",
   "metadata": {},
   "outputs": [
    {
     "name": "stdout",
     "output_type": "stream",
     "text": [
      "radius = 5 has type <class 'int'>\n",
      "pi = 3.1415 has type <class 'float'>\n",
      "cool_subject = math has type <class 'str'>\n",
      "is_cool = True has type <class 'bool'>\n",
      "numbers = [1, 2, 3, 4, 5] has type <class 'list'>\n"
     ]
    }
   ],
   "source": [
    "radius = 5\n",
    "pi = 3.1415\n",
    "cool_subject = 'math'\n",
    "is_cool = True\n",
    "numbers = [1, 2, 3, 4, 5]\n",
    "print(f\"radius = {radius} has type {type(radius)}\")\n",
    "print(f\"pi = {pi} has type {type(pi)}\")\n",
    "print(f\"cool_subject = {cool_subject} has type {type(cool_subject)}\")\n",
    "print(f\"is_cool = {is_cool} has type {type(is_cool)}\")\n",
    "print(f\"numbers = {numbers} has type {type(numbers)}\")"
   ]
  },
  {
   "cell_type": "markdown",
   "id": "866b7d5b",
   "metadata": {},
   "source": [
    "7. Theory\n",
    "a) What is the difference between input() and print() in Python?\n",
    "\n",
    "b) What data type does the input() function return by default? How can you use it to get numeric input?\n",
    "\n",
    "c) Explain how formatted string literals (f-strings) improve readability in output statements. Give an example.\n",
    "\n",
    "d) Can a variable change its data type during runtime in Python? Show an example.\n",
    "\n",
    "e) What does it mean that Python is \"dynamically typed\"? How is that different from statically typed languages?"
   ]
  },
  {
   "cell_type": "markdown",
   "id": "8016e748",
   "metadata": {},
   "source": [
    "###### a) input() let's the user type in something, print() Writes out what the user writes\n",
    "###### b) It returns a string. You can type either int or float infront of the input()\n",
    "###### c) It let's you put variables directly in the text, you don't need to convert\n",
    "###### d) Yes.\n",
    "######    x = 5\n",
    "######    type(x) 'int'\n",
    "######    x = 'Hej'\n",
    "######    type(x) 'str'\n",
    "###### e) The types runs automatically without the need to declare it. You have to specify the type in other statical languages and you can't   ######    change it later "
   ]
  }
 ],
 "metadata": {
  "kernelspec": {
   "display_name": "exercise_1",
   "language": "python",
   "name": "python3"
  },
  "language_info": {
   "codemirror_mode": {
    "name": "ipython",
    "version": 3
   },
   "file_extension": ".py",
   "mimetype": "text/x-python",
   "name": "python",
   "nbconvert_exporter": "python",
   "pygments_lexer": "ipython3",
   "version": "3.12.10"
  }
 },
 "nbformat": 4,
 "nbformat_minor": 5
}

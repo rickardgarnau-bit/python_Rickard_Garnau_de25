{
 "cells": [
  {
   "cell_type": "markdown",
   "id": "a4314df9",
   "metadata": {},
   "source": [
    "# 3 dagars inlärningsplan: OOP-fundamenta i Python"
   ]
  },
  {
   "cell_type": "markdown",
   "id": "129e2d05",
   "metadata": {},
   "source": [
    "#### Dag 1"
   ]
  },
  {
   "cell_type": "code",
   "execution_count": null,
   "id": "e41dae2d",
   "metadata": {},
   "outputs": [],
   "source": [
    "# Vad betyder class? En klass är som en ritning som säger vilket projekt du ska bygga.\n",
    "# Vad gör en __int__? Den startar koden, dvs allt som skrivs ut därefter registreras.\n",
    "# Varför används self? Det används för att ange vilka egenskaper/attribut som behövs\n",
    "# Vad är ett objekt (eller instans)? Ett objekt är det som ska skapas efter ritningen"
   ]
  },
  {
   "cell_type": "code",
   "execution_count": null,
   "id": "a443011e",
   "metadata": {},
   "outputs": [
    {
     "name": "stdout",
     "output_type": "stream",
     "text": [
      "Porsche 911 goes fast\n",
      "Volvo v60 goes fast\n"
     ]
    }
   ],
   "source": [
    "class Car:\n",
    "    def __init__(self, brand, model, year):\n",
    "        self.brand = brand\n",
    "        self.model = model\n",
    "        self.year = year\n",
    "\n",
    "    def drive(self):\n",
    "        print(f\"{self.brand} {self.model} goes fast\")\n",
    "\n",
    "car1 = Car(\"Porsche\", \"911\", 2018)\n",
    "car2 = Car(\"Volvo\", \"v60\", 2007)\n",
    "\n",
    "car1.drive()\n",
    "car2.drive()\n",
    "\n",
    "# Sååå här har jag skapat en klass/ritning/recept som körs direkt genom __init__, med egenskaperna\n",
    "# eller attributerna (). Jag skapade en method som talar om vad objektet car1, car2 gör och printar ut det."
   ]
  },
  {
   "cell_type": "markdown",
   "id": "bf45824a",
   "metadata": {},
   "source": [
    "##### Dag 2"
   ]
  },
  {
   "cell_type": "code",
   "execution_count": null,
   "id": "b47e2834",
   "metadata": {},
   "outputs": [],
   "source": [
    "# __repr__ är till för att visa andra utvecklar hur man har gått tillväga för att skapa något.\n",
    "# __str__ är till för att presentera den man har gjort på ett snyggt sätt för användaren."
   ]
  },
  {
   "cell_type": "code",
   "execution_count": null,
   "id": "722b0744",
   "metadata": {},
   "outputs": [
    {
     "name": "stdout",
     "output_type": "stream",
     "text": [
      "The Porsche from 2018 goes VERY FAST, VROOOOM\n",
      "The Volvo from 2007 goes VERY FAST, VROOOOM\n"
     ]
    }
   ],
   "source": [
    "class Car: # Skapat en klass eller ritning av en Bil\n",
    "    def __init__(self, brand, model, year): # Objektet startas tsm med attributen ()\n",
    "        self.brand = brand # Denna bils märke   \n",
    "        self.model = model # Denna bils model\n",
    "        self.year = year # Årgången för denna bil\n",
    "\n",
    "    def drive(self): # Metod för göra något, ex köra snabbt\n",
    "        print(f\"{self.brand} {self.model} goes fast\")\n",
    "        \n",
    "    def __repr__(self): # Metod för att visa andra utvecklare hur jag gått tillväga för att skapa objektet\n",
    "        return f\"Car(name='{self.brand}', model='{self.model}', year={self.year})\"\n",
    "    \n",
    "    def __str__(self):\n",
    "        return f\"The {self.brand} from {self.year} goes VERY FAST, VROOOOM\" # Metod för att skriva ut vad objektet är och gör\n",
    "\n",
    "\n",
    "car1 = Car(\"Porsche\", \"911\", 2018)\n",
    "car2 = Car(\"Volvo\", \"v60\", 2007)\n",
    "\n",
    "print(car1)\n",
    "print(car2)\n",
    "\n",
    "# car1 använder __repr__ för att visa utvecklingen av koden\n",
    "# car2 använder __str__ för att presentera utskriften av koden\n",
    "# print(car1) använder __str__ först och främst, sedan __repr__ som fallback\n",
    "# repr(car1) skriver direkt ut utveckling av objektet\n"
   ]
  },
  {
   "cell_type": "markdown",
   "id": "fb364edb",
   "metadata": {},
   "source": [
    "#### Dag 3"
   ]
  },
  {
   "cell_type": "code",
   "execution_count": 74,
   "id": "cb9f92eb",
   "metadata": {},
   "outputs": [
    {
     "data": {
      "text/plain": [
       "\"Gamecharacter(name ='Super-Mario', power = 'Rörmokeri', height = 140, nemesis = 'Bowser')\""
      ]
     },
     "execution_count": 74,
     "metadata": {},
     "output_type": "execute_result"
    }
   ],
   "source": [
    "class GameCharacter:\n",
    "    def __init__(self, name, power, height, nemesis):\n",
    "        self.name = name\n",
    "        self.power = power\n",
    "        self.height = height\n",
    "        self.nemesis = nemesis\n",
    "    \n",
    "    def fight(self):\n",
    "        print(f\"{self.name} fights {self.nemesis}\")\n",
    "    \n",
    "    def __repr__(self):\n",
    "        return f\"Gamecharacter(name ='{self.name}', power = '{self.power}', height = {self.height}, nemesis = '{self.nemesis}')\"\n",
    "\n",
    "    def __str__(self):\n",
    "        return(f\"Our {self.height} cm tall Hero, {self.name} uses his {self.power} to beat {self.nemesis}. It's unbelievable!\")\n",
    "\n",
    "hero1 = GameCharacter(\"Super-Mario\", \"Rörmokeri\", 140, \"Bowser\")\n",
    "\n",
    "str(hero1)\n",
    "repr(hero1)"
   ]
  },
  {
   "cell_type": "markdown",
   "id": "ac3fc983",
   "metadata": {},
   "source": [
    "# OOP - Corey Schafer video tutorial 2"
   ]
  },
  {
   "cell_type": "code",
   "execution_count": null,
   "id": "bfd10ced",
   "metadata": {},
   "outputs": [
    {
     "name": "stdout",
     "output_type": "stream",
     "text": [
      "1.04\n",
      "1.04\n",
      "1.04\n",
      "2\n"
     ]
    }
   ],
   "source": [
    "class Employee:\n",
    "\n",
    "    # Klassvariabler – gemensamma för alla instanser av klassen\n",
    "    num_of_emps = 0        # Räknar hur många anställda som skapas\n",
    "    raise_amount = 1.04    # Standard höjningsfaktor för alla anställda\n",
    "\n",
    "    def __init__(self, first, last, pay):\n",
    "        # Instansvariabler – unika för varje objekt/anställd\n",
    "        self.first = first        # Förnamn\n",
    "        self.last = last          # Efternamn\n",
    "        self.pay = pay            # Lön\n",
    "        self.email = first + '.' + last + '@company.com'  # Skapar email automatiskt\n",
    "\n",
    "        # Öka klassvariabeln varje gång en ny instans skapas\n",
    "        Employee.num_of_emps += 1\n",
    "\n",
    "    # Metod som returnerar fullständigt namn\n",
    "    def fullname(self):\n",
    "        return '{} {}'.format(self.first, self.last)\n",
    "\n",
    "    # Metod som höjer lönen med raise_amount\n",
    "    def apply_raise(self):\n",
    "        # self.raise_amount → kollar först om instansen har egen raise_amount,\n",
    "        # annars används klassens raise_amount\n",
    "        self.pay = int(self.pay * self.raise_amount) \n",
    "\n",
    "    @classmethod\n",
    "    def sef_raise_amount(cls, amount):\n",
    "        pass \n",
    "\n",
    "# Skapar två instanser/objekt\n",
    "emp1 = Employee('Corey', 'Schafer', 50000)\n",
    "emp2 = Employee('Test', 'Tester', 60000)\n",
    "\n",
    "# Klassvariabler kan nås via klassen eller instansen\n",
    "print(Employee.raise_amount)  # → 1.04 (klassens värde)\n",
    "print(emp1.raise_amount)      # → 1.04 (ärver klassens värde)\n",
    "print(emp2.raise_amount)      # → 1.04 (ärver klassens värde)\n",
    "\n",
    "# Klassvariabeln som räknar antalet instanser\n",
    "print(Employee.num_of_emps)   # → 2 (två instanser skapade)\n"
   ]
  },
  {
   "cell_type": "code",
   "execution_count": null,
   "id": "ac095c34",
   "metadata": {},
   "outputs": [],
   "source": []
  }
 ],
 "metadata": {
  "kernelspec": {
   "display_name": "Python 3",
   "language": "python",
   "name": "python3"
  },
  "language_info": {
   "codemirror_mode": {
    "name": "ipython",
    "version": 3
   },
   "file_extension": ".py",
   "mimetype": "text/x-python",
   "name": "python",
   "nbconvert_exporter": "python",
   "pygments_lexer": "ipython3",
   "version": "3.12.10"
  }
 },
 "nbformat": 4,
 "nbformat_minor": 5
}

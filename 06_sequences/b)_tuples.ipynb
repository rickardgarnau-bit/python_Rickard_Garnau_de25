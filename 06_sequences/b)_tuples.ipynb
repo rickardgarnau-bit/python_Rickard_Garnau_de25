{
 "cells": [
  {
   "cell_type": "markdown",
   "id": "34805afd",
   "metadata": {},
   "source": [
    "##### Lecture 6b - Tuples\n",
    "- less flexible than list\n",
    "- but better performance in list"
   ]
  },
  {
   "cell_type": "markdown",
   "id": "10ae52bc",
   "metadata": {},
   "source": [
    "##### Creata a tuple"
   ]
  },
  {
   "cell_type": "code",
   "execution_count": 2,
   "id": "123789da",
   "metadata": {},
   "outputs": [],
   "source": [
    "fruits = (\"apple\", \"orange\", \"banana\", \"peach\")"
   ]
  },
  {
   "cell_type": "markdown",
   "id": "5711d84d",
   "metadata": {},
   "source": [
    "##### Acces an item (indexing)"
   ]
  },
  {
   "cell_type": "code",
   "execution_count": 3,
   "id": "a90af6f8",
   "metadata": {},
   "outputs": [
    {
     "data": {
      "text/plain": [
       "'apple'"
      ]
     },
     "execution_count": 3,
     "metadata": {},
     "output_type": "execute_result"
    }
   ],
   "source": [
    "fruits[0]"
   ]
  },
  {
   "cell_type": "markdown",
   "id": "31e0ee5d",
   "metadata": {},
   "source": [
    "##### Accesing multiple items (slicing)"
   ]
  },
  {
   "cell_type": "code",
   "execution_count": 4,
   "id": "ae0f865d",
   "metadata": {},
   "outputs": [
    {
     "data": {
      "text/plain": [
       "('apple', 'orange')"
      ]
     },
     "execution_count": 4,
     "metadata": {},
     "output_type": "execute_result"
    }
   ],
   "source": [
    "fruits[0:2]"
   ]
  },
  {
   "cell_type": "markdown",
   "id": "6bb5ca76",
   "metadata": {},
   "source": [
    "##### Cannot change the value of an item of a tuple"
   ]
  },
  {
   "cell_type": "code",
   "execution_count": 6,
   "id": "bf33968e",
   "metadata": {},
   "outputs": [
    {
     "ename": "TypeError",
     "evalue": "'tuple' object does not support item assignment",
     "output_type": "error",
     "traceback": [
      "\u001b[31m---------------------------------------------------------------------------\u001b[39m",
      "\u001b[31mTypeError\u001b[39m                                 Traceback (most recent call last)",
      "\u001b[36mCell\u001b[39m\u001b[36m \u001b[39m\u001b[32mIn[6]\u001b[39m\u001b[32m, line 1\u001b[39m\n\u001b[32m----> \u001b[39m\u001b[32m1\u001b[39m \u001b[43mfruits\u001b[49m\u001b[43m[\u001b[49m\u001b[32;43m0\u001b[39;49m\u001b[43m]\u001b[49m = \u001b[33m'\u001b[39m\u001b[33mgrape\u001b[39m\u001b[33m'\u001b[39m\n",
      "\u001b[31mTypeError\u001b[39m: 'tuple' object does not support item assignment"
     ]
    }
   ],
   "source": [
    "fruits[0] = 'grape'"
   ]
  },
  {
   "cell_type": "code",
   "execution_count": null,
   "id": "7564c718",
   "metadata": {},
   "outputs": [],
   "source": []
  }
 ],
 "metadata": {
  "kernelspec": {
   "display_name": "Python 3",
   "language": "python",
   "name": "python3"
  },
  "language_info": {
   "codemirror_mode": {
    "name": "ipython",
    "version": 3
   },
   "file_extension": ".py",
   "mimetype": "text/x-python",
   "name": "python",
   "nbconvert_exporter": "python",
   "pygments_lexer": "ipython3",
   "version": "3.12.10"
  }
 },
 "nbformat": 4,
 "nbformat_minor": 5
}

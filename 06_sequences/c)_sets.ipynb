{
 "cells": [
  {
   "cell_type": "markdown",
   "id": "d0e9a88c",
   "metadata": {},
   "source": [
    "# Lecture 6c - Set\n",
    "- object for those working with matchematical sets"
   ]
  },
  {
   "cell_type": "markdown",
   "id": "11bad85c",
   "metadata": {},
   "source": [
    "##### create a set"
   ]
  },
  {
   "cell_type": "code",
   "execution_count": 1,
   "id": "a36ba3cf",
   "metadata": {},
   "outputs": [
    {
     "data": {
      "text/plain": [
       "['anna@example.com', 'bobo@example.com', 'carl@example.com']"
      ]
     },
     "execution_count": 1,
     "metadata": {},
     "output_type": "execute_result"
    }
   ],
   "source": [
    "# Create a list of emails with duplicates\n",
    "\n",
    "emails = ['anna@example.com', 'bobo@example.com', 'carl@example.com']\n",
    "\n",
    "emails"
   ]
  },
  {
   "cell_type": "code",
   "execution_count": 2,
   "id": "409281b9",
   "metadata": {},
   "outputs": [
    {
     "data": {
      "text/plain": [
       "{'anna@example.com', 'bobo@example.com', 'carl@example.com'}"
      ]
     },
     "execution_count": 2,
     "metadata": {},
     "output_type": "execute_result"
    }
   ],
   "source": [
    "# use the items in the list to create a set\n",
    "# a set will only keep unique items\n",
    "\n",
    "emails_set = set(emails)\n",
    "emails_set"
   ]
  },
  {
   "cell_type": "markdown",
   "id": "72d439f4",
   "metadata": {},
   "source": [
    "##### intersect of two sets"
   ]
  },
  {
   "cell_type": "code",
   "execution_count": 8,
   "id": "eb44cea1",
   "metadata": {},
   "outputs": [],
   "source": [
    "# create two sets\n",
    "\n",
    "first_month_customers = {\"alice\", \"bobby\", \"carla\", \"daniel\"}\n",
    "second_month_customers = {\"carla\", \"daniel\", \"elena\"}"
   ]
  },
  {
   "cell_type": "code",
   "execution_count": 9,
   "id": "a12ad584",
   "metadata": {},
   "outputs": [
    {
     "data": {
      "text/plain": [
       "{'carla', 'daniel'}"
      ]
     },
     "execution_count": 9,
     "metadata": {},
     "output_type": "execute_result"
    }
   ],
   "source": [
    "returning_customers = first_month_customers.intersection(second_month_customers)\n",
    "\n",
    "returning_customers"
   ]
  },
  {
   "cell_type": "markdown",
   "id": "c1e9e622",
   "metadata": {},
   "source": [
    "##### union of two sets"
   ]
  },
  {
   "cell_type": "code",
   "execution_count": 10,
   "id": "1051bacb",
   "metadata": {},
   "outputs": [
    {
     "data": {
      "text/plain": [
       "{'alice', 'bobby', 'carla', 'daniel', 'elena'}"
      ]
     },
     "execution_count": 10,
     "metadata": {},
     "output_type": "execute_result"
    }
   ],
   "source": [
    "all_customers = first_month_customers.union(second_month_customers)\n",
    "all_customers"
   ]
  },
  {
   "cell_type": "markdown",
   "id": "872bfcaa",
   "metadata": {},
   "source": [
    "##### Except"
   ]
  },
  {
   "cell_type": "code",
   "execution_count": 11,
   "id": "9198a366",
   "metadata": {},
   "outputs": [
    {
     "data": {
      "text/plain": [
       "{'alice', 'bobby', 'elena'}"
      ]
     },
     "execution_count": 11,
     "metadata": {},
     "output_type": "execute_result"
    }
   ],
   "source": [
    "onetime_customer = all_customers - returning_customers\n",
    "\n",
    "onetime_customer"
   ]
  }
 ],
 "metadata": {
  "kernelspec": {
   "display_name": "Python 3",
   "language": "python",
   "name": "python3"
  },
  "language_info": {
   "codemirror_mode": {
    "name": "ipython",
    "version": 3
   },
   "file_extension": ".py",
   "mimetype": "text/x-python",
   "name": "python",
   "nbconvert_exporter": "python",
   "pygments_lexer": "ipython3",
   "version": "3.12.10"
  }
 },
 "nbformat": 4,
 "nbformat_minor": 5
}

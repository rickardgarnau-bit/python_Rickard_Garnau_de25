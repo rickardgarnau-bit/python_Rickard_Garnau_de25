{
 "cells": [
  {
   "cell_type": "markdown",
   "id": "b3fa6f1f",
   "metadata": {},
   "source": [
    "# Lecture 6a - List\n",
    "- one of the collection data types\n",
    "- used for storing several items in a variable\n",
    "- for collection data type, we will be learning\n",
    "    - characteristics\n",
    "    - avaiable operation"
   ]
  },
  {
   "cell_type": "markdown",
   "id": "e04de9ca",
   "metadata": {},
   "source": [
    "##### Create a list"
   ]
  },
  {
   "cell_type": "code",
   "execution_count": 2,
   "id": "46fe4b33",
   "metadata": {},
   "outputs": [],
   "source": [
    "tv_shows = [\"Antikrundan\", \"Top Chef\", \"Rederiet\", \"Tre Kronor\"]"
   ]
  },
  {
   "cell_type": "markdown",
   "id": "1abcd219",
   "metadata": {},
   "source": [
    "##### Access an item from a list\n",
    "- index begins with 0\n",
    "- use [] to access an item with a certain index\n",
    "- by default, the firsta item begins from the left\n",
    "- counting from the right starts with [-1]"
   ]
  },
  {
   "cell_type": "code",
   "execution_count": null,
   "id": "e806b8c0",
   "metadata": {},
   "outputs": [
    {
     "data": {
      "text/plain": [
       "'Rederiet'"
      ]
     },
     "execution_count": 4,
     "metadata": {},
     "output_type": "execute_result"
    }
   ],
   "source": [
    "# to access the third item\n",
    "tv_shows[2]"
   ]
  },
  {
   "cell_type": "code",
   "execution_count": 12,
   "id": "4c8edcc2",
   "metadata": {},
   "outputs": [
    {
     "data": {
      "text/plain": [
       "'Tre Kronor'"
      ]
     },
     "execution_count": 12,
     "metadata": {},
     "output_type": "execute_result"
    }
   ],
   "source": [
    "# to access the last item\n",
    "last_index = len(tv_shows) -1\n",
    "\n",
    "tv_shows[last_index]"
   ]
  },
  {
   "cell_type": "code",
   "execution_count": 14,
   "id": "cb5fe0ab",
   "metadata": {},
   "outputs": [
    {
     "data": {
      "text/plain": [
       "'Tre Kronor'"
      ]
     },
     "execution_count": 14,
     "metadata": {},
     "output_type": "execute_result"
    }
   ],
   "source": [
    "# To access the last item - by counting from the right\n",
    "tv_shows[-1]"
   ]
  },
  {
   "cell_type": "markdown",
   "id": "ef4b3fad",
   "metadata": {},
   "source": [
    "#### iterate though a list"
   ]
  },
  {
   "cell_type": "code",
   "execution_count": 15,
   "id": "5304494f",
   "metadata": {},
   "outputs": [
    {
     "name": "stdout",
     "output_type": "stream",
     "text": [
      "Antikrundan\n",
      "Top Chef\n",
      "Rederiet\n",
      "Tre Kronor\n"
     ]
    }
   ],
   "source": [
    "for tv_show in tv_shows: # tv_show is an intermediate variable created when running the for loop.\n",
    "    print(tv_show)"
   ]
  },
  {
   "cell_type": "markdown",
   "id": "7fe01cb3",
   "metadata": {},
   "source": [
    "#### Change the value of a list item"
   ]
  },
  {
   "cell_type": "code",
   "execution_count": 18,
   "id": "188e283f",
   "metadata": {},
   "outputs": [
    {
     "data": {
      "text/plain": [
       "['Hipp hipp', 'Top Chef', 'Rederiet', 'Tre Kronor']"
      ]
     },
     "execution_count": 18,
     "metadata": {},
     "output_type": "execute_result"
    }
   ],
   "source": [
    "# assign a new value to the first item in the list\n",
    "tv_shows[0] = 'Hipp hipp'\n",
    "tv_shows"
   ]
  },
  {
   "cell_type": "markdown",
   "id": "09f1f72c",
   "metadata": {},
   "source": [
    "##### Append a new value to a list\n",
    "- add a new item as the last item"
   ]
  },
  {
   "cell_type": "code",
   "execution_count": null,
   "id": "0685b021",
   "metadata": {},
   "outputs": [
    {
     "ename": "TypeError",
     "evalue": "list.append() takes exactly one argument (0 given)",
     "output_type": "error",
     "traceback": [
      "\u001b[31m---------------------------------------------------------------------------\u001b[39m",
      "\u001b[31mTypeError\u001b[39m                                 Traceback (most recent call last)",
      "\u001b[36mCell\u001b[39m\u001b[36m \u001b[39m\u001b[32mIn[17]\u001b[39m\u001b[32m, line 1\u001b[39m\n\u001b[32m----> \u001b[39m\u001b[32m1\u001b[39m \u001b[43mtv_shows\u001b[49m\u001b[43m.\u001b[49m\u001b[43mappend\u001b[49m\u001b[43m(\u001b[49m\u001b[43m)\u001b[49m\n",
      "\u001b[31mTypeError\u001b[39m: list.append() takes exactly one argument (0 given)"
     ]
    }
   ],
   "source": [
    "# tv_shows is a list, there for it can use a method called append()\n",
    "tv_shows.append(\"Pokemon\")\n",
    "\n",
    "tv_shows\n",
    "\n",
    "\n",
    "# OOP (class, object, method, attributes etc)"
   ]
  },
  {
   "cell_type": "code",
   "execution_count": null,
   "id": "c3286f67",
   "metadata": {},
   "outputs": [],
   "source": []
  },
  {
   "cell_type": "code",
   "execution_count": null,
   "id": "13ef2f62",
   "metadata": {},
   "outputs": [],
   "source": []
  },
  {
   "cell_type": "code",
   "execution_count": null,
   "id": "bc1e9181",
   "metadata": {},
   "outputs": [],
   "source": []
  }
 ],
 "metadata": {
  "kernelspec": {
   "display_name": "Python 3",
   "language": "python",
   "name": "python3"
  },
  "language_info": {
   "codemirror_mode": {
    "name": "ipython",
    "version": 3
   },
   "file_extension": ".py",
   "mimetype": "text/x-python",
   "name": "python",
   "nbconvert_exporter": "python",
   "pygments_lexer": "ipython3",
   "version": "3.12.10"
  }
 },
 "nbformat": 4,
 "nbformat_minor": 5
}

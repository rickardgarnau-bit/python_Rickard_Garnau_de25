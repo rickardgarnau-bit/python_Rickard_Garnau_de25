{
 "cells": [
  {
   "cell_type": "markdown",
   "id": "b3fa6f1f",
   "metadata": {},
   "source": [
    "# Lecture 6a - List\n",
    "- one of the collection data types\n",
    "- used for storing several items in a variable\n",
    "- for collection data type, we will be learning\n",
    "    - characteristics\n",
    "    - avaiable operation"
   ]
  },
  {
   "cell_type": "markdown",
   "id": "e04de9ca",
   "metadata": {},
   "source": [
    "##### Create a list"
   ]
  },
  {
   "cell_type": "code",
   "execution_count": 2,
   "id": "46fe4b33",
   "metadata": {},
   "outputs": [],
   "source": [
    "tv_shows = [\"Antikrundan\", \"Top Chef\", \"Rederiet\", \"Tre Kronor\"]"
   ]
  },
  {
   "cell_type": "markdown",
   "id": "1abcd219",
   "metadata": {},
   "source": [
    "##### Access an item from a list\n",
    "- index begins with 0\n",
    "- use [] to access an item with a certain index\n",
    "- by default, the firsta item begins from the left\n",
    "- counting from the right starts with [-1]"
   ]
  },
  {
   "cell_type": "code",
   "execution_count": null,
   "id": "e806b8c0",
   "metadata": {},
   "outputs": [
    {
     "data": {
      "text/plain": [
       "'Rederiet'"
      ]
     },
     "execution_count": 4,
     "metadata": {},
     "output_type": "execute_result"
    }
   ],
   "source": [
    "# to access the third item\n",
    "tv_shows[2]"
   ]
  },
  {
   "cell_type": "code",
   "execution_count": 12,
   "id": "4c8edcc2",
   "metadata": {},
   "outputs": [
    {
     "data": {
      "text/plain": [
       "'Tre Kronor'"
      ]
     },
     "execution_count": 12,
     "metadata": {},
     "output_type": "execute_result"
    }
   ],
   "source": [
    "# to access the last item\n",
    "last_index = len(tv_shows) -1\n",
    "\n",
    "tv_shows[last_index]"
   ]
  },
  {
   "cell_type": "code",
   "execution_count": 27,
   "id": "cb5fe0ab",
   "metadata": {},
   "outputs": [
    {
     "data": {
      "text/plain": [
       "'Hipp hipp'"
      ]
     },
     "execution_count": 27,
     "metadata": {},
     "output_type": "execute_result"
    }
   ],
   "source": [
    "# To access the last item - by counting from the right\n",
    "tv_shows[-1]"
   ]
  },
  {
   "cell_type": "markdown",
   "id": "ef4b3fad",
   "metadata": {},
   "source": [
    "#### iterate though a list"
   ]
  },
  {
   "cell_type": "code",
   "execution_count": 26,
   "id": "5304494f",
   "metadata": {},
   "outputs": [
    {
     "name": "stdout",
     "output_type": "stream",
     "text": [
      "Tre Kronor\n",
      "Top Chef\n",
      "Rederiet\n",
      "Pokemon\n",
      "Hipp hipp\n"
     ]
    }
   ],
   "source": [
    "for tv_show in tv_shows: # tv_show is an intermediate variable created when running the for loop.\n",
    "    print(tv_show)"
   ]
  },
  {
   "cell_type": "markdown",
   "id": "7fe01cb3",
   "metadata": {},
   "source": [
    "#### Change the value of a list item"
   ]
  },
  {
   "cell_type": "code",
   "execution_count": 18,
   "id": "188e283f",
   "metadata": {},
   "outputs": [
    {
     "data": {
      "text/plain": [
       "['Hipp hipp', 'Top Chef', 'Rederiet', 'Tre Kronor']"
      ]
     },
     "execution_count": 18,
     "metadata": {},
     "output_type": "execute_result"
    }
   ],
   "source": [
    "# assign a new value to the first item in the list\n",
    "tv_shows[0] = 'Hipp hipp'\n",
    "tv_shows"
   ]
  },
  {
   "cell_type": "markdown",
   "id": "09f1f72c",
   "metadata": {},
   "source": [
    "##### Append a new value to a list\n",
    "- add a new item as the last item"
   ]
  },
  {
   "cell_type": "code",
   "execution_count": 19,
   "id": "0685b021",
   "metadata": {},
   "outputs": [
    {
     "data": {
      "text/plain": [
       "['Hipp hipp', 'Top Chef', 'Rederiet', 'Tre Kronor', 'Pokemon']"
      ]
     },
     "execution_count": 19,
     "metadata": {},
     "output_type": "execute_result"
    }
   ],
   "source": [
    "# tv_shows is a list, there for it can use a method called append()\n",
    "tv_shows.append(\"Pokemon\")\n",
    "\n",
    "tv_shows\n",
    "\n",
    "\n",
    "# OOP (class, object, method, attributes etc)"
   ]
  },
  {
   "cell_type": "markdown",
   "id": "41be3a08",
   "metadata": {},
   "source": [
    "##### Access multiple items (Slicing)\n",
    "- make use of slicing operator"
   ]
  },
  {
   "cell_type": "code",
   "execution_count": 21,
   "id": "10fd87ce",
   "metadata": {},
   "outputs": [
    {
     "data": {
      "text/plain": [
       "['Hipp hipp', 'Top Chef']"
      ]
     },
     "execution_count": 21,
     "metadata": {},
     "output_type": "execute_result"
    }
   ],
   "source": [
    "# closing boundry on the left and opening boundry on the right\n",
    "# from the item with index 0 inclusive up to item with index (2-1)\n",
    "tv_shows[0:2]"
   ]
  },
  {
   "cell_type": "markdown",
   "id": "14b9c4a6",
   "metadata": {},
   "source": [
    "##### sort list"
   ]
  },
  {
   "cell_type": "code",
   "execution_count": null,
   "id": "c3286f67",
   "metadata": {},
   "outputs": [
    {
     "data": {
      "text/plain": [
       "['Hipp hipp', 'Pokemon', 'Rederiet', 'Top Chef', 'Tre Kronor']"
      ]
     },
     "execution_count": 22,
     "metadata": {},
     "output_type": "execute_result"
    }
   ],
   "source": [
    "tv_shows.sort() # by default, the list will be sorted by ascending order (either alphabetically or numeracally\n",
    "\n",
    "tv_shows"
   ]
  },
  {
   "cell_type": "code",
   "execution_count": 23,
   "id": "57413d7b",
   "metadata": {},
   "outputs": [
    {
     "data": {
      "text/plain": [
       "['Tre Kronor', 'Top Chef', 'Rederiet', 'Pokemon', 'Hipp hipp']"
      ]
     },
     "execution_count": 23,
     "metadata": {},
     "output_type": "execute_result"
    }
   ],
   "source": [
    "# sort by descending order\n",
    "\n",
    "tv_shows.sort(reverse=True)\n",
    "tv_shows"
   ]
  },
  {
   "cell_type": "code",
   "execution_count": 24,
   "id": "934a68a1",
   "metadata": {},
   "outputs": [
    {
     "data": {
      "text/plain": [
       "['Tre Kronor', 'Top Chef', 'Rederiet', 'Pokemon', 'Hipp hipp']"
      ]
     },
     "execution_count": 24,
     "metadata": {},
     "output_type": "execute_result"
    }
   ],
   "source": [
    "# note that with the sorting, index of items will be changed accordingly\n",
    "\n",
    "tv_shows[0]\n",
    "tv_shows"
   ]
  },
  {
   "cell_type": "markdown",
   "id": "642dc10a",
   "metadata": {},
   "source": [
    "#####  Create a list by list comprehension\n",
    "- a clean code to create a list when creating a list from another iterable"
   ]
  },
  {
   "cell_type": "code",
   "execution_count": 31,
   "id": "77c81878",
   "metadata": {},
   "outputs": [
    {
     "data": {
      "text/plain": [
       "[1, 8, 27, 64, 125, 216, 343, 512, 729]"
      ]
     },
     "execution_count": 31,
     "metadata": {},
     "output_type": "execute_result"
    }
   ],
   "source": [
    "# the value for each item in the list cubes is actually a calculation from items in an existing iterable (i.e (range))\n",
    "cubes = [x**3 for x in range(1, 10)]\n",
    "\n",
    "cubes"
   ]
  }
 ],
 "metadata": {
  "kernelspec": {
   "display_name": "Python 3",
   "language": "python",
   "name": "python3"
  },
  "language_info": {
   "codemirror_mode": {
    "name": "ipython",
    "version": 3
   },
   "file_extension": ".py",
   "mimetype": "text/x-python",
   "name": "python",
   "nbconvert_exporter": "python",
   "pygments_lexer": "ipython3",
   "version": "3.12.10"
  }
 },
 "nbformat": 4,
 "nbformat_minor": 5
}

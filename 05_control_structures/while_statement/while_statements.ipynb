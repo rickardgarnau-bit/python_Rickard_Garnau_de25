{
 "cells": [
  {
   "cell_type": "code",
   "execution_count": 1,
   "id": "9f8057b1",
   "metadata": {},
   "outputs": [
    {
     "name": "stdout",
     "output_type": "stream",
     "text": [
      "Hello 0\n",
      "Hello 1\n",
      "Hello 2\n",
      "Hello 3\n",
      "Hello 4\n"
     ]
    }
   ],
   "source": [
    "n = 0\n",
    "while n < 5: \n",
    "    print(f\"Hello {n}\")\n",
    "    n += 1 # adds one to n"
   ]
  },
  {
   "cell_type": "code",
   "execution_count": 2,
   "id": "3ad4df7b",
   "metadata": {},
   "outputs": [
    {
     "name": "stdout",
     "output_type": "stream",
     "text": [
      "Year 0 there were 80000 birds\n",
      "Year 1 there were 40000 birds\n",
      "Year 2 there were 20000 birds\n",
      "Year 3 there were 10000 birds\n",
      "It takes 4 years for the birds to have 1/10 remaining\n"
     ]
    }
   ],
   "source": [
    "birds = 80000\n",
    "year = 0\n",
    "\n",
    "while birds > 8000:\n",
    "    print(f\"Year {year} there were {birds:.0f} birds\") \n",
    "    birds /= 2 # divide by half \n",
    "    year += 1\n",
    "\n",
    "print(f\"It takes {year} years for the birds to have 1/10 remaining\")"
   ]
  },
  {
   "cell_type": "code",
   "execution_count": 3,
   "id": "36edbe76",
   "metadata": {},
   "outputs": [
    {
     "name": "stdout",
     "output_type": "stream",
     "text": [
      "-9 -7 -5 -3 -1 1 3 5 7 9 "
     ]
    }
   ],
   "source": [
    "# print out all odd numbers between -10 and 10 \n",
    "n = -9 \n",
    "while n <= 10:\n",
    "    print(n, end=\" \") # by default print ends with \\n a newline, but here we end it with an empty space\n",
    "    n += 2 "
   ]
  },
  {
   "cell_type": "code",
   "execution_count": 4,
   "id": "b2365427",
   "metadata": {},
   "outputs": [
    {
     "name": "stdout",
     "output_type": "stream",
     "text": [
      "Correct\n",
      "Have a nice day!\n"
     ]
    }
   ],
   "source": [
    "import random as rnd # this module has functions for generating random numbers \n",
    "\n",
    "while True: \n",
    "    number1 = rnd.randint(1,10)\n",
    "    number2 = rnd.randint(1,10)\n",
    "\n",
    "    user_answer = int(input(f\"What is {number1}*{number2}? \"))\n",
    "    if user_answer == number1*number2:\n",
    "        print(\"Correct\")\n",
    "    else:\n",
    "        print(f\"{user_answer} is unfortunately wrong\")\n",
    "\n",
    "    play_again = input(\"Wanna play again (y for yes)? \")\n",
    "    \n",
    "    if play_again != \"y\":\n",
    "        print(\"Have a nice day!\")\n",
    "        break"
   ]
  }
 ],
 "metadata": {
  "kernelspec": {
   "display_name": "while_statement",
   "language": "python",
   "name": "python3"
  },
  "language_info": {
   "codemirror_mode": {
    "name": "ipython",
    "version": 3
   },
   "file_extension": ".py",
   "mimetype": "text/x-python",
   "name": "python",
   "nbconvert_exporter": "python",
   "pygments_lexer": "ipython3",
   "version": "3.12.10"
  }
 },
 "nbformat": 4,
 "nbformat_minor": 5
}

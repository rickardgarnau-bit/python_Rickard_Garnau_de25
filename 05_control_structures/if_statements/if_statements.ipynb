{
 "cells": [
  {
   "cell_type": "code",
   "execution_count": 1,
   "id": "c5237450",
   "metadata": {},
   "outputs": [
    {
     "name": "stdout",
     "output_type": "stream",
     "text": [
      "Sorry, you are too young to watch this scary movie\n",
      "Watch this cartoon instead\n"
     ]
    }
   ],
   "source": [
    "age = int(input(\"Enter your age:\")) # 14\n",
    "age_limit = 15\n",
    "\n",
    "# note the syntax:\n",
    "if age < age_limit:\n",
    "    print(\"Sorry, you are too young to watch this scary movie\")\n",
    "    print(\"Watch this cartoon instead\")\n",
    "else:\n",
    "    print(\"Enjoy this scary movie\")"
   ]
  },
  {
   "cell_type": "code",
   "execution_count": 2,
   "id": "4b9a02d1",
   "metadata": {},
   "outputs": [
    {
     "name": "stdout",
     "output_type": "stream",
     "text": [
      "You get to ride the rollercoaster\n"
     ]
    }
   ],
   "source": [
    "age = 15 \n",
    "height = 150\n",
    "\n",
    "if age > 11 and 130 < height < 210:\n",
    "    print(\"You get to ride the rollercoaster\")\n",
    "else: \n",
    "    print(\"Come back when you fulfill the requirements\")"
   ]
  },
  {
   "cell_type": "code",
   "execution_count": 3,
   "id": "72b30892",
   "metadata": {},
   "outputs": [
    {
     "name": "stdout",
     "output_type": "stream",
     "text": [
      "Odd number\n"
     ]
    }
   ],
   "source": [
    "number = 5\n",
    "if number % 2 == 0: \n",
    "    print(\"Even number\")\n",
    "else:\n",
    "    print(\"Odd number\")"
   ]
  },
  {
   "cell_type": "code",
   "execution_count": 4,
   "id": "6cb544cf",
   "metadata": {},
   "outputs": [
    {
     "name": "stdout",
     "output_type": "stream",
     "text": [
      "Give patient 750mg\n"
     ]
    }
   ],
   "source": [
    "weight = float(input(\"What is your weight? (kg) \")) # 40\n",
    "if weight < 20:\n",
    "    print(\"Give patient 500mg\")\n",
    "elif weight < 40:\n",
    "    print(\"Give patient 750mg\")\n",
    "else:\n",
    "    print(\"Give patient 1000mg\")"
   ]
  },
  {
   "cell_type": "code",
   "execution_count": 5,
   "id": "ca8ddc82",
   "metadata": {},
   "outputs": [
    {
     "name": "stdout",
     "output_type": "stream",
     "text": [
      "True and False gives: False\n",
      "True or False gives: True\n",
      "False or False gives: False\n",
      "True and True gives: True\n",
      "True or True gives: True\n"
     ]
    }
   ],
   "source": [
    "print(f\"True and False gives: {True and False}\")\n",
    "print(f\"True or False gives: {True or False}\")\n",
    "print(f\"False or False gives: {False or False}\")\n",
    "print(f\"True and True gives: {True and True}\")\n",
    "print(f\"True or True gives: {True or True}\")"
   ]
  },
  {
   "cell_type": "code",
   "execution_count": 6,
   "id": "3d366ae9",
   "metadata": {},
   "outputs": [],
   "source": [
    "number = int(input(\"Give an integer: \")) #-100\n",
    "\n",
    "# if a number is divisible by 5, check if it also is even\n",
    "if number % 5 == 0: \n",
    "    print(f\"{number} is divisible by 5\")\n",
    "    if number % 2 == 0:\n",
    "        print(f\"{number} is an even number\")\n",
    "    else:\n",
    "        print(f\"{number} is an odd number\")"
   ]
  },
  {
   "cell_type": "code",
   "execution_count": 7,
   "id": "635d3a42",
   "metadata": {},
   "outputs": [
    {
     "name": "stdout",
     "output_type": "stream",
     "text": [
      "Hi ms Olivia\n",
      "is_child=True\n"
     ]
    }
   ],
   "source": [
    "name = \"Olivia\"\n",
    "gender = \"female\"\n",
    "age = 7\n",
    "\n",
    "# one line if \n",
    "if \"o\" in name: print(f\"{name} contains the letter 'o'\") \n",
    "\n",
    "# one line if-else\n",
    "print(f\"Hi mr {name}\") if gender == \"male\" else print(f\"Hi ms {name}\")\n",
    "\n",
    "# one line if-else variable assignment\n",
    "is_child = True if age < 18 else False\n",
    "print(f\"{is_child=}\")"
   ]
  },
  {
   "cell_type": "code",
   "execution_count": null,
   "id": "39bea7a9",
   "metadata": {},
   "outputs": [],
   "source": []
  }
 ],
 "metadata": {
  "kernelspec": {
   "display_name": "if_statements",
   "language": "python",
   "name": "python3"
  },
  "language_info": {
   "codemirror_mode": {
    "name": "ipython",
    "version": 3
   },
   "file_extension": ".py",
   "mimetype": "text/x-python",
   "name": "python",
   "nbconvert_exporter": "python",
   "pygments_lexer": "ipython3",
   "version": "3.12.10"
  }
 },
 "nbformat": 4,
 "nbformat_minor": 5
}

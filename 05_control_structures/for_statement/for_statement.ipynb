{
 "cells": [
  {
   "cell_type": "code",
   "execution_count": 1,
   "id": "2f472b01",
   "metadata": {},
   "outputs": [
    {
     "name": "stdout",
     "output_type": "stream",
     "text": [
      "0 Hello\n",
      "1 Hello\n",
      "2 Hello\n"
     ]
    }
   ],
   "source": [
    "for i in range(3): # note that the count starts from 0\n",
    "    print(f\"{i} Hello\")"
   ]
  },
  {
   "cell_type": "code",
   "execution_count": 3,
   "id": "fac49b4b",
   "metadata": {},
   "outputs": [
    {
     "name": "stdout",
     "output_type": "stream",
     "text": [
      "0 1 2 3 4 5 6 7 8 9 "
     ]
    }
   ],
   "source": [
    "# print out numbers without newlines\n",
    "for i in range(10):\n",
    "    print(i, end=\" \")"
   ]
  },
  {
   "cell_type": "code",
   "execution_count": 4,
   "id": "023fa2ed",
   "metadata": {},
   "outputs": [
    {
     "name": "stdout",
     "output_type": "stream",
     "text": [
      "0+1+2+3+4+5=15\n"
     ]
    }
   ],
   "source": [
    "sum_ = 0\n",
    "# calculate sum from 0-5\n",
    "for i in range(6): # note that 6\n",
    "    sum_ += i\n",
    "\n",
    "print(f\"0+1+2+3+4+5={sum_}\")"
   ]
  },
  {
   "cell_type": "code",
   "execution_count": 6,
   "id": "f22f7de2",
   "metadata": {},
   "outputs": [
    {
     "name": "stdout",
     "output_type": "stream",
     "text": [
      "1+3+5+7+9+11+13+15+17+19=100"
     ]
    }
   ],
   "source": [
    "sum_ = 0\n",
    "# calculate sum of all odd numbers between 1 and 20\n",
    "for i in range(1,20,2):\n",
    "    sum_ += i # addition\n",
    "\n",
    "    # nice printing\n",
    "    print(f\"{i}\", end = \"\")\n",
    "    if i != 19:\n",
    "        print(\"+\", end=\"\")\n",
    "\n",
    "    if i == 19:\n",
    "        print(f\"={sum_}\", end=\"\")"
   ]
  },
  {
   "cell_type": "code",
   "execution_count": 7,
   "id": "7f477e85",
   "metadata": {},
   "outputs": [
    {
     "name": "stdout",
     "output_type": "stream",
     "text": [
      "Number of sixes 1696 in 10000 dice rolls\n",
      "Probability of six 0.1696\n"
     ]
    }
   ],
   "source": [
    "import random as rnd # the random module can now be accessed through rnd \n",
    "\n",
    "num_six = 0\n",
    "dice_rolls = 10000\n",
    "\n",
    "# dice simulations - count number of sixes \n",
    "for i in range(dice_rolls):\n",
    "    dice = rnd.randint(1,6) # generates a random integer between 1 and 6\n",
    "    if dice == 6:\n",
    "        num_six += 1\n",
    "\n",
    "print(f\"Number of sixes {num_six} in {dice_rolls} dice rolls\")  \n",
    "print(f\"Probability of six {num_six/dice_rolls}\")"
   ]
  },
  {
   "cell_type": "code",
   "execution_count": 8,
   "id": "1d2cbb71",
   "metadata": {},
   "outputs": [
    {
     "name": "stdout",
     "output_type": "stream",
     "text": [
      "I love to eat\n",
      "apple\n",
      "orange\n",
      "grape\n",
      "strawberry\n"
     ]
    }
   ],
   "source": [
    "fruits = [\"apple\", \"orange\", \"grape\", \"strawberry\"]\n",
    "\n",
    "print(\"I love to eat\")\n",
    "for fruit in fruits: # variable fruit will contain a value at a time from fruits\n",
    "    print(fruit)"
   ]
  },
  {
   "cell_type": "code",
   "execution_count": 9,
   "id": "944286e5",
   "metadata": {},
   "outputs": [
    {
     "name": "stdout",
     "output_type": "stream",
     "text": [
      "My favorite fruits are: \n",
      "1. apple\n",
      "2. orange\n",
      "3. grape\n",
      "4. strawberry\n"
     ]
    }
   ],
   "source": [
    "print(\"My favorite fruits are: \")\n",
    "# enumerate to get a number for each element in a list that you loop through\n",
    "for i, fruit in enumerate(fruits,1): # 1 gives the starting number\n",
    "    print(f\"{i}. {fruit}\")"
   ]
  },
  {
   "cell_type": "code",
   "execution_count": 11,
   "id": "fc55a9cb",
   "metadata": {},
   "outputs": [
    {
     "name": "stdout",
     "output_type": "stream",
     "text": [
      "FRUIT               RECIPE\n",
      "apple               pie\n",
      "orange              juice\n",
      "grape               juice\n",
      "strawberry          cake\n"
     ]
    }
   ],
   "source": [
    "fruits = [\"apple\", \"orange\", \"grape\", \"strawberry\"]\n",
    "recipies = [\"pie\", \"juice\", \"juice\", \"cake\"]\n",
    "\n",
    "print(f\"{'FRUIT':<20}RECIPE\")\n",
    "for fruit, recipe in zip(fruits, recipies):\n",
    "    print(f\"{fruit:<20}{recipe}\")"
   ]
  },
  {
   "cell_type": "code",
   "execution_count": 14,
   "id": "11a95ab0",
   "metadata": {},
   "outputs": [
    {
     "name": "stdout",
     "output_type": "stream",
     "text": [
      "(0,0)(0,1)(0,2)\n",
      "(1,0)(1,1)(1,2)\n",
      "(2,0)(2,1)(2,2)\n"
     ]
    }
   ],
   "source": [
    "# matrix coordinates\n",
    "for x in range(3):\n",
    "    for j in range(3):\n",
    "        print(f\"({x},{j})\", end=\"\")    \n",
    "    print() "
   ]
  },
  {
   "cell_type": "code",
   "execution_count": 1,
   "id": "9f6597a3",
   "metadata": {},
   "outputs": [
    {
     "name": "stdout",
     "output_type": "stream",
     "text": [
      "0\n",
      "1\n",
      "2\n"
     ]
    }
   ],
   "source": [
    "for i in range(3):\n",
    "    print(i)"
   ]
  },
  {
   "cell_type": "code",
   "execution_count": 2,
   "id": "337dab8f",
   "metadata": {},
   "outputs": [
    {
     "name": "stdout",
     "output_type": "stream",
     "text": [
      "0 1 2 3 4 5 6 7 8 9 "
     ]
    }
   ],
   "source": [
    "for i in range(10):\n",
    "    print(i, end =\" \")"
   ]
  },
  {
   "cell_type": "code",
   "execution_count": 3,
   "id": "77d188e1",
   "metadata": {},
   "outputs": [
    {
     "name": "stdout",
     "output_type": "stream",
     "text": [
      "2 4 6 8 "
     ]
    }
   ],
   "source": [
    "for i in range(2, 10, 2):\n",
    "    print(i, end =\" \")"
   ]
  },
  {
   "cell_type": "code",
   "execution_count": 7,
   "id": "7bd67ed5",
   "metadata": {},
   "outputs": [
    {
     "name": "stdout",
     "output_type": "stream",
     "text": [
      "0+1+2+3+4+5 = 15\n"
     ]
    }
   ],
   "source": [
    "sum_ = 0\n",
    "for i in range(6):\n",
    "    sum_ += i\n",
    "print(f\"0+1+2+3+4+5 = {sum_}\")"
   ]
  },
  {
   "cell_type": "code",
   "execution_count": 12,
   "id": "a1274fb9",
   "metadata": {},
   "outputs": [
    {
     "name": "stdout",
     "output_type": "stream",
     "text": [
      "Number of sixes is 1652 in 10000\n",
      "Probability of getting a six: 0.1652\n"
     ]
    }
   ],
   "source": [
    "import random as rnd\n",
    "num_six = 0\n",
    "dice_rolls = 10000\n",
    "\n",
    "for i in range(dice_rolls):\n",
    "    dice = rnd.randint(1, 6)\n",
    "    if dice == 6:\n",
    "        num_six += 1\n",
    "\n",
    "print(f\"Number of sixes is {num_six} in {dice_rolls}\")\n",
    "print(f\"Probability of getting a six: {num_six/dice_rolls}\")\n",
    "\n"
   ]
  },
  {
   "cell_type": "code",
   "execution_count": 17,
   "id": "238e9329",
   "metadata": {},
   "outputs": [
    {
     "name": "stdout",
     "output_type": "stream",
     "text": [
      "banana\n",
      "apple\n",
      "pear\n",
      "orange\n"
     ]
    }
   ],
   "source": [
    "fruits = ['banana', 'apple', 'pear', 'orange']\n",
    "\n",
    "for fruit in fruits:\n",
    "    print(fruit)"
   ]
  },
  {
   "cell_type": "code",
   "execution_count": 18,
   "id": "54653c8e",
   "metadata": {},
   "outputs": [
    {
     "name": "stdout",
     "output_type": "stream",
     "text": [
      "my favorite fruits are: \n",
      "1, banana\n",
      "2, apple\n",
      "3, pear\n",
      "4, orange\n"
     ]
    }
   ],
   "source": [
    "print(\"my favorite fruits are: \")\n",
    "for i, fruit in enumerate(fruits, 1):\n",
    "    print(f\"{i}, {fruit}\")"
   ]
  },
  {
   "cell_type": "code",
   "execution_count": 27,
   "id": "c0d70a0f",
   "metadata": {},
   "outputs": [
    {
     "name": "stdout",
     "output_type": "stream",
     "text": [
      "FRUIT               RECIPE\n",
      "banana              pie\n",
      "apple               sauce\n",
      "pear                bread\n",
      "orange              cake\n"
     ]
    }
   ],
   "source": [
    "fruits = ['banana', 'apple', 'pear', 'orange']\n",
    "recipes = ['pie', 'sauce', 'bread', 'cake']\n",
    "print(f\"FRUIT               RECIPE\")\n",
    "for fruit, recipe in zip(fruits, recipes):\n",
    "    print(f\"{fruit:<20}{recipe}\")\n",
    "     "
   ]
  },
  {
   "cell_type": "code",
   "execution_count": 3,
   "id": "b3cb9ef5",
   "metadata": {},
   "outputs": [
    {
     "name": "stdout",
     "output_type": "stream",
     "text": [
      "1 3 "
     ]
    }
   ],
   "source": [
    "for i in range(1, 5, 2):\n",
    "    print(i, end=\" \")"
   ]
  },
  {
   "cell_type": "markdown",
   "id": "04fa658f",
   "metadata": {},
   "source": [
    "#### random module"
   ]
  },
  {
   "cell_type": "code",
   "execution_count": 4,
   "id": "7da8baec",
   "metadata": {},
   "outputs": [],
   "source": [
    "import random as rnd"
   ]
  },
  {
   "cell_type": "code",
   "execution_count": null,
   "id": "c60d899f",
   "metadata": {},
   "outputs": [
    {
     "data": {
      "text/plain": [
       "2"
      ]
     },
     "execution_count": 9,
     "metadata": {},
     "output_type": "execute_result"
    }
   ],
   "source": [
    "# generate a dice result from one throw\n",
    "# work on the dice exercise to practice the use of random module\n",
    "dice_result = rnd.randint(1, 6) # use the alias (rnd), when you want to use a function from this module\n",
    "dice_result"
   ]
  },
  {
   "cell_type": "markdown",
   "id": "b8c21c12",
   "metadata": {},
   "source": [
    "loop through a list"
   ]
  },
  {
   "cell_type": "code",
   "execution_count": 14,
   "id": "e85c14f4",
   "metadata": {},
   "outputs": [
    {
     "name": "stdout",
     "output_type": "stream",
     "text": [
      "I love to eat applepie\n",
      "I love to eat pear\n",
      "I love to eat orange\n"
     ]
    }
   ],
   "source": [
    "# list is a collection of items/values/data\n",
    "\n",
    "fruits = ['applepie', 'pear', 'orange']\n",
    "\n",
    "for fruit in fruits: # fruits refer to a specific list, fruits is an intermediate variable\n",
    "    print(f\"I love to eat {fruit}\")\n",
    "\n"
   ]
  },
  {
   "cell_type": "markdown",
   "id": "38083799",
   "metadata": {},
   "source": [
    "#### example of pythonic code\n",
    "- a classic example when writing for loop with index\n",
    "- problem solve: loop through the fruit list and also print out the index for each fruit"
   ]
  },
  {
   "cell_type": "code",
   "execution_count": null,
   "id": "36e59f5d",
   "metadata": {},
   "outputs": [
    {
     "ename": "SyntaxError",
     "evalue": "invalid syntax (415732752.py, line 1)",
     "output_type": "error",
     "traceback": [
      "  \u001b[36mCell\u001b[39m\u001b[36m \u001b[39m\u001b[32mIn[19]\u001b[39m\u001b[32m, line 1\u001b[39m\n\u001b[31m    \u001b[39m\u001b[31mfor i, fruit in enumerate{fruits, 1}:\u001b[39m\n                             ^\n\u001b[31mSyntaxError\u001b[39m\u001b[31m:\u001b[39m invalid syntax\n"
     ]
    }
   ],
   "source": [
    "for i, fruit in enumerate(fruits, 1):\n",
    "    print(f\"{i}. {fruit}\")"
   ]
  }
 ],
 "metadata": {
  "kernelspec": {
   "display_name": "for_statement",
   "language": "python",
   "name": "python3"
  },
  "language_info": {
   "codemirror_mode": {
    "name": "ipython",
    "version": 3
   },
   "file_extension": ".py",
   "mimetype": "text/x-python",
   "name": "python",
   "nbconvert_exporter": "python",
   "pygments_lexer": "ipython3",
   "version": "3.12.10"
  }
 },
 "nbformat": 4,
 "nbformat_minor": 5
}

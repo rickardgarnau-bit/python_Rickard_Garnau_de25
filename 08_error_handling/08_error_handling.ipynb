{
 "cells": [
  {
   "cell_type": "markdown",
   "id": "d09ab2f0",
   "metadata": {},
   "source": [
    "# Error_handling\n",
    "- add error handling for blocks of codes that can encounter errors\n",
    "- because we don't want to crash the program\n",
    "- make use of `try except` block"
   ]
  },
  {
   "cell_type": "markdown",
   "id": "11782d3d",
   "metadata": {},
   "source": []
  },
  {
   "cell_type": "code",
   "execution_count": 1,
   "id": "ca6738d6",
   "metadata": {},
   "outputs": [
    {
     "ename": "SyntaxError",
     "evalue": "expected ':' (2477656353.py, line 1)",
     "output_type": "error",
     "traceback": [
      "  \u001b[36mCell\u001b[39m\u001b[36m \u001b[39m\u001b[32mIn[1]\u001b[39m\u001b[32m, line 1\u001b[39m\n\u001b[31m    \u001b[39m\u001b[31mif 5 > 7\u001b[39m\n            ^\n\u001b[31mSyntaxError\u001b[39m\u001b[31m:\u001b[39m expected ':'\n"
     ]
    }
   ],
   "source": [
    "if 5 > 7\n",
    "print(\"5 is less than 7\")"
   ]
  },
  {
   "cell_type": "markdown",
   "id": "5e876d5a",
   "metadata": {},
   "source": [
    "#### exception errors or runtime errors"
   ]
  },
  {
   "cell_type": "code",
   "execution_count": 2,
   "id": "aaf8d55a",
   "metadata": {},
   "outputs": [
    {
     "ename": "IndexError",
     "evalue": "list index out of range",
     "output_type": "error",
     "traceback": [
      "\u001b[31m---------------------------------------------------------------------------\u001b[39m",
      "\u001b[31mIndexError\u001b[39m                                Traceback (most recent call last)",
      "\u001b[36mCell\u001b[39m\u001b[36m \u001b[39m\u001b[32mIn[2]\u001b[39m\u001b[32m, line 2\u001b[39m\n\u001b[32m      1\u001b[39m numbers = \u001b[38;5;28mlist\u001b[39m(\u001b[38;5;28mrange\u001b[39m(\u001b[32m10\u001b[39m))\n\u001b[32m----> \u001b[39m\u001b[32m2\u001b[39m \u001b[43mnumbers\u001b[49m\u001b[43m[\u001b[49m\u001b[32;43m11\u001b[39;49m\u001b[43m]\u001b[49m\n",
      "\u001b[31mIndexError\u001b[39m: list index out of range"
     ]
    }
   ],
   "source": [
    "numbers = list(range(10))\n",
    "numbers[11]"
   ]
  },
  {
   "cell_type": "markdown",
   "id": "21af63e0",
   "metadata": {},
   "source": [
    "#### logical error"
   ]
  },
  {
   "cell_type": "code",
   "execution_count": null,
   "id": "c4849fed",
   "metadata": {},
   "outputs": [
    {
     "name": "stdout",
     "output_type": "stream",
     "text": [
      "15.707963267948966\n"
     ]
    }
   ],
   "source": [
    "import numpy as np\n",
    "\n",
    "area_circle = lambda radius: np.pi*radius\n",
    "\n",
    "print(area_circle(5)) # Wrong"
   ]
  },
  {
   "cell_type": "markdown",
   "id": "3fba11b2",
   "metadata": {},
   "source": [
    "#### try except"
   ]
  },
  {
   "cell_type": "code",
   "execution_count": 10,
   "id": "1be7bf18",
   "metadata": {},
   "outputs": [
    {
     "name": "stdout",
     "output_type": "stream",
     "text": [
      "Your age is 14.0 years old\n"
     ]
    }
   ],
   "source": [
    "age = input(\"Enter your age: \")\n",
    "\n",
    "try:\n",
    "    age= float(age)\n",
    "    if not 0 < age < 125:\n",
    "        raise ValueError(\"Age must be between 0 and 125\")\n",
    "    print(f\"Your age is {age} years old\")\n",
    "except ValueError as e:\n",
    "    print(f\"Invalid input*: {e}\")\n"
   ]
  },
  {
   "cell_type": "code",
   "execution_count": 14,
   "id": "f2da73fd",
   "metadata": {},
   "outputs": [
    {
     "name": "stdout",
     "output_type": "stream",
     "text": [
      "Invalid input*: Age must be between 0 and 125\n",
      "Invalid input*: Age must be between 0 and 125\n",
      "Your age is 3.0 years old\n"
     ]
    }
   ],
   "source": [
    "while True:\n",
    "    age = input(\"Enter your age: \")\n",
    "    try:\n",
    "        age = float(age)\n",
    "        if not 0 <= age < 125:\n",
    "            raise ValueError(\"Age must be between 0 and 125\")\n",
    "        print(f\"Your age is {age} years old\")\n",
    "        break\n",
    "    except ValueError as e:\n",
    "        print(f\"Invalid input*: {e}\")"
   ]
  },
  {
   "cell_type": "code",
   "execution_count": null,
   "id": "4138e7ff",
   "metadata": {},
   "outputs": [
    {
     "ename": "NameError",
     "evalue": "name 'x' is not defined",
     "output_type": "error",
     "traceback": [
      "\u001b[31m---------------------------------------------------------------------------\u001b[39m",
      "\u001b[31mNameError\u001b[39m                                 Traceback (most recent call last)",
      "\u001b[36mCell\u001b[39m\u001b[36m \u001b[39m\u001b[32mIn[1]\u001b[39m\u001b[32m, line 1\u001b[39m\n\u001b[32m----> \u001b[39m\u001b[32m1\u001b[39m \u001b[38;5;28mprint\u001b[39m(\u001b[43mx\u001b[49m)\n",
      "\u001b[31mNameError\u001b[39m: name 'x' is not defined"
     ]
    }
   ],
   "source": [
    "# without error handling the code will crash\n",
    "print(x)"
   ]
  },
  {
   "cell_type": "code",
   "execution_count": 2,
   "id": "0f21f56b",
   "metadata": {},
   "outputs": [
    {
     "name": "stdout",
     "output_type": "stream",
     "text": [
      "There is an error in the try block\n"
     ]
    }
   ],
   "source": [
    "# add try except to the code above\n",
    "try:\n",
    "    # under the try block, put the potentially problematic codes\n",
    "    print(x)\n",
    "except: # when the try block encounters error, run except block instead of crashing\n",
    "    print(\"There is an error in the try block\")"
   ]
  },
  {
   "cell_type": "code",
   "execution_count": 3,
   "id": "0fe23d3b",
   "metadata": {},
   "outputs": [
    {
     "name": "stdout",
     "output_type": "stream",
     "text": [
      "Variable x is not defined yet.\n"
     ]
    }
   ],
   "source": [
    "# make use of multiple except blocks\n",
    "try:\n",
    "    print(x)\n",
    "except NameError:\n",
    "    print(\"Variable x is not defined yet.\")\n",
    "\n",
    "except:\n",
    "    print(\"Another error happened.\")"
   ]
  },
  {
   "cell_type": "code",
   "execution_count": 5,
   "id": "44a8d698",
   "metadata": {},
   "outputs": [
    {
     "ename": "ZeroDivisionError",
     "evalue": "division by zero",
     "output_type": "error",
     "traceback": [
      "\u001b[31m---------------------------------------------------------------------------\u001b[39m",
      "\u001b[31mZeroDivisionError\u001b[39m                         Traceback (most recent call last)",
      "\u001b[36mCell\u001b[39m\u001b[36m \u001b[39m\u001b[32mIn[5]\u001b[39m\u001b[32m, line 2\u001b[39m\n\u001b[32m      1\u001b[39m \u001b[38;5;66;03m# an example that is not NameError\u001b[39;00m\n\u001b[32m----> \u001b[39m\u001b[32m2\u001b[39m \u001b[38;5;28mprint\u001b[39m(\u001b[32;43m8\u001b[39;49m\u001b[43m/\u001b[49m\u001b[32;43m0\u001b[39;49m)\n",
      "\u001b[31mZeroDivisionError\u001b[39m: division by zero"
     ]
    }
   ],
   "source": [
    "# an example that is not NameError\n",
    "print(8/0)"
   ]
  },
  {
   "cell_type": "code",
   "execution_count": 6,
   "id": "b1e32363",
   "metadata": {},
   "outputs": [
    {
     "name": "stdout",
     "output_type": "stream",
     "text": [
      "There is an error that is not a NameError.\n"
     ]
    }
   ],
   "source": [
    "try:\n",
    "    print(8/0)\n",
    "except NameError:\n",
    "    print(\"There is a NameError.\")\n",
    "except:\n",
    "    print(\"There is an error that is not a NameError.\")"
   ]
  },
  {
   "cell_type": "code",
   "execution_count": 7,
   "id": "5da2db59",
   "metadata": {},
   "outputs": [
    {
     "name": "stdout",
     "output_type": "stream",
     "text": [
      "name 'x' is not defined\n"
     ]
    }
   ],
   "source": [
    "try:\n",
    "    print(x)\n",
    "except NameError as err:\n",
    "    print(err)"
   ]
  },
  {
   "cell_type": "code",
   "execution_count": 8,
   "id": "a27e6ed3",
   "metadata": {},
   "outputs": [
    {
     "data": {
      "text/plain": [
       "False"
      ]
     },
     "execution_count": 8,
     "metadata": {},
     "output_type": "execute_result"
    }
   ],
   "source": [
    "age = 10\n",
    "\n",
    "20<age<125"
   ]
  }
 ],
 "metadata": {
  "kernelspec": {
   "display_name": "08_error_handling",
   "language": "python",
   "name": "python3"
  },
  "language_info": {
   "codemirror_mode": {
    "name": "ipython",
    "version": 3
   },
   "file_extension": ".py",
   "mimetype": "text/x-python",
   "name": "python",
   "nbconvert_exporter": "python",
   "pygments_lexer": "ipython3",
   "version": "3.12.10"
  }
 },
 "nbformat": 4,
 "nbformat_minor": 5
}

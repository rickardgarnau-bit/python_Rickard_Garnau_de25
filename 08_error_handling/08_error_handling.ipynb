{
 "cells": [
  {
   "cell_type": "markdown",
   "id": "d09ab2f0",
   "metadata": {},
   "source": [
    "# Error_handling"
   ]
  },
  {
   "cell_type": "markdown",
   "id": "11782d3d",
   "metadata": {},
   "source": [
    "##### syntax error"
   ]
  },
  {
   "cell_type": "code",
   "execution_count": 1,
   "id": "ca6738d6",
   "metadata": {},
   "outputs": [
    {
     "ename": "SyntaxError",
     "evalue": "expected ':' (2477656353.py, line 1)",
     "output_type": "error",
     "traceback": [
      "  \u001b[36mCell\u001b[39m\u001b[36m \u001b[39m\u001b[32mIn[1]\u001b[39m\u001b[32m, line 1\u001b[39m\n\u001b[31m    \u001b[39m\u001b[31mif 5 > 7\u001b[39m\n            ^\n\u001b[31mSyntaxError\u001b[39m\u001b[31m:\u001b[39m expected ':'\n"
     ]
    }
   ],
   "source": [
    "if 5 > 7\n",
    "print(\"5 is less than 7\")"
   ]
  },
  {
   "cell_type": "markdown",
   "id": "5e876d5a",
   "metadata": {},
   "source": [
    "#### exception errors or runtime errors"
   ]
  },
  {
   "cell_type": "code",
   "execution_count": 2,
   "id": "aaf8d55a",
   "metadata": {},
   "outputs": [
    {
     "ename": "IndexError",
     "evalue": "list index out of range",
     "output_type": "error",
     "traceback": [
      "\u001b[31m---------------------------------------------------------------------------\u001b[39m",
      "\u001b[31mIndexError\u001b[39m                                Traceback (most recent call last)",
      "\u001b[36mCell\u001b[39m\u001b[36m \u001b[39m\u001b[32mIn[2]\u001b[39m\u001b[32m, line 2\u001b[39m\n\u001b[32m      1\u001b[39m numbers = \u001b[38;5;28mlist\u001b[39m(\u001b[38;5;28mrange\u001b[39m(\u001b[32m10\u001b[39m))\n\u001b[32m----> \u001b[39m\u001b[32m2\u001b[39m \u001b[43mnumbers\u001b[49m\u001b[43m[\u001b[49m\u001b[32;43m11\u001b[39;49m\u001b[43m]\u001b[49m\n",
      "\u001b[31mIndexError\u001b[39m: list index out of range"
     ]
    }
   ],
   "source": [
    "numbers = list(range(10))\n",
    "numbers[11]"
   ]
  },
  {
   "cell_type": "markdown",
   "id": "21af63e0",
   "metadata": {},
   "source": [
    "#### logical error"
   ]
  },
  {
   "cell_type": "code",
   "execution_count": null,
   "id": "c4849fed",
   "metadata": {},
   "outputs": [
    {
     "name": "stdout",
     "output_type": "stream",
     "text": [
      "15.707963267948966\n"
     ]
    }
   ],
   "source": [
    "import numpy as np\n",
    "\n",
    "area_circle = lambda radius: np.pi*radius\n",
    "\n",
    "print(area_circle(5)) # Wrong"
   ]
  },
  {
   "cell_type": "markdown",
   "id": "3fba11b2",
   "metadata": {},
   "source": [
    "#### try except"
   ]
  },
  {
   "cell_type": "code",
   "execution_count": 10,
   "id": "1be7bf18",
   "metadata": {},
   "outputs": [
    {
     "name": "stdout",
     "output_type": "stream",
     "text": [
      "Your age is 14.0 years old\n"
     ]
    }
   ],
   "source": [
    "age = input(\"Enter your age: \")\n",
    "\n",
    "try:\n",
    "    age= float(age)\n",
    "    if not 0 < age < 125:\n",
    "        raise ValueError(\"Age must be between 0 and 125\")\n",
    "    print(f\"Your age is {age} years old\")\n",
    "except ValueError as e:\n",
    "    print(f\"Invalid input*: {e}\")\n"
   ]
  },
  {
   "cell_type": "code",
   "execution_count": null,
   "id": "f2da73fd",
   "metadata": {},
   "outputs": [
    {
     "ename": "SyntaxError",
     "evalue": "expected 'except' or 'finally' block (1887113886.py, line 7)",
     "output_type": "error",
     "traceback": [
      "  \u001b[36mCell\u001b[39m\u001b[36m \u001b[39m\u001b[32mIn[11]\u001b[39m\u001b[32m, line 7\u001b[39m\n\u001b[31m    \u001b[39m\u001b[31mprint(f\"Your age is {age} years old\")\u001b[39m\n    ^\n\u001b[31mSyntaxError\u001b[39m\u001b[31m:\u001b[39m expected 'except' or 'finally' block\n"
     ]
    }
   ],
   "source": [
    "while True:\n",
    "    age = input(\"Enter your age: \")\n",
    "    try:\n",
    "        age = float(age)\n",
    "        if not 0 <= age < 125:\n",
    "            raise ValueError(\"Age must be between 0 and 125\")\n",
    "        print(f\"Your age is {age} years old\")\n",
    "        break\n",
    "    except ValueError as e:\n",
    "        print(f\"Invalid input*: {e}\")"
   ]
  },
  {
   "cell_type": "markdown",
   "id": "cf3bb297",
   "metadata": {},
   "source": []
  }
 ],
 "metadata": {
  "kernelspec": {
   "display_name": "08_error_handling",
   "language": "python",
   "name": "python3"
  },
  "language_info": {
   "codemirror_mode": {
    "name": "ipython",
    "version": 3
   },
   "file_extension": ".py",
   "mimetype": "text/x-python",
   "name": "python",
   "nbconvert_exporter": "python",
   "pygments_lexer": "ipython3",
   "version": "3.12.10"
  }
 },
 "nbformat": 4,
 "nbformat_minor": 5
}

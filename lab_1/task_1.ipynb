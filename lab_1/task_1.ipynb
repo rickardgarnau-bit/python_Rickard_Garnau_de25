{
 "cells": [
  {
   "cell_type": "code",
   "execution_count": null,
   "id": "5541ec0c",
   "metadata": {},
   "outputs": [
    {
     "name": "stdout",
     "output_type": "stream",
     "text": [
      ">seq1\n",
      "cgtaaccaataaaaaaacaagcttaacctaattc\n",
      ">seq2\n",
      "agcttagtttggatctggccgggg\n",
      ">seq3\n",
      "gcggatttactccccccaaaaannaggggagagcccagataaatggagtctgtgcgtccaca\n",
      ">seq4\n",
      "gcggatttactcaggggagagcccagggataaatggagtctgtgcgtccaca\n"
     ]
    },
    {
     "ename": "TypeError",
     "evalue": "unsupported operand type(s) for +=: 'dict' and 'int'",
     "output_type": "error",
     "traceback": [
      "\u001b[31m---------------------------------------------------------------------------\u001b[39m",
      "\u001b[31mTypeError\u001b[39m                                 Traceback (most recent call last)",
      "\u001b[36mCell\u001b[39m\u001b[36m \u001b[39m\u001b[32mIn[25]\u001b[39m\u001b[32m, line 14\u001b[39m\n\u001b[32m     12\u001b[39m \u001b[38;5;28;01mwhile\u001b[39;00m \u001b[38;5;28;01mTrue\u001b[39;00m:\n\u001b[32m     13\u001b[39m     \u001b[38;5;28;01mfor\u001b[39;00m letter \u001b[38;5;129;01min\u001b[39;00m dna_letters:\n\u001b[32m---> \u001b[39m\u001b[32m14\u001b[39m         \u001b[43mdna_list\u001b[49m\u001b[43m \u001b[49m\u001b[43m+\u001b[49m\u001b[43m=\u001b[49m\u001b[43m \u001b[49m\u001b[32;43m1\u001b[39;49m\n",
      "\u001b[31mTypeError\u001b[39m: unsupported operand type(s) for +=: 'dict' and 'int'"
     ]
    }
   ],
   "source": [
    "import re\n",
    "dna_list = 0\n",
    "s_id = \"\"\n",
    "\n",
    "with open(\"dna_raw.txt\" ,\"r\") as f_read:\n",
    "    for dna_letters in f_read:\n",
    "        dna_letters = dna_letters.strip().lower()\n",
    "        print(dna_letters)\n",
    "\n",
    "dna_list = {'a': 0, 'c': 0, 'g': 0, 't': 0}\n",
    "        \n",
    "\n"
   ]
  },
  {
   "cell_type": "code",
   "execution_count": null,
   "id": "5f05d103",
   "metadata": {},
   "outputs": [],
   "source": []
  }
 ],
 "metadata": {
  "kernelspec": {
   "display_name": "lab_1",
   "language": "python",
   "name": "python3"
  },
  "language_info": {
   "codemirror_mode": {
    "name": "ipython",
    "version": 3
   },
   "file_extension": ".py",
   "mimetype": "text/x-python",
   "name": "python",
   "nbconvert_exporter": "python",
   "pygments_lexer": "ipython3",
   "version": "3.12.10"
  }
 },
 "nbformat": 4,
 "nbformat_minor": 5
}

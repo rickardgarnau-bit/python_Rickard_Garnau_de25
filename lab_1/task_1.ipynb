{
 "cells": [
  {
   "cell_type": "code",
   "execution_count": null,
   "id": "5541ec0c",
   "metadata": {},
   "outputs": [],
   "source": [
    "import re\n",
    "\n",
    "sequence = []\n",
    "dna = ['a', 'c', 'g', 't']\n",
    "\n",
    "with open(\"dna_raw.txt\" ,\"r\") as f_read:\n",
    "    for dna in f_read:\n",
    "        dna = dna.strip(\" \\n\")\n",
    "\n",
    "print(dna)"
   ]
  }
 ],
 "metadata": {
  "kernelspec": {
   "display_name": "lab_1",
   "language": "python",
   "name": "python3"
  },
  "language_info": {
   "codemirror_mode": {
    "name": "ipython",
    "version": 3
   },
   "file_extension": ".py",
   "mimetype": "text/x-python",
   "name": "python",
   "nbconvert_exporter": "python",
   "pygments_lexer": "ipython3",
   "version": "3.12.10"
  }
 },
 "nbformat": 4,
 "nbformat_minor": 5
}

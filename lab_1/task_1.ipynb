{
 "cells": [
  {
   "cell_type": "code",
   "execution_count": null,
   "id": "c8be6968",
   "metadata": {},
   "outputs": [],
   "source": [
    "import matplotlib.pyplot as plt\n",
    "import re\n",
    "\n",
    "dna_data = {'a': 0, 'c': 0, 'g': 0, 't': 0}\n",
    "\n",
    "with open(\"dna_raw.txt\", \"r\") as f_read:\n",
    "    for line in f_read:\n",
    "        line = line.strip().lower()\n",
    "        if line.startswith('>') or not line:\n",
    "            continue\n",
    "        for dna in line:\n",
    "            if dna in dna_data:\n",
    "                dna_data[dna] += 1\n",
    "\n",
    "            \n",
    "print(dna_data)"
   ]
  }
 ],
 "metadata": {
  "kernelspec": {
   "display_name": "lab_1",
   "language": "python",
   "name": "python3"
  },
  "language_info": {
   "name": "python",
   "version": "3.12.10"
  }
 },
 "nbformat": 4,
 "nbformat_minor": 5
}

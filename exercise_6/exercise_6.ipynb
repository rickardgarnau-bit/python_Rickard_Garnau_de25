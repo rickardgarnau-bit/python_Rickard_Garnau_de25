{
 "cells": [
  {
   "cell_type": "markdown",
   "id": "12e60446",
   "metadata": {},
   "source": [
    "# 0. Unit conversion (*)\n",
    "Create a class for converting US units to the metric system. It should have the following bound methods\n",
    "\n",
    "Make sure that value is the correct type and format, raise suitable exceptions in case it isn't. Make value into property with getter and setter. Test your class manually by instantiating an object from it and test different methods. (*)"
   ]
  },
  {
   "cell_type": "code",
   "execution_count": 21,
   "id": "3a2d4af2",
   "metadata": {},
   "outputs": [],
   "source": [
    "class Converter:\n",
    "    # Konstruktorn körs när du skapar ett nytt objekt, t.ex. Converter(10)\n",
    "    def __init__(self, value):\n",
    "        # ❌ FEL I DIN VERSION:\n",
    "        # Du tog emot 4 argument (value, inch_to_cm, foot_to_meters, pound_to_kg)\n",
    "        # men använde bara ett av dem. De andra gjorde ingenting.\n",
    "        #\n",
    "        # ✅ RÄTT:\n",
    "        # Vi tar bara emot ETT värde, som sedan kan användas i olika metoder.\n",
    "        \n",
    "        if not isinstance(value, (int, float)):\n",
    "            # ❌ FEL I DIN VERSION:\n",
    "            # Du skrev 'print(\"It has to be numbers\")' och 'return'\n",
    "            # vilket bara skrev ut ett meddelande men programmet fortsatte.\n",
    "            #\n",
    "            # ✅ RÄTT:\n",
    "            # Om värdet inte är ett tal, stoppa programmet direkt med 'raise'.\n",
    "            raise TypeError(\"Value must be a number (int or float).\")\n",
    "        \n",
    "        self.value = value  # Spara värdet i objektet\n",
    "\n",
    "    # --- Konverteringsmetoder ---\n",
    "    def inch_to_cm(self):\n",
    "        # ❌ FEL I DIN VERSION:\n",
    "        # self.inch_to_cm = float(self.inch_to_cm * 2.54)\n",
    "        # Du försökte använda metoden (self.inch_to_cm) som om den var en siffra.\n",
    "        # Det gör att Python försöker multiplicera en funktion med 2.54 -> TypeError\n",
    "        #\n",
    "        # ✅ RÄTT:\n",
    "        # Använd attributet self.value (det värde du skickade in)\n",
    "        return self.value * 2.54\n",
    "\n",
    "    def foot_to_meters(self):\n",
    "        # Samma logik som ovan: använd self.value, inte self.foot_to_meters\n",
    "        return self.value * 0.3048\n",
    "\n",
    "    def pound_to_kg(self):\n",
    "        # Samma här: self.pound_to_kg är metoden själv, inte siffran\n",
    "        return self.value * 0.45359237\n",
    "\n",
    "    # --- __repr__ används när du skriver ut objektet ---\n",
    "    def __repr__(self):\n",
    "        # ❌ FEL I TIDIGARE VERSION:\n",
    "        # Du skrev self.inch_to_cm utan parenteser -> Python försökte skriva ut metoden\n",
    "        # vilket orsakade oändlig rekursion (RecursionError)\n",
    "        #\n",
    "        # ✅ RÄTT:\n",
    "        # Lägg till () så att metoderna körs.\n",
    "        return (f\"value = {self.value}, \"\n",
    "                f\"inch_to_cm = {self.inch_to_cm()}, \"\n",
    "                f\"foot_to_meters = {self.foot_to_meters()}, \"\n",
    "                f\"pound_to_kg = {self.pound_to_kg()}\")\n"
   ]
  },
  {
   "cell_type": "markdown",
   "id": "464bd91e",
   "metadata": {},
   "source": [
    "#### 💡 Viktigt att tänka på framöver\n",
    "- Regel\tFörklaring\n",
    "- 🧱 Skilj på metoder och attribut\tMetoder = funktioner som gör något (self.inch_to_cm()).\n",
    "\n",
    "- Attribut = data som lagras (self.value).\n",
    "- ⚙️ Skriv aldrig över metoder med värden\tOm du gör self.inch_to_cm = 25.4 förlorar du metoden.\n",
    "- 🧮 Returnera värden istället för att tilldela dem\treturn self.value * 2.54 är säkert.\n",
    "- 🧑‍💻 Använd raise för fel\traise TypeError(\"...\") stoppar koden och ger tydligt felmeddelande.\n",
    "- 🔁 Kom ihåg parenteser () när du anropar metoder\tself.inch_to_cm() kör metoden, self.inch_to_cm pekar bara på den."
   ]
  },
  {
   "cell_type": "code",
   "execution_count": null,
   "id": "a795ab85",
   "metadata": {},
   "outputs": [],
   "source": []
  },
  {
   "cell_type": "code",
   "execution_count": null,
   "id": "55a28acc",
   "metadata": {},
   "outputs": [
    {
     "name": "stdout",
     "output_type": "stream",
     "text": [
      "Convert(value=1200, inch_to_cm=3048.0, foot_to_meters=420.0, pound_to_kg=540.00\n",
      "Inches to cm: 3048.0\n",
      "Feet to cm: 420.0\n",
      "Pounds to cm: 540.0\n"
     ]
    }
   ],
   "source": []
  },
  {
   "cell_type": "code",
   "execution_count": 20,
   "id": "10e380df",
   "metadata": {},
   "outputs": [
    {
     "name": "stdout",
     "output_type": "stream",
     "text": [
      "Convert(value=20, in_cm=50.8 in_m=6.096 in_kg=9.07184\n"
     ]
    }
   ],
   "source": [
    "class Convert:\n",
    "    def __init__(self, value):\n",
    "        self._value = value\n",
    "\n",
    "    @property\n",
    "    def value(self):\n",
    "        return self._value\n",
    "    \n",
    "    @value.setter\n",
    "    def new_value(self, new_value):\n",
    "        if not isinstance(new_value, (int, float)):\n",
    "            raise TypeError(\"Must be numbers\")\n",
    "        if new_value < 0:\n",
    "            raise ValueError(\"It cannot be negative\")\n",
    "        self._value = new_value\n",
    "    \n",
    "    def inch_to_cm(self):\n",
    "        return self._value * 2.54\n",
    "    \n",
    "    def foot_to_meters(self):\n",
    "        return self._value * 0.3048\n",
    "    \n",
    "    def pounds_to_kg(self):\n",
    "        return self._value * 0.453592\n",
    "    \n",
    "    def __repr__(self):\n",
    "        return (f\"Convert(value={self.value}, \"\n",
    "                f\"in_cm={self.inch_to_cm()} \"\n",
    "                f\"in_m={self.foot_to_meters()} \"\n",
    "                f\"in_kg={self.pounds_to_kg()}\")\n",
    "    \n",
    "c1 = Convert(20)\n",
    "print(c1)"
   ]
  },
  {
   "cell_type": "markdown",
   "id": "7c0547bd",
   "metadata": {},
   "source": [
    "# 1. Person (*)\n",
    "Create a class named Person, with parameterized constructor with the following parameters:\n",
    "\n",
    "name\n",
    "age\n",
    "email\n",
    "- Turn name, age, email into properties with following validations in their setters:\n",
    "\n",
    "name - must be string\n",
    "age - must be number between 0 and 125\n",
    "email - must include an @ sign\n",
    "- It should also have __repr__ method to represent the Person class in a neat way.\n",
    "\n",
    "- Also create a method say_hello() that prints"
   ]
  },
  {
   "cell_type": "code",
   "execution_count": 22,
   "id": "089a276c",
   "metadata": {},
   "outputs": [],
   "source": [
    "class Person:\n",
    "    def __init__(self, name, age, email):\n",
    "        self.name = name\n",
    "        self.age = age\n",
    "        self.email = email\n",
    "\n",
    "    @property\n",
    "    def name(self):\n",
    "        return self._name\n",
    "\n",
    "    \n",
    "    @name.setter\n",
    "    def name(self, new_name):\n",
    "        if not isinstance(new_name, (str)):\n",
    "            raise TypeError(\"Must be letters\")\n",
    "        self.name = new_name\n",
    "    \n",
    "    @property\n",
    "    def age(self):\n",
    "        return self._age\n",
    "    \n",
    "    @age.setter\n",
    "    def age(self, new_age):\n",
    "        if not isinstance(new_age, int, float):\n",
    "            raise TypeError(\"Must be letters\")\n",
    "        if not (0 <= new_age  <= 125):\n",
    "            raise ValueError(\"Not a real age\")\n",
    "        self._age = new_age\n",
    "    \n",
    "    @property\n",
    "    def email(self, new_email):\n",
    "        return self._email\n",
    "    \n",
    "    @email.setter\n",
    "    def email(self, new_email):\n",
    "        if not isinstance(new_email, (str)):\n",
    "            raise TypeError\n",
    "        if \"@\" not in new_email:\n",
    "            raise ValueError\n",
    "        self._email = new_email\n",
    "    \n",
    "    def __repr__(self):\n",
    "        return f\"PersonName='{self.name}'PersonAge={self.age}PersonEmail='{self.email}'\"\n",
    "        \n",
    "        \n"
   ]
  },
  {
   "cell_type": "code",
   "execution_count": null,
   "id": "987969d7",
   "metadata": {},
   "outputs": [],
   "source": []
  }
 ],
 "metadata": {
  "kernelspec": {
   "display_name": "Python 3",
   "language": "python",
   "name": "python3"
  },
  "language_info": {
   "codemirror_mode": {
    "name": "ipython",
    "version": 3
   },
   "file_extension": ".py",
   "mimetype": "text/x-python",
   "name": "python",
   "nbconvert_exporter": "python",
   "pygments_lexer": "ipython3",
   "version": "3.12.10"
  }
 },
 "nbformat": 4,
 "nbformat_minor": 5
}

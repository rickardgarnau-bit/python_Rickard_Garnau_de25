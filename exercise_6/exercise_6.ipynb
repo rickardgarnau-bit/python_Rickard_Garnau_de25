{
 "cells": [
  {
   "cell_type": "markdown",
   "id": "12e60446",
   "metadata": {},
   "source": [
    "# 0. Unit conversion (*)\n",
    "Create a class for converting US units to the metric system. It should have the following bound methods:"
   ]
  },
  {
   "cell_type": "markdown",
   "id": "55e9d6c2",
   "metadata": {},
   "source": []
  }
 ],
 "metadata": {
  "language_info": {
   "name": "python"
  }
 },
 "nbformat": 4,
 "nbformat_minor": 5
}

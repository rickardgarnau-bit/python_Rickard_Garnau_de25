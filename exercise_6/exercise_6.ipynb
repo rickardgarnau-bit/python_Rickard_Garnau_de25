{
 "cells": [
  {
   "cell_type": "markdown",
   "id": "12e60446",
   "metadata": {},
   "source": [
    "# 0. Unit conversion (*)\n",
    "Create a class for converting US units to the metric system. It should have the following bound methods\n",
    "\n",
    "Make sure that value is the correct type and format, raise suitable exceptions in case it isn't. Make value into property with getter and setter. Test your class manually by instantiating an object from it and test different methods. (*)"
   ]
  },
  {
   "cell_type": "code",
   "execution_count": 21,
   "id": "3a2d4af2",
   "metadata": {},
   "outputs": [],
   "source": [
    "class Converter:\n",
    "    # Konstruktorn körs när du skapar ett nytt objekt, t.ex. Converter(10)\n",
    "    def __init__(self, value):\n",
    "        # ❌ FEL I DIN VERSION:\n",
    "        # Du tog emot 4 argument (value, inch_to_cm, foot_to_meters, pound_to_kg)\n",
    "        # men använde bara ett av dem. De andra gjorde ingenting.\n",
    "        #\n",
    "        # ✅ RÄTT:\n",
    "        # Vi tar bara emot ETT värde, som sedan kan användas i olika metoder.\n",
    "        \n",
    "        if not isinstance(value, (int, float)):\n",
    "            # ❌ FEL I DIN VERSION:\n",
    "            # Du skrev 'print(\"It has to be numbers\")' och 'return'\n",
    "            # vilket bara skrev ut ett meddelande men programmet fortsatte.\n",
    "            #\n",
    "            # ✅ RÄTT:\n",
    "            # Om värdet inte är ett tal, stoppa programmet direkt med 'raise'.\n",
    "            raise TypeError(\"Value must be a number (int or float).\")\n",
    "        \n",
    "        self.value = value  # Spara värdet i objektet\n",
    "\n",
    "    # --- Konverteringsmetoder ---\n",
    "    def inch_to_cm(self):\n",
    "        # ❌ FEL I DIN VERSION:\n",
    "        # self.inch_to_cm = float(self.inch_to_cm * 2.54)\n",
    "        # Du försökte använda metoden (self.inch_to_cm) som om den var en siffra.\n",
    "        # Det gör att Python försöker multiplicera en funktion med 2.54 -> TypeError\n",
    "        #\n",
    "        # ✅ RÄTT:\n",
    "        # Använd attributet self.value (det värde du skickade in)\n",
    "        return self.value * 2.54\n",
    "\n",
    "    def foot_to_meters(self):\n",
    "        # Samma logik som ovan: använd self.value, inte self.foot_to_meters\n",
    "        return self.value * 0.3048\n",
    "\n",
    "    def pound_to_kg(self):\n",
    "        # Samma här: self.pound_to_kg är metoden själv, inte siffran\n",
    "        return self.value * 0.45359237\n",
    "\n",
    "    # --- __repr__ används när du skriver ut objektet ---\n",
    "    def __repr__(self):\n",
    "        # ❌ FEL I TIDIGARE VERSION:\n",
    "        # Du skrev self.inch_to_cm utan parenteser -> Python försökte skriva ut metoden\n",
    "        # vilket orsakade oändlig rekursion (RecursionError)\n",
    "        #\n",
    "        # ✅ RÄTT:\n",
    "        # Lägg till () så att metoderna körs.\n",
    "        return (f\"value = {self.value}, \"\n",
    "                f\"inch_to_cm = {self.inch_to_cm()}, \"\n",
    "                f\"foot_to_meters = {self.foot_to_meters()}, \"\n",
    "                f\"pound_to_kg = {self.pound_to_kg()}\")\n"
   ]
  },
  {
   "cell_type": "markdown",
   "id": "464bd91e",
   "metadata": {},
   "source": [
    "#### 💡 Viktigt att tänka på framöver\n",
    "- Regel\tFörklaring\n",
    "- 🧱 Skilj på metoder och attribut\tMetoder = funktioner som gör något (self.inch_to_cm()).\n",
    "\n",
    "- Attribut = data som lagras (self.value).\n",
    "- ⚙️ Skriv aldrig över metoder med värden\tOm du gör self.inch_to_cm = 25.4 förlorar du metoden.\n",
    "- 🧮 Returnera värden istället för att tilldela dem\treturn self.value * 2.54 är säkert.\n",
    "- 🧑‍💻 Använd raise för fel\traise TypeError(\"...\") stoppar koden och ger tydligt felmeddelande.\n",
    "- 🔁 Kom ihåg parenteser () när du anropar metoder\tself.inch_to_cm() kör metoden, self.inch_to_cm pekar bara på den."
   ]
  },
  {
   "cell_type": "markdown",
   "id": "05fdf1ae",
   "metadata": {},
   "source": []
  }
 ],
 "metadata": {
  "kernelspec": {
   "display_name": "Python 3",
   "language": "python",
   "name": "python3"
  },
  "language_info": {
   "codemirror_mode": {
    "name": "ipython",
    "version": 3
   },
   "file_extension": ".py",
   "mimetype": "text/x-python",
   "name": "python",
   "nbconvert_exporter": "python",
   "pygments_lexer": "ipython3",
   "version": "3.12.10"
  }
 },
 "nbformat": 4,
 "nbformat_minor": 5
}

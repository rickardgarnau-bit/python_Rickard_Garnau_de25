{
 "cells": [
  {
   "cell_type": "markdown",
   "id": "12e60446",
   "metadata": {},
   "source": [
    "# 0. Unit conversion (*)\n",
    "Create a class for converting US units to the metric system. It should have the following bound methods:"
   ]
  },
  {
   "cell_type": "code",
   "execution_count": null,
   "id": "3a2d4af2",
   "metadata": {},
   "outputs": [],
   "source": []
  },
  {
   "cell_type": "code",
   "execution_count": null,
   "id": "2af90502",
   "metadata": {},
   "outputs": [],
   "source": [
    "\n"
   ]
  }
 ],
 "metadata": {
  "kernelspec": {
   "display_name": "Python 3",
   "language": "python",
   "name": "python3"
  },
  "language_info": {
   "codemirror_mode": {
    "name": "ipython",
    "version": 3
   },
   "file_extension": ".py",
   "mimetype": "text/x-python",
   "name": "python",
   "nbconvert_exporter": "python",
   "pygments_lexer": "ipython3",
   "version": "3.12.10"
  }
 },
 "nbformat": 4,
 "nbformat_minor": 5
}

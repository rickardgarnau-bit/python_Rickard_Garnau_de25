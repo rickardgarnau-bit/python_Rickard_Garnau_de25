{
 "cells": [
  {
   "cell_type": "markdown",
   "id": "88eb7859",
   "metadata": {},
   "source": [
    "0. Check sign (*)\n",
    "Ask the user to input a number and check if this number is positive, negative or zero and print it out."
   ]
  },
  {
   "cell_type": "code",
   "execution_count": 1,
   "id": "ca1b1f4b",
   "metadata": {},
   "outputs": [
    {
     "name": "stdout",
     "output_type": "stream",
     "text": [
      "You chose a positive number\n"
     ]
    }
   ],
   "source": [
    "number = float(input(\"Pick a number: \"))\n",
    "\n",
    "if number < 0:\n",
    "    print(\"You chose a negative number\")\n",
    "elif number == 0:\n",
    "    print('You chose zero')\n",
    "else:\n",
    "    print(\"You chose a positive number\")"
   ]
  },
  {
   "cell_type": "markdown",
   "id": "7fae386e",
   "metadata": {},
   "source": [
    "1. Smallest (*)\n",
    "Ask the user to input two numbers and check which one is the smallest and print it out."
   ]
  },
  {
   "cell_type": "code",
   "execution_count": 3,
   "id": "0d427fba",
   "metadata": {},
   "outputs": [
    {
     "name": "stdout",
     "output_type": "stream",
     "text": [
      "344 is the smallest number\n"
     ]
    }
   ],
   "source": [
    "num1 = int(input(\"Select a number\"))\n",
    "num2 = int(input(\"The a second number\"))\n",
    "\n",
    "if num1 < num2:\n",
    "    print(f\"{num1} is the smallest number\")\n",
    "else:\n",
    "    print(f\"{num2} is the smallest number\")"
   ]
  },
  {
   "cell_type": "markdown",
   "id": "ee7b6cd3",
   "metadata": {},
   "source": [
    "## 2. Medicine (*)\n",
    "The information in the following table is stated in a medicine package. Also it is stated that for children weight is more important than age.\n",
    "\n",
    "Age\tNumber of pills\n",
    "Adults & adolescent\n",
    "over 40 kg\tover 12 years, pills 1-2\n",
    "Children 26-40 kg\t7-12 years, pills 1/2-1\n",
    "Children 15-25 kg\t3-7 years, pills 1/2"
   ]
  },
  {
   "cell_type": "code",
   "execution_count": 5,
   "id": "589df64e",
   "metadata": {},
   "outputs": [
    {
     "name": "stdout",
     "output_type": "stream",
     "text": [
      "Half a pill\n"
     ]
    }
   ],
   "source": [
    "age = int(input(\"Enter your age: \"))\n",
    "weight = float(input(\"Enter your weight in kg: \"))\n",
    "\n",
    "if age > 12 and weight >= 40:\n",
    "    print(\"Take one or two pills\")\n",
    "elif 7 <= age <= 12 and 26 <= weight: \n",
    "    print(\"Take one to one and a half pills\")\n",
    "elif 3 <= age < 7 and 15 <= weight <= 25:\n",
    "    print(\"Half a pill\")\n",
    "else:\n",
    "    print(\"Consult your doctor\")\n",
    "\n"
   ]
  },
  {
   "cell_type": "markdown",
   "id": "6d7bd97e",
   "metadata": {},
   "source": [
    "3. Divisible (*)\n",
    "Let the user input a number. Check if the number is\n",
    "\n",
    "even or odd\n",
    "is divisible by 5\n",
    "is divisble by 5 and odd"
   ]
  },
  {
   "cell_type": "code",
   "execution_count": null,
   "id": "e7522f87",
   "metadata": {},
   "outputs": [
    {
     "name": "stdout",
     "output_type": "stream",
     "text": [
      "Odd nubmer\n",
      "Number is divisable by five\n",
      "Number is divisable by five and odd\n"
     ]
    }
   ],
   "source": [
    "number = float(input(\"Choose a number\"))\n",
    "#a\n",
    "if number % 2 == 0:\n",
    "    print(\"Even number\")\n",
    "else:\n",
    "    print(\"Odd number\")\n",
    "\n",
    "#b\n",
    "if number % 5 == 0:\n",
    "    print(\"Number is divisable by five\")\n",
    "else:\n",
    "    print(\"It's not\")\n",
    "\n",
    "#c\n",
    "if number % 5 == 0 and number % 2 != 0:\n",
    "    print(\"Number is divisable by five and odd\")\n",
    "else:\n",
    "    print(\"It's not\")\n",
    "\n"
   ]
  },
  {
   "cell_type": "markdown",
   "id": "f6a3909e",
   "metadata": {},
   "source": [
    "# 4. Luggage size (*)\n",
    "The maximum allowed luggage size for boarding an airplane is:\n",
    "\n",
    "weight: 8kg\n",
    "dimensions: 55x40x23cm (length x width x height)\n",
    "Let the user input weight, length, width and height of the luggage. The program should check if the luggage is allowed or not."
   ]
  },
  {
   "cell_type": "code",
   "execution_count": null,
   "id": "74486a22",
   "metadata": {},
   "outputs": [
    {
     "name": "stdout",
     "output_type": "stream",
     "text": [
      "Acces denied\n",
      "Weight: 34.0 kg, Length: 23.0 cm, Width: 54.0 cm, Height: 65.0 cm\n"
     ]
    }
   ],
   "source": [
    "weight = float(input(\"Enter the weight in kg: \"))\n",
    "length = float(input(\"Enter the length in cm: \"))\n",
    "width = float(input(\"Enter the witdh: \"))\n",
    "height = float(input(\"Enter the height: \"))\n",
    "\n",
    "\n",
    "if weight <= 8 and length <= 55 and width <= 40 and height <= 23:\n",
    "    print(\"Check in\")\n",
    "else:\n",
    "    print(\"Access denied\")\n",
    "\n",
    "print(f\"Weight: {weight} kg, Length: {length} cm, Width: {width} cm, Height: {height} cm\")"
   ]
  },
  {
   "cell_type": "markdown",
   "id": "9d3cc108",
   "metadata": {},
   "source": [
    "# 5. Count numbers (*)\n",
    "Use a for statement to count from:\n",
    "\n",
    "a)   -10 to 10 with one increment (*)\n",
    "\n",
    "b)   -10 to 10 with two increment (*)"
   ]
  },
  {
   "cell_type": "code",
   "execution_count": 23,
   "id": "76b3e7ea",
   "metadata": {},
   "outputs": [
    {
     "name": "stdout",
     "output_type": "stream",
     "text": [
      "-10 -9 -8 -7 -6 -5 -4 -3 -2 -1 0 1 2 3 4 5 6 7 8 9 10 -10 -8 -6 -4 -2 0 2 4 6 8 10 "
     ]
    }
   ],
   "source": [
    "for i in range(-10, 11, 1):\n",
    "    print(i, end=\" \")\n",
    "\n",
    "for i in range(-10, 11, 2):\n",
    "    print(i, end=\" \")"
   ]
  },
  {
   "cell_type": "markdown",
   "id": "ba40d3a4",
   "metadata": {},
   "source": [
    "# 5. Arithmetic sum (*)\n",
    "Use a while statement to compute the following sums:\n",
    "\n",
    "a)   \n",
    "sum\n",
    "=\n",
    "1\n",
    "+\n",
    "2\n",
    "+\n",
    "…\n",
    "+\n",
    "99\n",
    "+\n",
    "100\n",
    "\n",
    "b)   \n",
    "sum\n",
    "=\n",
    "1\n",
    "+\n",
    "3\n",
    "+\n",
    "5\n",
    "+\n",
    "…\n",
    "+\n",
    "97\n",
    "+\n",
    "99\n",
    "\n",
    "Repeat these using a for statement"
   ]
  },
  {
   "cell_type": "code",
   "execution_count": 26,
   "id": "6e8ad1a1",
   "metadata": {},
   "outputs": [
    {
     "name": "stdout",
     "output_type": "stream",
     "text": [
      "Sum a) = 5050\n"
     ]
    }
   ],
   "source": [
    "i = 1\n",
    "total = 0\n",
    "\n",
    "while i <= 100:\n",
    "    total += i\n",
    "    i += 1\n",
    "\n",
    "print(\"Sum a) =\", total)"
   ]
  },
  {
   "cell_type": "code",
   "execution_count": 34,
   "id": "f3303ac1",
   "metadata": {},
   "outputs": [
    {
     "name": "stdout",
     "output_type": "stream",
     "text": [
      "Wrong! The answer was 36\n",
      "Correct guess\n",
      "Correct guess\n",
      "Thanks for playing!\n"
     ]
    }
   ],
   "source": [
    "import random as rnd\n",
    "\n",
    "while True:\n",
    "    x = rnd.randint(1,10)\n",
    "    y = rnd.randint(1,10)\n",
    "\n",
    "    guess = int(input(f\"What is {x} * {y}? \"))\n",
    "    if guess == x * y:\n",
    "        print(\"Correct guess\")\n",
    "    else:\n",
    "        print(f\"Wrong! The answer was {x * y}\")\n",
    "    play_again= input(\" Play again? (yes/no): \").lower()\n",
    "    if play_again != \"yes\":\n",
    "        print(\"Thanks for playing!\")\n",
    "        break\n",
    "\n",
    "\n",
    "\n",
    "\n",
    "\n",
    "\n",
    "\n",
    "\n",
    "\n"
   ]
  },
  {
   "cell_type": "code",
   "execution_count": 25,
   "id": "fb72432b",
   "metadata": {},
   "outputs": [
    {
     "name": "stdout",
     "output_type": "stream",
     "text": [
      "Sum a) = 5050\n"
     ]
    }
   ],
   "source": [
    "total = 0\n",
    "for i in range(1, 101):  # 101 för att inkludera 100\n",
    "    total += i\n",
    "\n",
    "print(\"Sum a) =\", total)"
   ]
  },
  {
   "cell_type": "markdown",
   "id": "1d7886a6",
   "metadata": {},
   "source": [
    "# 7. Multiplication table (*)\n",
    "Use for statement(s) to:\n",
    "\n",
    "  a)   print out the 6th multiplication table from 0 to 10 (*)\n",
    "\n",
    "  b)   let the user input the table, start and end of the table. (*)\n",
    "\n",
    "  c)   print out a full multiplication table from 0 to 10. (**)\n",
    "\n",
    "Hint: Use nested for-loops, which means a for-loop in a for-loop. To format the table nicely, use f-string:\n",
    "\n",
    "print(f\"{number :4}\", end = \"\")"
   ]
  },
  {
   "cell_type": "code",
   "execution_count": 10,
   "id": "2d4532c1",
   "metadata": {},
   "outputs": [
    {
     "name": "stdout",
     "output_type": "stream",
     "text": [
      "   0   6  12  18  24  30  36  42  48  54  60\n",
      "   0   6  12  18  24  30  36  42  48  54  60\n",
      "   0   6  12  18  24  30  36  42  48  54  60\n",
      "   0   6  12  18  24  30  36  42  48  54  60\n",
      "   0   6  12  18  24  30  36  42  48  54  60\n",
      "   0   6  12  18  24  30  36  42  48  54  60\n",
      "   0   6  12  18  24  30  36  42  48  54  60\n",
      "   0   6  12  18  24  30  36  42  48  54  60\n",
      "   0   6  12  18  24  30  36  42  48  54  60\n",
      "   0   6  12  18  24  30  36  42  48  54  60\n",
      "   0   6  12  18  24  30  36  42  48  54  60\n"
     ]
    }
   ],
   "source": [
    "# a)\n",
    "number = 6\n",
    "for i in range(11):\n",
    "    for j in range(11):\n",
    "        print(f\"{number * j:4}\", end=\"\")\n",
    "    print()"
   ]
  },
  {
   "cell_type": "code",
   "execution_count": 12,
   "id": "93ecd0e6",
   "metadata": {},
   "outputs": [
    {
     "name": "stdout",
     "output_type": "stream",
     "text": [
      "8 * 1 =    8\n",
      "8 * 2 =   16\n",
      "8 * 3 =   24\n",
      "8 * 4 =   32\n",
      "8 * 5 =   40\n",
      "8 * 6 =   48\n",
      "8 * 7 =   56\n",
      "8 * 8 =   64\n",
      "8 * 9 =   72\n",
      "8 * 10 =   80\n"
     ]
    }
   ],
   "source": [
    "# b)\n",
    "\n",
    "table = int(input(\"Choose table\"))\n",
    "start = int(input(\"Choose starting point\"))\n",
    "end = int(input(\"Where it ends\"))\n",
    "\n",
    "for i in range(start, end + 1):\n",
    "    print(f\"{table} * {i} = {table * i:4}\")"
   ]
  },
  {
   "cell_type": "code",
   "execution_count": null,
   "id": "ba6dcd56",
   "metadata": {},
   "outputs": [
    {
     "name": "stdout",
     "output_type": "stream",
     "text": [
      "   0   0   0   0   0   0   0   0   0   0   0\n",
      "   0   1   2   3   4   5   6   7   8   9  10\n",
      "   0   2   4   6   8  10  12  14  16  18  20\n",
      "   0   3   6   9  12  15  18  21  24  27  30\n",
      "   0   4   8  12  16  20  24  28  32  36  40\n",
      "   0   5  10  15  20  25  30  35  40  45  50\n",
      "   0   6  12  18  24  30  36  42  48  54  60\n",
      "   0   7  14  21  28  35  42  49  56  63  70\n",
      "   0   8  16  24  32  40  48  56  64  72  80\n",
      "   0   9  18  27  36  45  54  63  72  81  90\n",
      "   0  10  20  30  40  50  60  70  80  90 100\n"
     ]
    }
   ],
   "source": [
    "# c)\n",
    "for i in range(11):\n",
    "    for j in range(11):\n",
    "        print(f\"{i * j:4}\", end=\"\")\n",
    "    print()"
   ]
  },
  {
   "cell_type": "markdown",
   "id": "fc7d5f6b",
   "metadata": {},
   "source": [
    "# 8. Rice on chessboard (*)\n",
    "In first square of the chessboard there is one grain of rice, in the second square there is two grains, in the third square there is four grains and so on. How many grains are there in the whole chessboard when all squares are filled using this pattern?"
   ]
  },
  {
   "cell_type": "code",
   "execution_count": 1,
   "id": "59b127b5",
   "metadata": {},
   "outputs": [
    {
     "name": "stdout",
     "output_type": "stream",
     "text": [
      "Total rice in the chessboard: 18446744073709551615\n"
     ]
    }
   ],
   "source": [
    "squares = 64\n",
    "total_rice = 0\n",
    "rice_on_square = 1\n",
    "\n",
    "for i in range(squares):\n",
    "    total_rice += rice_on_square\n",
    "    rice_on_square *= 2\n",
    "print(f\"Total rice in the chessboard: {total_rice}\")"
   ]
  },
  {
   "cell_type": "markdown",
   "id": "def691d9",
   "metadata": {},
   "source": [
    "# 9. Check convergence (**)\n",
    "Use a while statement to compute the following sums:"
   ]
  },
  {
   "cell_type": "code",
   "execution_count": 8,
   "id": "2c6af9a9",
   "metadata": {},
   "outputs": [
    {
     "name": "stdout",
     "output_type": "stream",
     "text": [
      "Sum using while-loop: 1.96875\n"
     ]
    }
   ],
   "source": [
    "# a) While\n",
    "n = 5 # n decides how many terms to summarize.\n",
    "# 5 means we summarize the first 6 terms (from i = 0 to i = 5).\n",
    "i = 0 # en räknare som håller reda på vilken term vi är i loopen.\n",
    "sum = 0\n",
    "\n",
    "while i <= n:\n",
    "    sum += 1 / (2**i)\n",
    "    i += 1\n",
    "print(f\"Sum using while-loop: {sum}\")"
   ]
  },
  {
   "cell_type": "code",
   "execution_count": 1,
   "id": "d9796296",
   "metadata": {},
   "outputs": [
    {
     "name": "stdout",
     "output_type": "stream",
     "text": [
      "3.0\n"
     ]
    }
   ],
   "source": [
    "# a) For\n",
    "\n",
    "n = int(input(\"Enter 'n': \"))\n",
    "i = 0\n",
    "sum2 = 0\n",
    "\n",
    "for i in range(n + 1):\n",
    "    sum2 += +1 / (2** + 1)\n",
    "print(sum2)"
   ]
  },
  {
   "cell_type": "code",
   "execution_count": 5,
   "id": "0833e884",
   "metadata": {},
   "outputs": [
    {
     "name": "stdout",
     "output_type": "stream",
     "text": [
      "Sum using a while loop: 0.7440115440115441\n"
     ]
    }
   ],
   "source": [
    "# b)\n",
    "\n",
    "n = 5\n",
    "i = 0\n",
    "sum_b = 0\n",
    "\n",
    "while i <= n:\n",
    "    sum_b += (-1)**i / (2*i + 1) # (-1)^i växlar tecken, 2*i+1 är nämnaren\n",
    "    i += 1\n",
    "print(f\"Sum using a while loop: {sum_b}\")\n"
   ]
  },
  {
   "cell_type": "code",
   "execution_count": null,
   "id": "320d2a0e",
   "metadata": {},
   "outputs": [
    {
     "name": "stdout",
     "output_type": "stream",
     "text": [
      "0.7440115440115441\n"
     ]
    }
   ],
   "source": [
    "# b) For\n",
    "\n",
    "n = 5\n",
    "i = 0\n",
    "sum1 = 0\n",
    "\n",
    "for i in range (n + 1):\n",
    "    sum1 += (-1)**i / (2*i + 1)\n",
    "print(sum1)\n"
   ]
  },
  {
   "cell_type": "markdown",
   "id": "44b2ce09",
   "metadata": {},
   "source": [
    "# 10. Theory\n",
    "a) When is it better to use while statement and when is it better to use for statement\n",
    "\n",
    "b) What is the difference between = and == in Python?\n",
    "\n",
    "c) Explain how an if-elif-else block works in Python. What happens if multiple conditions are true?\n",
    "\n",
    "d) What does the continue statement do in a loop? How is it different from break?\n",
    "\n",
    "e) Explain the meaning of truthy and falsy values and give a few example of both\n",
    "\n",
    "f) Can you nest control structures in Python (e.g., a loop inside an if)? Give a brief example.\n",
    "\n",
    "g) Every expression can be part of a statement, but not all statements are expressions. True or false?"
   ]
  },
  {
   "cell_type": "code",
   "execution_count": null,
   "id": "6052f6a5",
   "metadata": {},
   "outputs": [],
   "source": [
    "#a) While statement is when you don't know how many times the loop will run. For is better when you know how many times the loop will run.\n",
    "#b) = is used to assign a value. == is used to compare values, to decide if it's true or false\n",
    "#c) if to check if a statement is true or false, if false, elif continues from \"if\" and checks another condition.\n",
    "### Else shows the result if all conditions are false.\n",
    "### If multiple conditions are true, it prints out the result stopping the chain.\n",
    "#d) Continue skips part of the loop and continues to run. Break ends it no matter what\n",
    "#e) Python reads thruthy as true even if it's not literaly true. Same thing with Falsy\n",
    "#f) Yes:\n",
    "x = 3\n",
    "\n",
    "if x > 0:\n",
    "    print(\"x is positive, printing numbers:\")\n",
    "    for i in range(1, x + 1):\n",
    "        print(i)\n",
    "\n",
    "for i in range(5):\n",
    "    if i % 2 == 0:\n",
    "        print(i, \"is even\")\n",
    "    else:\n",
    "        print(i, \"is odd\")\n",
    "#g) True\n",
    "\n",
    "2 + 3       # expression → evaluates to 5\n",
    "x * 10      # expression → depends on x’s value\n",
    "\n",
    "x = 5             # assignment statement\n",
    "if x > 0: ...     # if statement\n",
    "for i in range(5): ...  # loop statement\n",
    "\n"
   ]
  }
 ],
 "metadata": {
  "kernelspec": {
   "display_name": "Python 3",
   "language": "python",
   "name": "python3"
  },
  "language_info": {
   "codemirror_mode": {
    "name": "ipython",
    "version": 3
   },
   "file_extension": ".py",
   "mimetype": "text/x-python",
   "name": "python",
   "nbconvert_exporter": "python",
   "pygments_lexer": "ipython3",
   "version": "3.12.10"
  }
 },
 "nbformat": 4,
 "nbformat_minor": 5
}

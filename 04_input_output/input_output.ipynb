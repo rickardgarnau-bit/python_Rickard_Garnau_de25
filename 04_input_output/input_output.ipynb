{
 "cells": [
  {
   "cell_type": "code",
   "execution_count": 1,
   "id": "f5fdb2fb",
   "metadata": {},
   "outputs": [
    {
     "name": "stdout",
     "output_type": "stream",
     "text": [
      "Hello world!\n",
      "My name is Kokchun\n"
     ]
    }
   ],
   "source": [
    "# this is a comment starting with hashtag. Comments are ignored by Python interpretor\n",
    "print(\"Hello world!\") # prints Hello world!\n",
    "print('My name is Kokchun') # notice that you can write strings with '' as well as with \"\""
   ]
  },
  {
   "cell_type": "code",
   "execution_count": 2,
   "id": "f07dc71c",
   "metadata": {},
   "outputs": [
    {
     "name": "stdout",
     "output_type": "stream",
     "text": [
      "My name is Kokchun Giang\n",
      "My age is 34\n",
      "More specifically, I am 34.5 years old\n"
     ]
    }
   ],
   "source": [
    "firstname = \"Kokchun\" # firstname is assigned with the value \"Kokchun\"\n",
    "lastname = \"Giang\" \n",
    "age = 34 \n",
    "\n",
    "# this is an f-string, which allows you to incorporate variable into the strings\n",
    "print(f\"My name is {firstname} {lastname}\")\n",
    "print(f\"My age is {age}\")\n",
    "\n",
    "# reassign another value to an existing variable\n",
    "age = 34.5\n",
    "print(f\"More specifically, I am {age} years old\")"
   ]
  },
  {
   "cell_type": "code",
   "execution_count": 3,
   "id": "c8577c29",
   "metadata": {},
   "outputs": [
    {
     "name": "stdout",
     "output_type": "stream",
     "text": [
      " is  years old\n"
     ]
    }
   ],
   "source": [
    "name = input(\"What is your name? \") # Gore\n",
    "age = input(f\"How old are you {name}? \") # 42\n",
    "print(f\"{name} is {age} years old\")"
   ]
  },
  {
   "cell_type": "code",
   "execution_count": 4,
   "id": "18375828",
   "metadata": {},
   "outputs": [
    {
     "ename": "ValueError",
     "evalue": "could not convert string to float: ''",
     "output_type": "error",
     "traceback": [
      "\u001b[31m---------------------------------------------------------------------------\u001b[39m",
      "\u001b[31mValueError\u001b[39m                                Traceback (most recent call last)",
      "\u001b[36mCell\u001b[39m\u001b[36m \u001b[39m\u001b[32mIn[4]\u001b[39m\u001b[32m, line 3\u001b[39m\n\u001b[32m      1\u001b[39m gravity = \u001b[32m9.82\u001b[39m\n\u001b[32m      2\u001b[39m \u001b[38;5;66;03m# converts the string from input() to float\u001b[39;00m\n\u001b[32m----> \u001b[39m\u001b[32m3\u001b[39m mass = \u001b[38;5;28;43mfloat\u001b[39;49m\u001b[43m(\u001b[49m\u001b[38;5;28;43minput\u001b[39;49m\u001b[43m(\u001b[49m\u001b[33;43m\"\u001b[39;49m\u001b[33;43mEnter your weight in kg? \u001b[39;49m\u001b[33;43m\"\u001b[39;49m\u001b[43m)\u001b[49m\u001b[43m)\u001b[49m \u001b[38;5;66;03m# try to skip the conversion and see what happens\u001b[39;00m\n\u001b[32m      4\u001b[39m force = mass*gravity\n\u001b[32m      6\u001b[39m \u001b[38;5;66;03m# entered 65, note the output has floating point precision error\u001b[39;00m\n",
      "\u001b[31mValueError\u001b[39m: could not convert string to float: ''"
     ]
    }
   ],
   "source": [
    "gravity = 9.82\n",
    "# converts the string from input() to float\n",
    "mass = float(input(\"Enter your weight in kg? \")) # try to skip the conversion and see what happens\n",
    "force = mass*gravity\n",
    "\n",
    "# entered 65, note the output has floating point precision error\n",
    "print(f\"Your force is {force}N\") \n",
    "\n",
    "# you can use f-string to format the output to 1 decimal\n",
    "print(f\"Your force is {force:.1f}N\")"
   ]
  },
  {
   "cell_type": "code",
   "execution_count": 5,
   "id": "7608cec5",
   "metadata": {},
   "outputs": [
    {
     "name": "stdout",
     "output_type": "stream",
     "text": [
      "Circle with radius 34.0 has \n",
      " area: 3631.68 a.u. \n",
      " circumference: 213.63 l.u.\n"
     ]
    }
   ],
   "source": [
    "import math  # math module has many constants and functions for mathematics\n",
    "\n",
    "radius = float(input(\"Enter a radius: \"))\n",
    "area = math.pi * radius**2  # ** is the power operator\n",
    "circumference = 2 * math.pi * radius\n",
    "\n",
    "# \\n gives newlines in prints\n",
    "print(\n",
    "    f\"Circle with radius {radius} has \\n area: {area:.2f} a.u. \\n circumference: {circumference:.2f} l.u.\"\n",
    ")"
   ]
  },
  {
   "cell_type": "code",
   "execution_count": null,
   "id": "9f64422d",
   "metadata": {},
   "outputs": [],
   "source": [
    "# overwriting previous value of radius\n",
    "radius = 7\n",
    "geometry = \"circle\"\n",
    "is_unit_circle = False\n",
    "screen_inches = 6.4\n",
    "\n",
    "# self-documenting expressions with = operator in f-string\n",
    "print(f\"{radius = }\")\n",
    "print(f\"{geometry = }\")\n",
    "print(f\"{is_unit_circle = }\")\n",
    "print(f\"{screen_inches = }\")\n",
    "\n",
    "# last expression is written out in jupyter notebook \n",
    "type(radius), type(geometry), type(is_unit_circle), type(screen_inches)"
   ]
  }
 ],
 "metadata": {
  "kernelspec": {
   "display_name": "04_input_output",
   "language": "python",
   "name": "python3"
  },
  "language_info": {
   "codemirror_mode": {
    "name": "ipython",
    "version": 3
   },
   "file_extension": ".py",
   "mimetype": "text/x-python",
   "name": "python",
   "nbconvert_exporter": "python",
   "pygments_lexer": "ipython3",
   "version": "3.12.10"
  }
 },
 "nbformat": 4,
 "nbformat_minor": 5
}

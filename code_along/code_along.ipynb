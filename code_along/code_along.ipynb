{
 "cells": [
  {
   "cell_type": "code",
   "execution_count": 2,
   "id": "71c863b0",
   "metadata": {},
   "outputs": [
    {
     "data": {
      "text/plain": [
       "('Kokchun', 34)"
      ]
     },
     "execution_count": 2,
     "metadata": {},
     "output_type": "execute_result"
    }
   ],
   "source": [
    "# everything public\n",
    "\n",
    "class Person:\n",
    "    def __init__(self, name, age):\n",
    "        self.name = name\n",
    "        self.age = age\n",
    "\n",
    "p1 = Person(\"Kokchun\", 34)\n",
    "p1.name, p1.age"
   ]
  },
  {
   "cell_type": "code",
   "execution_count": 3,
   "id": "e8097397",
   "metadata": {},
   "outputs": [
    {
     "data": {
      "text/plain": [
       "-5"
      ]
     },
     "execution_count": 3,
     "metadata": {},
     "output_type": "execute_result"
    }
   ],
   "source": [
    "p2 = Person(\"Ada\", -5)\n",
    "p2.age"
   ]
  },
  {
   "cell_type": "code",
   "execution_count": 13,
   "id": "2222dbe4",
   "metadata": {},
   "outputs": [
    {
     "ename": "AttributeError",
     "evalue": "'Person' object has no attribute 'name'",
     "output_type": "error",
     "traceback": [
      "\u001b[31m---------------------------------------------------------------------------\u001b[39m",
      "\u001b[31mAttributeError\u001b[39m                            Traceback (most recent call last)",
      "\u001b[36mCell\u001b[39m\u001b[36m \u001b[39m\u001b[32mIn[13]\u001b[39m\u001b[32m, line 9\u001b[39m\n\u001b[32m      6\u001b[39m p3 = Person(\u001b[33m\"\u001b[39m\u001b[33mBeda\u001b[39m\u001b[33m\"\u001b[39m, -\u001b[32m3\u001b[39m)\n\u001b[32m      8\u001b[39m \u001b[38;5;66;03m# name attribute don't exist anymore \u001b[39;00m\n\u001b[32m----> \u001b[39m\u001b[32m9\u001b[39m \u001b[43mp3\u001b[49m\u001b[43m.\u001b[49m\u001b[43mname\u001b[49m\n",
      "\u001b[31mAttributeError\u001b[39m: 'Person' object has no attribute 'name'"
     ]
    }
   ],
   "source": [
    "class Person:\n",
    "    def __init__(self, name, age):\n",
    "        self._name = name\n",
    "        self._age = age\n",
    "\n",
    "p3 = Person(\"Beda\", -3)\n",
    "\n",
    "# name attribute don't exist anymore \n",
    "p3.name"
   ]
  },
  {
   "cell_type": "code",
   "execution_count": 5,
   "id": "ec76cd99",
   "metadata": {},
   "outputs": [
    {
     "data": {
      "text/plain": [
       "'Beda'"
      ]
     },
     "execution_count": 5,
     "metadata": {},
     "output_type": "execute_result"
    }
   ],
   "source": [
    "# you should not do this, but you can \n",
    "# python programmers know that underscore prefix is private by convention\n",
    "p3._name"
   ]
  },
  {
   "cell_type": "code",
   "execution_count": 6,
   "id": "6d7998d7",
   "metadata": {},
   "outputs": [
    {
     "name": "stdout",
     "output_type": "stream",
     "text": [
      "Age must be between 0 and 124\n"
     ]
    },
    {
     "data": {
      "text/plain": [
       "Person('Eda', 5)"
      ]
     },
     "execution_count": 6,
     "metadata": {},
     "output_type": "execute_result"
    }
   ],
   "source": [
    "class Person:\n",
    "    def __init__(self, name, age):\n",
    "        self._name = name\n",
    "\n",
    "        # issue: this validation only happens during instantiation\n",
    "        if not (0 <= age < 125):\n",
    "            raise ValueError(\"Age must be between 0 and 124\")\n",
    "\n",
    "        self._age = age\n",
    "\n",
    "    def __repr__(self):\n",
    "        return f\"Person('{self._name}', {self._age})\"\n",
    "\n",
    "try:\n",
    "    p4 = Person(\"Doda\", -5)\n",
    "except ValueError as err:\n",
    "    print(err)\n",
    "\n",
    "p5 = Person(\"Eda\", 5)\n",
    "p5"
   ]
  },
  {
   "cell_type": "code",
   "execution_count": 7,
   "id": "afeaaf50",
   "metadata": {},
   "outputs": [
    {
     "data": {
      "text/plain": [
       "Person('Eda', -5)"
      ]
     },
     "execution_count": 7,
     "metadata": {},
     "output_type": "execute_result"
    }
   ],
   "source": [
    "# this is not good, but okay because validation happens only in __init__ now\n",
    "p5._age = -5 \n",
    "p5"
   ]
  },
  {
   "cell_type": "code",
   "execution_count": 8,
   "id": "ffaa1bfc",
   "metadata": {},
   "outputs": [
    {
     "ename": "AttributeError",
     "evalue": "'Person' object has no attribute 'age'",
     "output_type": "error",
     "traceback": [
      "\u001b[31m---------------------------------------------------------------------------\u001b[39m",
      "\u001b[31mAttributeError\u001b[39m                            Traceback (most recent call last)",
      "\u001b[36mCell\u001b[39m\u001b[36m \u001b[39m\u001b[32mIn[8]\u001b[39m\u001b[32m, line 1\u001b[39m\n\u001b[32m----> \u001b[39m\u001b[32m1\u001b[39m \u001b[43mp5\u001b[49m\u001b[43m.\u001b[49m\u001b[43mage\u001b[49m\n",
      "\u001b[31mAttributeError\u001b[39m: 'Person' object has no attribute 'age'"
     ]
    }
   ],
   "source": [
    "p5.age"
   ]
  },
  {
   "cell_type": "code",
   "execution_count": 9,
   "id": "6375fa7e",
   "metadata": {},
   "outputs": [
    {
     "name": "stdout",
     "output_type": "stream",
     "text": [
      "age getter called\n"
     ]
    },
    {
     "data": {
      "text/plain": [
       "8"
      ]
     },
     "execution_count": 9,
     "metadata": {},
     "output_type": "execute_result"
    }
   ],
   "source": [
    "class Person:\n",
    "    def __init__(self, name, age):\n",
    "        self._name = name\n",
    "\n",
    "        # issue: this validation only happens during instantiation\n",
    "        if not (0 <= age < 125):\n",
    "            raise ValueError(\"Age must be between 0 and 124\")\n",
    "\n",
    "        self._age = age\n",
    "\n",
    "    # a decorator - it gives a function more functionality\n",
    "    # makes it into a property (getter and setter)\n",
    "    @property\n",
    "    def age(self):\n",
    "        print(\"age getter called\")\n",
    "        return self._age\n",
    "\n",
    "    def __repr__(self):\n",
    "        return f\"Person('{self._name}', {self._age})\"\n",
    "\n",
    "p6 = Person(\"Bibbi\", 8)\n",
    "p6.age"
   ]
  },
  {
   "cell_type": "code",
   "execution_count": 15,
   "id": "1526c792",
   "metadata": {},
   "outputs": [
    {
     "ename": "AttributeError",
     "evalue": "property 'age' of 'Person' object has no setter",
     "output_type": "error",
     "traceback": [
      "\u001b[31m---------------------------------------------------------------------------\u001b[39m",
      "\u001b[31mAttributeError\u001b[39m                            Traceback (most recent call last)",
      "\u001b[36mCell\u001b[39m\u001b[36m \u001b[39m\u001b[32mIn[15]\u001b[39m\u001b[32m, line 2\u001b[39m\n\u001b[32m      1\u001b[39m \u001b[38;5;66;03m# there is no setter \u001b[39;00m\n\u001b[32m----> \u001b[39m\u001b[32m2\u001b[39m \u001b[43mp6\u001b[49m\u001b[43m.\u001b[49m\u001b[43mage\u001b[49m = \u001b[32m5\u001b[39m\n",
      "\u001b[31mAttributeError\u001b[39m: property 'age' of 'Person' object has no setter"
     ]
    }
   ],
   "source": [
    "# there is no setter \n",
    "p6.age = 5"
   ]
  },
  {
   "cell_type": "code",
   "execution_count": 19,
   "id": "4911093f",
   "metadata": {},
   "outputs": [
    {
     "name": "stdout",
     "output_type": "stream",
     "text": [
      "age setter called\n",
      "age setter called\n",
      "Age must be between 0 and 124\n"
     ]
    },
    {
     "data": {
      "text/plain": [
       "Person('Bobbo', 8)"
      ]
     },
     "execution_count": 19,
     "metadata": {},
     "output_type": "execute_result"
    }
   ],
   "source": [
    "class Person:    \n",
    "    def __init__(self, name, age):\n",
    "        self._name = name\n",
    "\n",
    "        # issue: this validation only happens during instantiation\n",
    "        if not (0 <= age < 125):\n",
    "            raise ValueError(\"Age must be between 0 and 124\")\n",
    "\n",
    "        self.age = age\n",
    "\n",
    "    # a decorator - it gives a function more functionality\n",
    "    # makes it into a property (getter and setter)\n",
    "    @property\n",
    "    def age(self):\n",
    "        print(\"age getter called\")\n",
    "        return self._age\n",
    "\n",
    "    @age.setter\n",
    "    def age(self, value):\n",
    "        print(\"age setter called\")\n",
    "\n",
    "        if not (0 <= value < 125):\n",
    "            raise ValueError(\"Age must be between 0 and 124\")\n",
    "        self._age = value\n",
    "\n",
    "    def __repr__(self):\n",
    "        return f\"Person('{self._name}', {self._age})\"\n",
    "\n",
    "# when instantiating Person - we use the age setter\n",
    "p9 = Person(\"Bobbo\", 8)\n",
    "# use the age getter\n",
    "try:\n",
    "    p9.age = -3\n",
    "except ValueError as err:\n",
    "    print(err)\n",
    "\n",
    "p9"
   ]
  },
  {
   "cell_type": "code",
   "execution_count": null,
   "id": "f6f15793",
   "metadata": {},
   "outputs": [
    {
     "ename": "AttributeError",
     "evalue": "'function' object has no attribute 'setter'",
     "output_type": "error",
     "traceback": [
      "\u001b[31m---------------------------------------------------------------------------\u001b[39m",
      "\u001b[31mAttributeError\u001b[39m                            Traceback (most recent call last)",
      "\u001b[36mCell\u001b[39m\u001b[36m \u001b[39m\u001b[32mIn[13]\u001b[39m\u001b[32m, line 1\u001b[39m\n\u001b[32m----> \u001b[39m\u001b[32m1\u001b[39m \u001b[38;5;28;43;01mclass\u001b[39;49;00m\u001b[38;5;250;43m \u001b[39;49m\u001b[34;43;01mEmployee\u001b[39;49;00m\u001b[43m:\u001b[49m\n\u001b[32m      3\u001b[39m \u001b[43m    \u001b[49m\u001b[38;5;28;43;01mdef\u001b[39;49;00m\u001b[38;5;250;43m \u001b[39;49m\u001b[34;43m__init__\u001b[39;49m\u001b[43m(\u001b[49m\u001b[38;5;28;43mself\u001b[39;49m\u001b[43m,\u001b[49m\u001b[43m \u001b[49m\u001b[43mname\u001b[49m\u001b[43m,\u001b[49m\u001b[43m \u001b[49m\u001b[43msocial_security_nr\u001b[49m\u001b[43m,\u001b[49m\u001b[43m \u001b[49m\u001b[43msalary\u001b[49m\u001b[43m)\u001b[49m\u001b[43m:\u001b[49m\n\u001b[32m      4\u001b[39m \u001b[43m        \u001b[49m\u001b[38;5;28;43mself\u001b[39;49m\u001b[43m.\u001b[49m\u001b[43m_name\u001b[49m\u001b[43m \u001b[49m\u001b[43m=\u001b[49m\u001b[43m \u001b[49m\u001b[43mname\u001b[49m\n",
      "\u001b[36mCell\u001b[39m\u001b[36m \u001b[39m\u001b[32mIn[13]\u001b[39m\u001b[32m, line 30\u001b[39m, in \u001b[36mEmployee\u001b[39m\u001b[34m()\u001b[39m\n\u001b[32m     28\u001b[39m         \u001b[38;5;28;01mraise\u001b[39;00m \u001b[38;5;167;01mValueError\u001b[39;00m(\u001b[33m\"\u001b[39m\u001b[33mMust be numbers\u001b[39m\u001b[33m\"\u001b[39m)\n\u001b[32m     29\u001b[39m     \u001b[38;5;28mself\u001b[39m._salary = value\n\u001b[32m---> \u001b[39m\u001b[32m30\u001b[39m \u001b[38;5;129m@salary\u001b[39m\u001b[43m.\u001b[49m\u001b[43msetter\u001b[49m\n\u001b[32m     31\u001b[39m \u001b[38;5;28;01mdef\u001b[39;00m\u001b[38;5;250m \u001b[39m\u001b[34mraise_salary\u001b[39m(\u001b[38;5;28mself\u001b[39m, percent):\n\u001b[32m     32\u001b[39m     \u001b[38;5;28;01mif\u001b[39;00m percent < \u001b[32m0\u001b[39m:\n\u001b[32m     33\u001b[39m         \u001b[38;5;28;01mraise\u001b[39;00m \u001b[38;5;167;01mValueError\u001b[39;00m(\u001b[33m\"\u001b[39m\u001b[33mMust be more than 0\u001b[39m\u001b[33m\"\u001b[39m)\n",
      "\u001b[31mAttributeError\u001b[39m: 'function' object has no attribute 'setter'"
     ]
    }
   ],
   "source": [
    "class Employee:\n",
    "    \n",
    "    def __init__(self, name, social_security_nr, salary):\n",
    "        self._name = name\n",
    "        self._social_security_nr = social_security_nr\n",
    "        self._salary = salary\n",
    "\n",
    "\n",
    "    def get_name(self):\n",
    "        return self._name\n",
    "    \n",
    "    def set_name(self, name):\n",
    "        self._name = name\n",
    "    \n",
    "    def get_social_security_nr(self):\n",
    "        return self._social_security_nr\n",
    "    \n",
    "    def set_social_security_nr(self, social_security_nr):\n",
    "        self._social_security_nr = social_security_nr\n",
    "    @property\n",
    "    def get_salary(self):\n",
    "        return self._salary\n",
    "    \n",
    "    \n",
    "    \n",
    "    def salary(self, value):\n",
    "        if not isinstance(value, (int, float)):\n",
    "            raise ValueError(\"Must be numbers\")\n",
    "        self._salary = value\n",
    "    @salary.setter\n",
    "    def raise_salary(self, percent):\n",
    "        if percent < 0:\n",
    "            raise ValueError(\"Must be more than 0\")\n",
    "        self._salary += self._salary * percent / 100\n",
    "        print(self._salary)\n",
    "\n",
    "p1 = Employee(\"Benny\", \"8810030056\", 40000)\n",
    "print(p1._salary)\n",
    "\n",
    "p1.raise_salary(10)\n",
    "print(p1.salary)"
   ]
  },
  {
   "cell_type": "code",
   "execution_count": null,
   "id": "88b5da3f",
   "metadata": {},
   "outputs": [],
   "source": []
  },
  {
   "cell_type": "code",
   "execution_count": 21,
   "id": "39944b36",
   "metadata": {},
   "outputs": [
    {
     "data": {
      "text/plain": [
       "EmployeeKicki, 50120321312, 30000, Polis, 2024"
      ]
     },
     "execution_count": 21,
     "metadata": {},
     "output_type": "execute_result"
    }
   ],
   "source": [
    "class Employee:\n",
    "    def __init__(self, name, ssr, salary, role, employment_year):\n",
    "        self.name = name\n",
    "        self._ssr = ssr\n",
    "        self.salary = salary\n",
    "        self.role = role\n",
    "        self.employment_year = employment_year\n",
    "\n",
    "    def increase_salary(self, value):\n",
    "        self.salary += value\n",
    "\n",
    "    def __repr__(self):\n",
    "        return f\"Employee{self.name}, {self._ssr}, {self.salary}, {self.role}, {self.employment_year}\"\n",
    "    \n",
    "e1 = Employee(\"Kicki\", 50120321312, 25000, \"Polis\", 2024)\n",
    "e1.increase_salary(5000)\n",
    "e1"
   ]
  },
  {
   "cell_type": "code",
   "execution_count": null,
   "id": "4829ba93",
   "metadata": {},
   "outputs": [
    {
     "data": {
      "text/plain": [
       "30000"
      ]
     },
     "execution_count": 22,
     "metadata": {},
     "output_type": "execute_result"
    }
   ],
   "source": [
    "class Employee:\n",
    "    def __init__(self, name, ssr, salary, role, employment_year):\n",
    "        self.name = name\n",
    "        self._ssr = ssr\n",
    "        self.salary = salary\n",
    "        self.role = role\n",
    "        self.employment_year = employment_year\n",
    "\n",
    "    def increase_salary(self, value):\n",
    "        self.salary += value\n",
    "\n",
    "    def __repr__(self):\n",
    "        return f\"Employee{self.name}, {self._ssr}, {self.salary}, {self.role}, {self.employment_year}\"\n",
    "    \n",
    "e1 = Employee(\"Kicki\", 50120321312, -25000, \"Polis\", 2024)\n",
    "e1.increase_salary(5000)"
   ]
  },
  {
   "cell_type": "code",
   "execution_count": null,
   "id": "9280d222",
   "metadata": {},
   "outputs": [],
   "source": []
  }
 ],
 "metadata": {
  "kernelspec": {
   "display_name": "Python 3",
   "language": "python",
   "name": "python3"
  },
  "language_info": {
   "codemirror_mode": {
    "name": "ipython",
    "version": 3
   },
   "file_extension": ".py",
   "mimetype": "text/x-python",
   "name": "python",
   "nbconvert_exporter": "python",
   "pygments_lexer": "ipython3",
   "version": "3.12.10"
  }
 },
 "nbformat": 4,
 "nbformat_minor": 5
}

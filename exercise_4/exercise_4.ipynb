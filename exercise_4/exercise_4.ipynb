{
 "cells": [
  {
   "cell_type": "markdown",
   "id": "59d848fb",
   "metadata": {},
   "source": [
    "# Exercise 4 - working with text and files"
   ]
  },
  {
   "cell_type": "markdown",
   "id": "9a975e27",
   "metadata": {},
   "source": [
    "#### 0. Counting words (*)\n",
    "Count the number of words in this sentence: \"A picture says more than a thousand words, a matematical formula says more than a thousand pictures.\" (*)"
   ]
  },
  {
   "cell_type": "code",
   "execution_count": 14,
   "id": "12edc434",
   "metadata": {},
   "outputs": [
    {
     "name": "stdout",
     "output_type": "stream",
     "text": [
      "17\n"
     ]
    }
   ],
   "source": [
    "sentance = \"A picture says more than a thousand words, a matematical formula says more than a thousand pictures.\"\n",
    "\n",
    "words = sentance.split()\n",
    "print(len(words))"
   ]
  },
  {
   "cell_type": "markdown",
   "id": "b419ab29",
   "metadata": {},
   "source": [
    "#### 1. Counting letters (*)\n",
    "Let the user input a word:\n",
    "\n",
    "a) print out the number of letters in the word. (*)\n",
    "\n",
    "b) print out the number of uppercase and lowercase letters of the word (*)"
   ]
  },
  {
   "cell_type": "code",
   "execution_count": 36,
   "id": "045ec9c2",
   "metadata": {},
   "outputs": [
    {
     "name": "stdout",
     "output_type": "stream",
     "text": [
      "7\n",
      "Uppercase =  2\n",
      "Lowercase =  5\n"
     ]
    }
   ],
   "source": [
    "word = input(\"Choose a word: \")\n",
    "#a)\n",
    "print(len(word))\n",
    "#b)\n",
    "\n",
    "uppercase = 0\n",
    "lowercase = 0\n",
    "\n",
    "for letter in word:\n",
    "    if letter.isupper():\n",
    "        uppercase += 1\n",
    "    elif letter.islower():\n",
    "        lowercase += 1\n",
    "print(\"Uppercase = \", uppercase)\n",
    "print(\"Lowercase = \", lowercase)"
   ]
  },
  {
   "cell_type": "markdown",
   "id": "29468417",
   "metadata": {},
   "source": [
    "## 2. Palindrome (\\*)\n",
    "\n",
    "A palindrome is a sequence of characters that is the same, when read forward as backwards (ignoring spaces). For example:\n",
    "\n",
    "- \"Anna\" is a palindrome\n",
    "- \"Ni talar bra latin\"\n",
    "- bjkjb\n",
    "\n",
    "Let the user input a sequence of characters and check if it is a palindrome. (\\*)"
   ]
  },
  {
   "cell_type": "code",
   "execution_count": 49,
   "id": "11770b54",
   "metadata": {},
   "outputs": [
    {
     "name": "stdout",
     "output_type": "stream",
     "text": [
      "It's a palindrome!\n"
     ]
    }
   ],
   "source": [
    "random_word = input(\"Choose a sequance of character\")\n",
    "\n",
    "if random_word == random_word[::-1]: # reverses the user input and and checks if the word is the same backwards.\n",
    "    print(\"It's a palindrome!\")\n",
    "else:\n",
    "    print(\"It's not a palindrome\")\n"
   ]
  },
  {
   "cell_type": "markdown",
   "id": "3ecfb45c",
   "metadata": {},
   "source": [
    "# 3. Vowels (**)\n",
    "Count the number of vowels in this sentence: \"Pure mathematics is, in its way, the poetry of logical ideas\""
   ]
  },
  {
   "cell_type": "code",
   "execution_count": 70,
   "id": "08af7856",
   "metadata": {},
   "outputs": [
    {
     "name": "stdout",
     "output_type": "stream",
     "text": [
      "20\n"
     ]
    }
   ],
   "source": [
    "sentance = \"Pure mathematics is, in its way, the poetry of logical ideas\"\n",
    "\n",
    "vowels_list = ['a', 'e', 'i', 'o', 'u']\n",
    "count = 0\n",
    "\n",
    "for letter in sentance.lower():\n",
    "    if letter in vowels_list:\n",
    "        count += 1\n",
    "print(count)"
   ]
  },
  {
   "cell_type": "markdown",
   "id": "e7ed63d1",
   "metadata": {},
   "source": [
    "# 4. Encryption (**)\n",
    "Let the user input a word and:\n",
    "\n",
    "  a)   encrypt the message by replacing each letter with the next letter. If the letter is in the end of the alphabet, use the first letter instead.\n",
    "\n",
    "e.g. in Swedish: \"höst\" \n",
    "→\n",
    " \"iatu\"\n",
    "\n"
   ]
  },
  {
   "cell_type": "code",
   "execution_count": 94,
   "id": "21ac3c45",
   "metadata": {},
   "outputs": [
    {
     "name": "stdout",
     "output_type": "stream",
     "text": [
      "Encrypted word:  ifk\n"
     ]
    }
   ],
   "source": [
    "user_word = input('Say something: ').lower()\n",
    "#a)\n",
    "alphabet = \"abcdefghijklmnopqrstuvwxyzåäö\"\n",
    "encrypted = \"\"\n",
    "\n",
    "for letter in user_word:\n",
    "    if letter in alphabet:\n",
    "        index = alphabet.index(letter)\n",
    "        new_index = (index + 1) % len(alphabet)\n",
    "        encrypted += alphabet[new_index]\n",
    "    else:\n",
    "        encrypted += letter\n",
    "print('Encrypted word: ', encrypted)\n",
    "    "
   ]
  },
  {
   "cell_type": "markdown",
   "id": "271d5dec",
   "metadata": {},
   "source": [
    "#### 5. Find and fix errors (*)\n",
    "Find the errors in this code to compute the distance between the point \n",
    "(\n",
    "x\n",
    ",\n",
    "y\n",
    ")\n",
    " and the origin in a cartesian coordinate system.\n"
   ]
  },
  {
   "cell_type": "code",
   "execution_count": 102,
   "id": "780b9e3e",
   "metadata": {},
   "outputs": [
    {
     "name": "stdout",
     "output_type": "stream",
     "text": [
      "0.7071067811865476\n"
     ]
    }
   ],
   "source": [
    "import numpy as np\n",
    "\n",
    "def distance(x, y):\n",
    "    return np.sqrt(x**2 + y**2)\n",
    "\n",
    "print(distance(0.5, 0.5))"
   ]
  },
  {
   "cell_type": "markdown",
   "id": "706684fb",
   "metadata": {},
   "source": [
    "# 6. Find and fix errors (*)\n",
    "Find the errors in this code. Just change the function, don't touch the test program."
   ]
  },
  {
   "cell_type": "code",
   "execution_count": 104,
   "id": "2dc64188",
   "metadata": {},
   "outputs": [
    {
     "name": "stdout",
     "output_type": "stream",
     "text": [
      "231 is not four-digit\n",
      "3124 is four-digit\n",
      "-4124 is four-digit\n",
      "-1000 is four-digit\n",
      "-999 is not four-digit\n",
      "1001 is four-digit\n",
      "10000 is not four-digit\n",
      "-10000 is not four-digit\n",
      "999 is not four-digit\n"
     ]
    }
   ],
   "source": [
    "\n",
    "def is_fourdigit(number):\n",
    "    if 1000 <= abs(number) <= 9999:\n",
    "        return True\n",
    "    else:\n",
    "        return False\n",
    "\n",
    "# test program\n",
    "test_numbers = [231, 3124, -4124, -1000,-999, 1001, 10000, -10000, 999]\n",
    "\n",
    "for number in test_numbers:\n",
    "    if is_fourdigit(number):\n",
    "        print(f\"{number} is four-digit\")\n",
    "    else:\n",
    "        print(f\"{number} is not four-digit\")\n"
   ]
  },
  {
   "cell_type": "markdown",
   "id": "51a0a613",
   "metadata": {},
   "source": [
    "# 7. Tram (*)\n",
    "Kokchun is a clumpsy computer user that doesn't take trams too often. Write a program to prompt the user for:\n",
    "\n",
    "number of times he/she wants to take tram in one month\n",
    "cost for one ticket\n",
    "cost for monthly card\n",
    "The program should calculate if it's worth for him to buy monthly card or not. Make the program user friendly with clear error messages and ask again in case of input errors."
   ]
  },
  {
   "cell_type": "code",
   "execution_count": 111,
   "id": "148a0e52",
   "metadata": {},
   "outputs": [
    {
     "name": "stdout",
     "output_type": "stream",
     "text": [
      "You should buy one ticket per trip.\n"
     ]
    }
   ],
   "source": [
    "# Funktion som frågar användaren efter ett positivt tal\n",
    "# och fortsätter fråga tills ett giltigt tal anges\n",
    "def get_positive_number(prompt):\n",
    "    while True:  # Loopar tills vi får korrekt input\n",
    "        try:\n",
    "            value = float(input(prompt))  # Försök konvertera input till ett tal\n",
    "            if value <= 0:  # Kontrollera att talet är större än noll\n",
    "                print(\"Please enter a number greater than zero.\")\n",
    "            else:\n",
    "                return value  # Returnerar talet om det är giltigt\n",
    "        except ValueError:  # Om input inte är ett tal\n",
    "            print(\"Invalid input! Please enter a number.\")\n",
    "\n",
    "# Frågar användaren om antal resor och kostnader med validering\n",
    "trips = get_positive_number(\"How many times do you want to ride the tram in one month? \")\n",
    "one_ticket = get_positive_number(\"What's the cost of one ticket? \")\n",
    "monthly_card = get_positive_number(\"How much is the monthly card? \")\n",
    "\n",
    "# Beräknar totalkostnaden om man köper enkelbiljetter\n",
    "total_cost_single = one_ticket * trips\n",
    "\n",
    "# Ger råd baserat på vilken variant som är billigast\n",
    "if total_cost_single < monthly_card:\n",
    "    print(\"You should buy one ticket per trip.\")  # Enkelbiljetter är billigare\n",
    "elif total_cost_single > monthly_card:\n",
    "    print(\"Buy the monthly card.\")  # Månadskort är billigare\n",
    "else:\n",
    "    print(\"Both options cost the same. Choose whichever you prefer!\")  # Kostnaden är lika\n"
   ]
  },
  {
   "cell_type": "markdown",
   "id": "e9682064",
   "metadata": {},
   "source": [
    "# 8. Dice rolls (*)\n",
    "Create a textfile called dice_rolls.txt using Python. Also for each subtask, write adequate headers.\n",
    "\n",
    "  a)   Simulate 20 dice rolls and write them to your textfile. (*)\n",
    "\n",
    "  b)   Sort the dice rolls from a) and write them to a separate row in the same textfile. (*)\n",
    "\n",
    "  c)   Count the number of fours in the dice rolls and write them to a separate row in the same textfile. (*)"
   ]
  },
  {
   "cell_type": "code",
   "execution_count": 38,
   "id": "e1ccf735",
   "metadata": {},
   "outputs": [],
   "source": [
    "# a) \n",
    "import random as rnd\n",
    "\n",
    "dice_rolls = 20\n",
    "result = 0\n",
    "\n",
    "with open (\"dice_rolls.txt\", \"w\") as file: # with open(..., \"w\") as file: → öppnar filen och stänger den automatiskt när loopen är klar.\n",
    "    file.write(\"--- Dice rolls (20 simulations) ---\\n\")\n",
    "\n",
    "    for i in range(1, dice_rolls + 1): # range(1, dice_rolls + 1) → gör att loopen körs från 1 till 20.\n",
    "        result = rnd.randint(1, 6) # rnd.randint(1, 6) → ger ett slumpmässigt tal mellan 1 och 6.\n",
    "        file.write(f\"Roll {i}: {result}\\n\")"
   ]
  },
  {
   "cell_type": "code",
   "execution_count": 40,
   "id": "9efc596b",
   "metadata": {},
   "outputs": [],
   "source": [
    "\n",
    "#b)\n",
    "\n",
    "import random as rnd\n",
    "\n",
    "dice_rolls = 20\n",
    "results = []  # här sparar vi alla kast\n",
    "\n",
    "# gör kasten och lägg in dem i listan\n",
    "for i in range(dice_rolls):\n",
    "    results.append(rnd.randint(1, 6))\n",
    "\n",
    "# öppna filen för skrivning\n",
    "with open(\"dice_rolls.txt\", \"w\") as file:\n",
    "    # skriv rubrik\n",
    "    file.write(\"--- Dice Rolls ---\\n\")\n",
    "\n",
    "    # skriv kast i ordning de slog\n",
    "    for i, result in enumerate(results, start=1):\n",
    "        file.write(f\"Roll {i}: {result}\\n\")\n",
    "\n",
    "    # skriv sorterade kast\n",
    "    file.write(\"\\n--- Sorted Rolls ---\\n\")\n",
    "    for i, result in enumerate(sorted(results), start=1):\n",
    "        file.write(f\"{i}: {result}\\n\")\n"
   ]
  },
  {
   "cell_type": "code",
   "execution_count": null,
   "id": "831c60db",
   "metadata": {},
   "outputs": [],
   "source": [
    "#c)\n"
   ]
  }
 ],
 "metadata": {
  "kernelspec": {
   "display_name": "exercise_4",
   "language": "python",
   "name": "python3"
  },
  "language_info": {
   "codemirror_mode": {
    "name": "ipython",
    "version": 3
   },
   "file_extension": ".py",
   "mimetype": "text/x-python",
   "name": "python",
   "nbconvert_exporter": "python",
   "pygments_lexer": "ipython3",
   "version": "3.12.10"
  }
 },
 "nbformat": 4,
 "nbformat_minor": 5
}

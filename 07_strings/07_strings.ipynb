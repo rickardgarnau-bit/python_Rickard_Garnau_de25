{
 "cells": [
  {
   "cell_type": "markdown",
   "id": "3d93f0e4",
   "metadata": {},
   "source": [
    "# strings"
   ]
  },
  {
   "cell_type": "code",
   "execution_count": 1,
   "id": "9c435244",
   "metadata": {},
   "outputs": [
    {
     "data": {
      "text/plain": [
       "'Kokchun Giang'"
      ]
     },
     "execution_count": 1,
     "metadata": {},
     "output_type": "execute_result"
    }
   ],
   "source": [
    "firstname = \"Kokchun\"\n",
    "lastname = \"Giang\"\n",
    "\n",
    "fullname = firstname + \" \" + lastname\n",
    "fullname"
   ]
  },
  {
   "cell_type": "code",
   "execution_count": 7,
   "id": "8f4ae1d4",
   "metadata": {},
   "outputs": [
    {
     "data": {
      "text/plain": [
       "'\\nname: Kokchun Giang\\nwork: ALgineer AB\\naddress: Supah cool street\\nphone: 112\\n'"
      ]
     },
     "execution_count": 7,
     "metadata": {},
     "output_type": "execute_result"
    }
   ],
   "source": [
    "work = \"ALgineer AB\"\n",
    "address = \"Supah cool street\"\n",
    "phone = \"112\"\n",
    "\n",
    "contact_details = f\"\"\"\n",
    "name: {fullname}\n",
    "work: {work}\n",
    "address: {address}\n",
    "phone: {phone}\n",
    "\"\"\"\n",
    "contact_details"
   ]
  },
  {
   "cell_type": "code",
   "execution_count": 5,
   "id": "2b6ddde3",
   "metadata": {},
   "outputs": [
    {
     "name": "stdout",
     "output_type": "stream",
     "text": [
      "\n",
      "name: Kokchun Giang\n",
      "work: ALgineer AB\n",
      "address: ('Supah cool street',)\n",
      "phone: 112\n",
      "\n"
     ]
    }
   ],
   "source": [
    "print(contact_details)"
   ]
  },
  {
   "cell_type": "code",
   "execution_count": 11,
   "id": "214dad2e",
   "metadata": {},
   "outputs": [
    {
     "name": "stdout",
     "output_type": "stream",
     "text": [
      "Weekly menu\n",
      "mo         chili con carne\n",
      "tu         noodles\n",
      "wed        pokebowl\n",
      "thu        pancakes\n",
      "fri        taco\n",
      "\n"
     ]
    }
   ],
   "source": [
    "menu = [\"chili con carne\", \"noodles\", \"pokebowl\", \"pancakes\", \"taco\"]\n",
    "days = [\"mo\", \"tu\", \"wed\", \"thu\", \"fri\"]\n",
    "\n",
    "weekly_menu = \"Weekly menu\\n\"\n",
    "\n",
    "for day, food in zip(days, menu):\n",
    "    weekly_menu += f\"{day:<10} {food}\\n\"\n",
    "print(weekly_menu)"
   ]
  },
  {
   "cell_type": "code",
   "execution_count": 12,
   "id": "6f098ad8",
   "metadata": {},
   "outputs": [
    {
     "data": {
      "text/plain": [
       "\"!False - It's funny because it's True\""
      ]
     },
     "execution_count": 12,
     "metadata": {},
     "output_type": "execute_result"
    }
   ],
   "source": [
    "quote = \"!False - It's funny because it's True\"\n",
    "quote"
   ]
  },
  {
   "cell_type": "code",
   "execution_count": 17,
   "id": "6209bbcc",
   "metadata": {},
   "outputs": [
    {
     "data": {
      "text/plain": [
       "'!'"
      ]
     },
     "execution_count": 17,
     "metadata": {},
     "output_type": "execute_result"
    }
   ],
   "source": [
    "quote[0]"
   ]
  },
  {
   "cell_type": "code",
   "execution_count": 13,
   "id": "972862cf",
   "metadata": {},
   "outputs": [
    {
     "data": {
      "text/plain": [
       "'e'"
      ]
     },
     "execution_count": 13,
     "metadata": {},
     "output_type": "execute_result"
    }
   ],
   "source": [
    "quote[-1]"
   ]
  },
  {
   "cell_type": "code",
   "execution_count": 14,
   "id": "971f4551",
   "metadata": {},
   "outputs": [
    {
     "data": {
      "text/plain": [
       "'!False'"
      ]
     },
     "execution_count": 14,
     "metadata": {},
     "output_type": "execute_result"
    }
   ],
   "source": [
    "quote[:6]"
   ]
  },
  {
   "cell_type": "code",
   "execution_count": 16,
   "id": "052c05a7",
   "metadata": {},
   "outputs": [
    {
     "data": {
      "text/plain": [
       "\"eurT s'ti esuaceb ynnuf s'tI - eslaF!\""
      ]
     },
     "execution_count": 16,
     "metadata": {},
     "output_type": "execute_result"
    }
   ],
   "source": [
    "quote[::-1]"
   ]
  },
  {
   "cell_type": "code",
   "execution_count": 20,
   "id": "8ef505e2",
   "metadata": {},
   "outputs": [
    {
     "data": {
      "text/plain": [
       "True"
      ]
     },
     "execution_count": 20,
     "metadata": {},
     "output_type": "execute_result"
    }
   ],
   "source": [
    "string_to_check = \"anna\"\n",
    "string_to_check[::-1] == string_to_check"
   ]
  },
  {
   "cell_type": "markdown",
   "id": "9fc80ec7",
   "metadata": {},
   "source": [
    "# split and cleaning a string"
   ]
  },
  {
   "cell_type": "code",
   "execution_count": 24,
   "id": "29502983",
   "metadata": {},
   "outputs": [
    {
     "data": {
      "text/plain": [
       "'Math, biology  , cHeMistry  , Pr0gramming       '"
      ]
     },
     "execution_count": 24,
     "metadata": {},
     "output_type": "execute_result"
    }
   ],
   "source": [
    "subjects = \"Math, biology  , cHeMistry  , Pr0gramming       \"\n",
    "subjects"
   ]
  },
  {
   "cell_type": "code",
   "execution_count": 25,
   "id": "d6f951da",
   "metadata": {},
   "outputs": [
    {
     "data": {
      "text/plain": [
       "['Math', ' biology  ', ' cHeMistry  ', ' Pr0gramming       ']"
      ]
     },
     "execution_count": 25,
     "metadata": {},
     "output_type": "execute_result"
    }
   ],
   "source": [
    "subjects = subjects.split(\",\")\n",
    "subjects"
   ]
  },
  {
   "cell_type": "code",
   "execution_count": 27,
   "id": "b684305a",
   "metadata": {},
   "outputs": [
    {
     "name": "stdout",
     "output_type": "stream",
     "text": [
      "MATH has 4 characters\n",
      "BIOLOGY has 7 characters\n",
      "CHEMISTRY has 9 characters\n",
      "PR0GRAMMING has 11 characters\n"
     ]
    }
   ],
   "source": [
    "subjects = [subject.strip().upper() for subject in subjects]\n",
    "for subject in subjects:\n",
    "    print(f\"{subject} has {len(subject)} characters\")"
   ]
  },
  {
   "cell_type": "markdown",
   "id": "b91f0393",
   "metadata": {},
   "source": [
    "# regex"
   ]
  },
  {
   "cell_type": "code",
   "execution_count": 28,
   "id": "dd26b9fc",
   "metadata": {},
   "outputs": [
    {
     "data": {
      "text/plain": [
       "['katt', 'hatt']"
      ]
     },
     "execution_count": 28,
     "metadata": {},
     "output_type": "execute_result"
    }
   ],
   "source": [
    "import re\n",
    "\n",
    "text = \"Det var en gång en katt som tog på sig en hatt.\"\n",
    "match_list = re.findall(f\".att\", text)\n",
    "match_list"
   ]
  },
  {
   "cell_type": "code",
   "execution_count": 32,
   "id": "4d9c7c22",
   "metadata": {},
   "outputs": [
    {
     "data": {
      "text/plain": [
       "['19959516-2235,', '19581212-3213,']"
      ]
     },
     "execution_count": 32,
     "metadata": {},
     "output_type": "execute_result"
    }
   ],
   "source": [
    "personal_numbers = \"Ida: 19959516-2235, Berit: 19581212-3213, Ada: 050524-1513\"\n",
    "match_long = re.findall(r\"\\d{8}-\\d{4},\", personal_numbers)\n",
    "match_long"
   ]
  },
  {
   "cell_type": "code",
   "execution_count": 35,
   "id": "b7c9cdf7",
   "metadata": {},
   "outputs": [
    {
     "data": {
      "text/plain": [
       "['959516-2235',\n",
       " '581212-3213',\n",
       " '050524-1513',\n",
       " '959516-2235',\n",
       " '581212-3213',\n",
       " '050524-1513',\n",
       " '959516-2235',\n",
       " '581212-3213',\n",
       " '050524-1513',\n",
       " '959516-2235',\n",
       " '581212-3213',\n",
       " '050524-1513']"
      ]
     },
     "execution_count": 35,
     "metadata": {},
     "output_type": "execute_result"
    }
   ],
   "source": [
    "match_short = re.findall(r\"\\d{6}-\\d{4}\", personal_numbers)\n",
    "match_short * 4"
   ]
  },
  {
   "cell_type": "markdown",
   "id": "d387ad72",
   "metadata": {},
   "source": [
    "# Lecture 7 - strings"
   ]
  },
  {
   "cell_type": "markdown",
   "id": "e14ac84d",
   "metadata": {},
   "source": [
    "#### Concatenate strings"
   ]
  },
  {
   "cell_type": "code",
   "execution_count": 16,
   "id": "51ab48e8",
   "metadata": {},
   "outputs": [
    {
     "name": "stdout",
     "output_type": "stream",
     "text": [
      "KokchunGiang\n"
     ]
    }
   ],
   "source": [
    "# concatenate multiple stringswith the + operator\n",
    "# remember + operator has another meaning when it comes to numeric variables\n",
    "\n",
    "first_name = 'Kokchun'\n",
    "last_name = 'Giang'\n",
    "full_name = first_name + last_name\n",
    "print(full_name)\n"
   ]
  },
  {
   "cell_type": "code",
   "execution_count": 17,
   "id": "000de079",
   "metadata": {},
   "outputs": [
    {
     "name": "stdout",
     "output_type": "stream",
     "text": [
      "Kokchun Giang\n"
     ]
    }
   ],
   "source": [
    "# concatenate also with \" \n",
    "full_name_with_space = first_name + \" \" + last_name # we can replace variable just with \" \"\n",
    "print(full_name_with_space)"
   ]
  },
  {
   "cell_type": "code",
   "execution_count": 18,
   "id": "eecae7ae",
   "metadata": {},
   "outputs": [
    {
     "name": "stdout",
     "output_type": "stream",
     "text": [
      "Kokchun Giang is working in a company called AIngineer AB, and his address is Supah cool street\n",
      "Kokchun Giang is working in a company called AIngineer AB. \n",
      "      And his address is Supah cool street\n"
     ]
    }
   ],
   "source": [
    "# multiline f-string for concatenating many strings\n",
    "work = 'AIngineer AB'\n",
    "address = \"Supah cool street\"\n",
    "\n",
    "# f-string with one line\n",
    "print(f\"{full_name_with_space} is working in a company called {work}, and his address is {address}\")\n",
    "\n",
    "# f-string with multiline\n",
    "print(f\"\"\"{full_name_with_space} is working in a company called {work}. \n",
    "      And his address is {address}\"\"\")"
   ]
  },
  {
   "cell_type": "code",
   "execution_count": 19,
   "id": "5abcccd2",
   "metadata": {},
   "outputs": [
    {
     "name": "stdout",
     "output_type": "stream",
     "text": [
      "Kokchun Giang is working in a company called AIngineer AB. \n",
      "And his address is Supah cool street\n"
     ]
    }
   ],
   "source": [
    "print(f\"{full_name_with_space} is working in a company called {work}. \\nAnd his address is {address}\")"
   ]
  },
  {
   "cell_type": "code",
   "execution_count": null,
   "id": "743fd15e",
   "metadata": {},
   "outputs": [
    {
     "name": "stdout",
     "output_type": "stream",
     "text": [
      "Today's fruits:   apple orange banana grape\n",
      "apple\n",
      "orange\n",
      "strawberry\n"
     ]
    }
   ],
   "source": [
    "# concatenate with loop\n",
    "\n",
    "fruits_today = \" apple\" + \" orange\" + \" banana\" +  \" grape\"\n",
    "\n",
    "print(f\"Today's fruits: \", fruits_today)\n",
    "\n",
    "fruits_today_list = [\"apple\", \"orange\", \"strawberry\"]\n",
    "for fruit in fruits_today_list:\n",
    "    print(fruit)\n",
    "    \n"
   ]
  },
  {
   "cell_type": "markdown",
   "id": "dfd52dbb",
   "metadata": {},
   "source": [
    "## Indexing\n",
    "\n",
    "- an operation to access \"an item\"\n",
    "- what is an item in the context of strings it is one of the characters in the string\n",
    "- we can use []\n",
    "- slicing is also possible if we want to access multiple characters\n",
    "- we can use :operator for slicing"
   ]
  },
  {
   "cell_type": "code",
   "execution_count": 20,
   "id": "a32d9cb3",
   "metadata": {},
   "outputs": [
    {
     "name": "stdout",
     "output_type": "stream",
     "text": [
      "Kokchun Giang\n",
      "The first letter of the string is: K\n",
      "The last letter of the string is: g\n"
     ]
    }
   ],
   "source": [
    "# index\n",
    "print(full_name_with_space)\n",
    "print(f\"The first letter of the string is: {full_name_with_space[0]}\")\n",
    "print(f\"The last letter of the string is: {full_name_with_space[-1]}\")"
   ]
  },
  {
   "cell_type": "code",
   "execution_count": 21,
   "id": "bffc0e4a",
   "metadata": {},
   "outputs": [
    {
     "name": "stdout",
     "output_type": "stream",
     "text": [
      "The first five letters of the string are: Kokch\n",
      "The last five letters of the string are: gnaiG\n"
     ]
    }
   ],
   "source": [
    "# slicing\n",
    "print(f\"The first five letters of the string are: {full_name_with_space[0:5]}\")\n",
    "\n",
    "print(f\"The last five letters of the string are: {full_name_with_space[-1:-6:-1]}\")"
   ]
  },
  {
   "cell_type": "code",
   "execution_count": null,
   "id": "452008be",
   "metadata": {},
   "outputs": [
    {
     "data": {
      "text/plain": [
       "13"
      ]
     },
     "execution_count": 60,
     "metadata": {},
     "output_type": "execute_result"
    }
   ],
   "source": [
    "# use len() funtion to check lenght of string\n",
    "len(full_name_with_space)"
   ]
  },
  {
   "cell_type": "code",
   "execution_count": 29,
   "id": "e54eee51",
   "metadata": {},
   "outputs": [
    {
     "name": "stdout",
     "output_type": "stream",
     "text": [
      "lui\n",
      "jjjj\n",
      "bb\n",
      "oooo\n"
     ]
    }
   ],
   "source": [
    "names = [\"lui\", \"bb\"]\n",
    "addresses = [\"jjjj\", \"oooo\"]\n",
    "\n",
    "for name, address in zip(names, addresses):\n",
    "    print(name)\n",
    "    print(address)\n"
   ]
  },
  {
   "cell_type": "markdown",
   "id": "25a1860b",
   "metadata": {},
   "source": [
    "# Some common examples to clean strings\n",
    "- make use of string methods\n",
    "- a good introduction to many common string methods : https://www.geeksforgeeks.org/python/python-string-methods/\n",
    " - syntax of using function on string variable\n",
    " -      `len(string_variable`\n",
    " - syntax of using method on string variable\n",
    " -      `string_variable.upper()`"
   ]
  },
  {
   "cell_type": "code",
   "execution_count": 59,
   "id": "d418ec78",
   "metadata": {},
   "outputs": [
    {
     "data": {
      "text/plain": [
       "['Math', ' biology   ', ' cheMistry ', ' Pr0gramming    ']"
      ]
     },
     "execution_count": 59,
     "metadata": {},
     "output_type": "execute_result"
    }
   ],
   "source": [
    "# split\n",
    "\n",
    "subjects = \"Math, biology   , cheMistry , Pr0gramming    \"\n",
    "subjects = subjects.split(\",\")\n",
    "subjects"
   ]
  },
  {
   "cell_type": "code",
   "execution_count": 54,
   "id": "2da23120",
   "metadata": {},
   "outputs": [
    {
     "name": "stdout",
     "output_type": "stream",
     "text": [
      "Math\n",
      "biology\n",
      "cheMistry\n",
      "Pr0gramming\n"
     ]
    }
   ],
   "source": [
    "# strip off leading adn trailing space\n",
    "# rstrip() and lstrip()\n",
    "\n",
    "for subject in subjects:\n",
    "    print(subject.strip())"
   ]
  },
  {
   "cell_type": "code",
   "execution_count": 58,
   "id": "694a7fa4",
   "metadata": {},
   "outputs": [
    {
     "name": "stdout",
     "output_type": "stream",
     "text": [
      "MATH\n",
      "BIOLOGY\n",
      "CHEMISTRY\n",
      "PR0GRAMMING\n"
     ]
    }
   ],
   "source": [
    "# making upper case letter\n",
    "# check lower()\n",
    "for subject in subjects:\n",
    "    print(subject.strip().upper())"
   ]
  },
  {
   "cell_type": "markdown",
   "id": "e7ac9b28",
   "metadata": {},
   "source": [
    "# Regular expression\n",
    "\n",
    "- look for a pattern\n",
    "- make use of different functions in `re` package\n",
    "- syntax of using functions from an imported package\n",
    "    - `re`, `findall`\n",
    "    - `imported_package.function()` \n",
    "- check out w3chools re tutorial to learn more symbols from patterns"
   ]
  },
  {
   "cell_type": "code",
   "execution_count": 61,
   "id": "e196d634",
   "metadata": {},
   "outputs": [],
   "source": [
    "import re"
   ]
  },
  {
   "cell_type": "code",
   "execution_count": 64,
   "id": "2620b9dd",
   "metadata": {},
   "outputs": [
    {
     "data": {
      "text/plain": [
       "['att', 'att']"
      ]
     },
     "execution_count": 64,
     "metadata": {},
     "output_type": "execute_result"
    }
   ],
   "source": [
    "text =  \"Det var en gång en hatt som tog på sig en hatt\"\n",
    "\n",
    "list_letter_att = re.findall(\"att\", text) # the first argument is the pattern,\n",
    "# the second part is where I to find the pattern\n",
    "list_letter_att"
   ]
  },
  {
   "cell_type": "code",
   "execution_count": 65,
   "id": "0f713cc8",
   "metadata": {},
   "outputs": [
    {
     "data": {
      "text/plain": [
       "['hatt', 'hatt']"
      ]
     },
     "execution_count": 65,
     "metadata": {},
     "output_type": "execute_result"
    }
   ],
   "source": [
    "list_word_att = re.findall(\".att\", text)\n",
    "\n",
    "list_word_att"
   ]
  },
  {
   "cell_type": "code",
   "execution_count": 70,
   "id": "d03ca2da",
   "metadata": {},
   "outputs": [
    {
     "data": {
      "text/plain": [
       "['19990816-2235,']"
      ]
     },
     "execution_count": 70,
     "metadata": {},
     "output_type": "execute_result"
    }
   ],
   "source": [
    "personal_number = \"Ida: 19990816-2235, Berit: 20501231-3231\"\n",
    "\n",
    "personal_number_eight = re.findall(r\"\\d{8}-\\d{4},\", personal_number) # r for raw string\n",
    "\n",
    "personal_number_eight"
   ]
  },
  {
   "cell_type": "code",
   "execution_count": 71,
   "id": "e0547b8c",
   "metadata": {},
   "outputs": [
    {
     "data": {
      "text/plain": [
       "['990816-2235,']"
      ]
     },
     "execution_count": 71,
     "metadata": {},
     "output_type": "execute_result"
    }
   ],
   "source": [
    "personal_number_six = re.findall(r\"\\d{6}-\\d{4},\", personal_number) # r for raw string\n",
    "\n",
    "personal_number_six"
   ]
  }
 ],
 "metadata": {
  "kernelspec": {
   "display_name": "07_strings",
   "language": "python",
   "name": "python3"
  },
  "language_info": {
   "codemirror_mode": {
    "name": "ipython",
    "version": 3
   },
   "file_extension": ".py",
   "mimetype": "text/x-python",
   "name": "python",
   "nbconvert_exporter": "python",
   "pygments_lexer": "ipython3",
   "version": "3.12.10"
  }
 },
 "nbformat": 4,
 "nbformat_minor": 5
}

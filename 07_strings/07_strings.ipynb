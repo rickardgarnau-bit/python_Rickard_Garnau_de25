{
 "cells": [
  {
   "cell_type": "markdown",
   "id": "3d93f0e4",
   "metadata": {},
   "source": [
    "# strings"
   ]
  },
  {
   "cell_type": "code",
   "execution_count": 1,
   "id": "9c435244",
   "metadata": {},
   "outputs": [
    {
     "data": {
      "text/plain": [
       "'Kokchun Giang'"
      ]
     },
     "execution_count": 1,
     "metadata": {},
     "output_type": "execute_result"
    }
   ],
   "source": [
    "firstname = \"Kokchun\"\n",
    "lastname = \"Giang\"\n",
    "\n",
    "fullname = firstname + \" \" + lastname\n",
    "fullname"
   ]
  },
  {
   "cell_type": "code",
   "execution_count": 7,
   "id": "8f4ae1d4",
   "metadata": {},
   "outputs": [
    {
     "data": {
      "text/plain": [
       "'\\nname: Kokchun Giang\\nwork: ALgineer AB\\naddress: Supah cool street\\nphone: 112\\n'"
      ]
     },
     "execution_count": 7,
     "metadata": {},
     "output_type": "execute_result"
    }
   ],
   "source": [
    "work = \"ALgineer AB\"\n",
    "address = \"Supah cool street\"\n",
    "phone = \"112\"\n",
    "\n",
    "contact_details = f\"\"\"\n",
    "name: {fullname}\n",
    "work: {work}\n",
    "address: {address}\n",
    "phone: {phone}\n",
    "\"\"\"\n",
    "contact_details"
   ]
  },
  {
   "cell_type": "code",
   "execution_count": 5,
   "id": "2b6ddde3",
   "metadata": {},
   "outputs": [
    {
     "name": "stdout",
     "output_type": "stream",
     "text": [
      "\n",
      "name: Kokchun Giang\n",
      "work: ALgineer AB\n",
      "address: ('Supah cool street',)\n",
      "phone: 112\n",
      "\n"
     ]
    }
   ],
   "source": [
    "print(contact_details)"
   ]
  },
  {
   "cell_type": "code",
   "execution_count": 11,
   "id": "214dad2e",
   "metadata": {},
   "outputs": [
    {
     "name": "stdout",
     "output_type": "stream",
     "text": [
      "Weekly menu\n",
      "mo         chili con carne\n",
      "tu         noodles\n",
      "wed        pokebowl\n",
      "thu        pancakes\n",
      "fri        taco\n",
      "\n"
     ]
    }
   ],
   "source": [
    "menu = [\"chili con carne\", \"noodles\", \"pokebowl\", \"pancakes\", \"taco\"]\n",
    "days = [\"mo\", \"tu\", \"wed\", \"thu\", \"fri\"]\n",
    "\n",
    "weekly_menu = \"Weekly menu\\n\"\n",
    "\n",
    "for day, food in zip(days, menu):\n",
    "    weekly_menu += f\"{day:<10} {food}\\n\"\n",
    "print(weekly_menu)"
   ]
  },
  {
   "cell_type": "code",
   "execution_count": 12,
   "id": "6f098ad8",
   "metadata": {},
   "outputs": [
    {
     "data": {
      "text/plain": [
       "\"!False - It's funny because it's True\""
      ]
     },
     "execution_count": 12,
     "metadata": {},
     "output_type": "execute_result"
    }
   ],
   "source": [
    "quote = \"!False - It's funny because it's True\"\n",
    "quote"
   ]
  },
  {
   "cell_type": "code",
   "execution_count": 17,
   "id": "6209bbcc",
   "metadata": {},
   "outputs": [
    {
     "data": {
      "text/plain": [
       "'!'"
      ]
     },
     "execution_count": 17,
     "metadata": {},
     "output_type": "execute_result"
    }
   ],
   "source": [
    "quote[0]"
   ]
  },
  {
   "cell_type": "code",
   "execution_count": 13,
   "id": "972862cf",
   "metadata": {},
   "outputs": [
    {
     "data": {
      "text/plain": [
       "'e'"
      ]
     },
     "execution_count": 13,
     "metadata": {},
     "output_type": "execute_result"
    }
   ],
   "source": [
    "quote[-1]"
   ]
  },
  {
   "cell_type": "code",
   "execution_count": 14,
   "id": "971f4551",
   "metadata": {},
   "outputs": [
    {
     "data": {
      "text/plain": [
       "'!False'"
      ]
     },
     "execution_count": 14,
     "metadata": {},
     "output_type": "execute_result"
    }
   ],
   "source": [
    "quote[:6]"
   ]
  },
  {
   "cell_type": "code",
   "execution_count": 16,
   "id": "052c05a7",
   "metadata": {},
   "outputs": [
    {
     "data": {
      "text/plain": [
       "\"eurT s'ti esuaceb ynnuf s'tI - eslaF!\""
      ]
     },
     "execution_count": 16,
     "metadata": {},
     "output_type": "execute_result"
    }
   ],
   "source": [
    "quote[::-1]"
   ]
  },
  {
   "cell_type": "code",
   "execution_count": 20,
   "id": "8ef505e2",
   "metadata": {},
   "outputs": [
    {
     "data": {
      "text/plain": [
       "True"
      ]
     },
     "execution_count": 20,
     "metadata": {},
     "output_type": "execute_result"
    }
   ],
   "source": [
    "string_to_check = \"anna\"\n",
    "string_to_check[::-1] == string_to_check"
   ]
  },
  {
   "cell_type": "markdown",
   "id": "9fc80ec7",
   "metadata": {},
   "source": [
    "# split and cleaning a string"
   ]
  },
  {
   "cell_type": "code",
   "execution_count": 24,
   "id": "29502983",
   "metadata": {},
   "outputs": [
    {
     "data": {
      "text/plain": [
       "'Math, biology  , cHeMistry  , Pr0gramming       '"
      ]
     },
     "execution_count": 24,
     "metadata": {},
     "output_type": "execute_result"
    }
   ],
   "source": [
    "subjects = \"Math, biology  , cHeMistry  , Pr0gramming       \"\n",
    "subjects"
   ]
  },
  {
   "cell_type": "code",
   "execution_count": 25,
   "id": "d6f951da",
   "metadata": {},
   "outputs": [
    {
     "data": {
      "text/plain": [
       "['Math', ' biology  ', ' cHeMistry  ', ' Pr0gramming       ']"
      ]
     },
     "execution_count": 25,
     "metadata": {},
     "output_type": "execute_result"
    }
   ],
   "source": [
    "subjects = subjects.split(\",\")\n",
    "subjects"
   ]
  },
  {
   "cell_type": "code",
   "execution_count": 27,
   "id": "b684305a",
   "metadata": {},
   "outputs": [
    {
     "name": "stdout",
     "output_type": "stream",
     "text": [
      "MATH has 4 characters\n",
      "BIOLOGY has 7 characters\n",
      "CHEMISTRY has 9 characters\n",
      "PR0GRAMMING has 11 characters\n"
     ]
    }
   ],
   "source": [
    "subjects = [subject.strip().upper() for subject in subjects]\n",
    "for subject in subjects:\n",
    "    print(f\"{subject} has {len(subject)} characters\")"
   ]
  },
  {
   "cell_type": "markdown",
   "id": "b91f0393",
   "metadata": {},
   "source": [
    "# regex"
   ]
  },
  {
   "cell_type": "code",
   "execution_count": 28,
   "id": "dd26b9fc",
   "metadata": {},
   "outputs": [
    {
     "data": {
      "text/plain": [
       "['katt', 'hatt']"
      ]
     },
     "execution_count": 28,
     "metadata": {},
     "output_type": "execute_result"
    }
   ],
   "source": [
    "import re\n",
    "\n",
    "text = \"Det var en gång en katt som tog på sig en hatt.\"\n",
    "match_list = re.findall(f\".att\", text)\n",
    "match_list"
   ]
  },
  {
   "cell_type": "code",
   "execution_count": 32,
   "id": "4d9c7c22",
   "metadata": {},
   "outputs": [
    {
     "data": {
      "text/plain": [
       "['19959516-2235,', '19581212-3213,']"
      ]
     },
     "execution_count": 32,
     "metadata": {},
     "output_type": "execute_result"
    }
   ],
   "source": [
    "personal_numbers = \"Ida: 19959516-2235, Berit: 19581212-3213, Ada: 050524-1513\"\n",
    "match_long = re.findall(r\"\\d{8}-\\d{4},\", personal_numbers)\n",
    "match_long"
   ]
  },
  {
   "cell_type": "code",
   "execution_count": null,
   "id": "b7c9cdf7",
   "metadata": {},
   "outputs": [
    {
     "data": {
      "text/plain": [
       "['959516-2235', '581212-3213', '050524-1513']"
      ]
     },
     "execution_count": 34,
     "metadata": {},
     "output_type": "execute_result"
    }
   ],
   "source": [
    "match_short = re.findall(r\"\\d{6}-\\d{4}\", personal_numbers)\n",
    "match_short * 4"
   ]
  }
 ],
 "metadata": {
  "kernelspec": {
   "display_name": "07_strings",
   "language": "python",
   "name": "python3"
  },
  "language_info": {
   "codemirror_mode": {
    "name": "ipython",
    "version": 3
   },
   "file_extension": ".py",
   "mimetype": "text/x-python",
   "name": "python",
   "nbconvert_exporter": "python",
   "pygments_lexer": "ipython3",
   "version": "3.12.10"
  }
 },
 "nbformat": 4,
 "nbformat_minor": 5
}

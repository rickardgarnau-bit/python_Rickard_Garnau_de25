{
 "cells": [
  {
   "cell_type": "code",
   "execution_count": null,
   "id": "acc06097",
   "metadata": {},
   "outputs": [
    {
     "name": "stdout",
     "output_type": "stream",
     "text": [
      "Toyota Corolla 2020\n",
      "Tesla Model 3 2022\n"
     ]
    }
   ],
   "source": [
    "class Car: # created a class for Car\n",
    "    def __init__(self, brand, model, year): # created attributes for the class\n",
    "\n",
    "        self.brand = brand\n",
    "        self.model = model\n",
    "        self.year = year\n",
    "\n",
    "car1 = Car(\"Toyota\", \"Corolla\", 2020) # gave the car values\n",
    "car2 = Car(\"Tesla\", \"Model 3\", 2022)\n",
    "\n",
    "print(car1.brand, car1.model, car1.year) # printed the result\n",
    "print(car2.brand, car2.model, car2.year)"
   ]
  },
  {
   "cell_type": "code",
   "execution_count": null,
   "id": "06244484",
   "metadata": {},
   "outputs": [
    {
     "name": "stdout",
     "output_type": "stream",
     "text": [
      "Toyota Corolla, Year: 2020\n",
      "Tesla Model 3, Year: 2022\n"
     ]
    }
   ],
   "source": [
    "class Car:\n",
    "    def __init__(self, brand, model, year):\n",
    "\n",
    "        self.brand = brand\n",
    "        self.model = model\n",
    "        self.year = year\n",
    "    \n",
    "    def display_info(self): # added a method to display the info of the car\n",
    "        print(f\"{self.brand} {self.model}, Year: {self.year}\")\n",
    "\n",
    "car1 = Car(\"Toyota\", \"Corolla\", 2020)\n",
    "car2 = Car(\"Tesla\", \"Model 3\", 2022)\n",
    "\n",
    "car1.display_info()\n",
    "car2.display_info()"
   ]
  },
  {
   "cell_type": "code",
   "execution_count": null,
   "id": "753a1de7",
   "metadata": {},
   "outputs": [
    {
     "name": "stdout",
     "output_type": "stream",
     "text": [
      "1805685111216\n",
      "1805685112368\n"
     ]
    },
    {
     "data": {
      "text/plain": [
       "False"
      ]
     },
     "execution_count": 19,
     "metadata": {},
     "output_type": "execute_result"
    }
   ],
   "source": [
    "print(id(car1)) # returns the memory-adresses of the objects. Every instance of a class is unique,\n",
    "print(id(car2)) # even if the attributes are identical\n",
    "id(car1) == id(car2) # is False as a standard without __eq__\n"
   ]
  },
  {
   "cell_type": "code",
   "execution_count": 23,
   "id": "408c7383",
   "metadata": {},
   "outputs": [
    {
     "name": "stdout",
     "output_type": "stream",
     "text": [
      "True\n"
     ]
    }
   ],
   "source": [
    "class Car:\n",
    "    def __init__(self, brand, model, year):\n",
    "\n",
    "        self.brand = brand\n",
    "        self.model = model\n",
    "        self.year = year\n",
    "    \n",
    "    def __eq__(self, other):    # definies an __eq__ method for the class car.\n",
    "                                # instead of comparing the memoryadresses it compares\n",
    "                                # the two objects brand and model\n",
    "        if isinstance(other, Car): # isinstance makes sure to only compare with other Car objects\n",
    "            return self.brand == other.brand and self.model == other.model\n",
    "        return False\n",
    "\n",
    "car1 = Car(\"Toyota\", \"Corolla\", 2020)\n",
    "car3 = Car(\"Toyota\", \"Corolla\", 2020)\n",
    "print(car1 == car3)  # True now because of the comparison of brand and model, not the id address"
   ]
  },
  {
   "cell_type": "code",
   "execution_count": null,
   "id": "63fc7693",
   "metadata": {},
   "outputs": [
    {
     "name": "stdout",
     "output_type": "stream",
     "text": [
      "Garage inventory:\n",
      "Toyota Corolla, Year: 2019\n",
      "Hyundai i20, Year: 2023\n",
      "Toyota Corolla, Year: 2021\n",
      "\n",
      "Equality checks\n",
      "car1 == car2: <__main__.Car object at 0x000001A46B3D6840> == <__main__.Car object at 0x000001A46B3AAE70>\n",
      "car2 == car3: <__main__.Car object at 0x000001A46B3AAE70> == <__main__.Car object at 0x000001A46B395130>\n",
      "\n",
      "Memory addresses:\n",
      "car1 id: 1805685450816\n",
      "car2 id: 1805685272176\n",
      "car3 id: 1805685182768\n",
      "\n",
      "Reflection:\n",
      "car1 och car3 har samma brand och model men olika year och olika id.\n",
      "== jämför innehåll medan 'is' jämför identitet (minnesadress).\n"
     ]
    }
   ],
   "source": [
    "class Car:  # Skapar klassen Car\n",
    "    def __init__(self, brand, model, year):  # Initialiseringsmetod (konstruktor) med attribut\n",
    "        self.brand = brand  # Sätter bilens märke\n",
    "        self.model = model  # Sätter bilens modell\n",
    "        self.year = year    # Sätter bilens årsmodell\n",
    "\n",
    "    def display_info(self):  # Metod för att visa bilens information\n",
    "        print(f\"{self.brand} {self.model}, Year: {self.year}\")\n",
    "\n",
    "    def __eq__(self, other):  # Metod för att jämföra två Car-objekt baserat på brand och model\n",
    "        \"\"\"Returnerar True om brand och model är samma, annars False\"\"\"\n",
    "        if isinstance(other, Car):  # Kontrollerar att other är ett Car-objekt\n",
    "            return self.brand == other.brand and self.model == other.model\n",
    "        return False\n",
    "\n",
    "# Skapar instanser av Car\n",
    "car1 = Car(\"Toyota\", \"Corolla\", 2019)\n",
    "car2 = Car(\"Hyundai\", \"i20\", 2023)\n",
    "car3 = Car(\"Toyota\", \"Corolla\", 2021)\n",
    "\n",
    "# Skapar en lista som representerar garaget\n",
    "garage = [car1, car2, car3]\n",
    "\n",
    "# Loopar igenom garaget och visar varje bil\n",
    "print(\"Garage inventory:\")\n",
    "for car in garage:\n",
    "    car.display_info()\n",
    "\n",
    "# Jämför bilar med __eq__-metoden\n",
    "print(\"\\nEquality checks\")\n",
    "print(f\"car1 == car2: {car1 == car2}\")  # False, olika brand/model\n",
    "print(f\"car2 == car3: {car2 == car3}\")  # False, olika brand/model\n",
    "\n",
    "# Visa minnesadresser för varje bil\n",
    "print(\"\\nMemory addresses:\")\n",
    "for i, car in enumerate(garage, 1):\n",
    "    print(f\"car{i} id: {id(car)}\")\n",
    "\n",
    "# Reflektion över skillnaden mellan innehåll och identitet\n",
    "print(\"\\nReflection:\")\n",
    "print(\"car1 och car3 har samma brand och model men olika year och olika id.\")\n",
    "print(\"== jämför innehåll medan 'is' jämför identitet (minnesadress).\")\n"
   ]
  },
  {
   "cell_type": "code",
   "execution_count": 45,
   "id": "69a81cd0",
   "metadata": {},
   "outputs": [
    {
     "name": "stdout",
     "output_type": "stream",
     "text": [
      "The Green car with the brand Toyotam Model Corolla drives superfast\n",
      "Toyota Corolla 2020 Green\n",
      "Tesla Model 3 2022 Black\n",
      "<class '__main__.Car'>\n",
      "1805685471088\n"
     ]
    }
   ],
   "source": [
    "class Car: # created a class for Car\n",
    "    def __init__(self, brand, model, year, color): # created attributes for the class\n",
    "\n",
    "        self.brand = brand\n",
    "        self.model = model\n",
    "        self.year = year\n",
    "        self.color = color\n",
    "    \n",
    "    def drive(self):\n",
    "        print(f\"The {self.color} car with the brand {self.brand}m Model {self.model} drives superfast\")\n",
    "\n",
    "car1.drive()\n",
    "car1 = Car(\"Toyota\", \"Corolla\", 2020, \"Green\") # gave the car values\n",
    "car2 = Car(\"Tesla\", \"Model 3\", 2022, \"Black\")\n",
    "\n",
    "print(car1.brand, car1.model, car1.year, car1.color) # printed the result\n",
    "print(car2.brand, car2.model, car2.year, car2.color)\n",
    "\n",
    "print(type(car1))\n",
    "print(id(car2))"
   ]
  },
  {
   "cell_type": "code",
   "execution_count": 65,
   "id": "bb632deb",
   "metadata": {},
   "outputs": [
    {
     "name": "stdout",
     "output_type": "stream",
     "text": [
      "Tesla Model 3 2022\n",
      "Tesla Model 3 2022\n",
      "True\n"
     ]
    }
   ],
   "source": [
    "class Car: # created a class for Car\n",
    "    def __init__(self, brand, model, year): # created attributes for the class\n",
    "\n",
    "        self.brand = brand\n",
    "        self.model = model\n",
    "        self.year = year\n",
    "    \n",
    "    def __eq__(self, other):\n",
    "        if isinstance(other, Car):\n",
    "            return self.brand == other.brand and self.model == other.model\n",
    "        return False\n",
    " \n",
    "car1 = Car(\"Tesla\", \"Model 3\", 2022) # gave the car values\n",
    "car2 = Car(\"Tesla\", \"Model 3\", 2022)\n",
    "\n",
    "print(car1.brand, car1.model, car1.year) # printed the result\n",
    "print(car2.brand, car2.model, car2.year)\n",
    "print(car1 == car2)"
   ]
  },
  {
   "cell_type": "code",
   "execution_count": 94,
   "id": "5fbe6646",
   "metadata": {},
   "outputs": [
    {
     "name": "stdout",
     "output_type": "stream",
     "text": [
      "True\n",
      "False\n",
      "True\n",
      "False\n",
      "True\n"
     ]
    }
   ],
   "source": [
    "class Student:\n",
    "    def __init__(self, name, student_id, grade):\n",
    "\n",
    "        self.name = name\n",
    "        self.student_id = student_id\n",
    "        self.grade = grade\n",
    "    \n",
    "    def __eq__(self, other):\n",
    "        if isinstance(self, Student):\n",
    "            return self.student_id == other.student_id\n",
    "        return False\n",
    "\n",
    "    def display(self):\n",
    "        print(f\"{self.name} (ID: {self.student_id}) - Grade: {self.grade}\")\n",
    "\n",
    "    def change_grade(self, new_grade):\n",
    "        self.grade = new_grade\n",
    "\n",
    "s1 = Student(\"Alice\", 101, \"A\")\n",
    "s2 = Student(\"Alice\", 101, \"A\")\n",
    "s3 = s1\n",
    "s4 = Student(\"Alice\", 102, \"A\")\n",
    "\n",
    "print(s1 == s2)\n",
    "print(s1 is s2)\n",
    "print(s1 is s3)\n",
    "print(s1 == s4)\n",
    "print(s1.name == s4.name)\n",
    "\n"
   ]
  },
  {
   "cell_type": "code",
   "execution_count": 95,
   "id": "538f784a",
   "metadata": {},
   "outputs": [
    {
     "name": "stdout",
     "output_type": "stream",
     "text": [
      "None\n"
     ]
    }
   ],
   "source": [
    "def change_grade(self, new_grade):\n",
    "        self.grade = new.grade\n",
    "        s3.change_grade(\"B\")\n",
    "        \n",
    "print(s1.change_grade(\"B\"))"
   ]
  },
  {
   "cell_type": "code",
   "execution_count": 100,
   "id": "a379ce59",
   "metadata": {},
   "outputs": [
    {
     "name": "stdout",
     "output_type": "stream",
     "text": [
      "2022 Tesla Model 3\n"
     ]
    },
    {
     "data": {
      "text/plain": [
       "[Car(brand='Tesla', model='Model 3', year=2022)]"
      ]
     },
     "execution_count": 100,
     "metadata": {},
     "output_type": "execute_result"
    }
   ],
   "source": [
    "class Car: # created a class for Car\n",
    "    def __init__(self, brand, model, year): # created attributes for the class\n",
    "\n",
    "        self.brand = brand\n",
    "        self.model = model\n",
    "        self.year = year\n",
    "\n",
    "    def __repr__(self):\n",
    "        return f\"Car(brand='{self.brand}', model='{self.model}', year={self.year})\"\n",
    "\n",
    "    def __str__(self):\n",
    "        return f\"{self.year} {self.brand} {self.model}\"\n",
    "\n",
    "car = Car(\"Tesla\", \"Model 3\", 2022)\n",
    "\n",
    "print(car)\n",
    "car\n",
    "\n",
    "garage = [car]\n",
    "garage"
   ]
  },
  {
   "cell_type": "code",
   "execution_count": 105,
   "id": "ddb9c86e",
   "metadata": {},
   "outputs": [
    {
     "name": "stdout",
     "output_type": "stream",
     "text": [
      "'1984' by George Orwell (1949) - 328 pages\n",
      "[Book(title='1984', author='George Orwell', year=1949, pages=328), Book(title='Brave New World', author='Aldous Huxley', year=1932, pages=288)]\n"
     ]
    }
   ],
   "source": [
    "class Book:\n",
    "    def __init__(self, title, author, year, pages):\n",
    "        self.title = title\n",
    "        self.author = author\n",
    "        self.year = year\n",
    "        self.pages = pages\n",
    "    \n",
    "    def __str__(self):\n",
    "        return f\"'{self.title}' by {self.author} ({self.year}) - {self.pages} pages\"\n",
    "\n",
    "    def __repr__(self):\n",
    "        return f\"Book(title='{self.title}', author='{self.author}', year={self.year}, pages={self.pages})\"\n",
    "\n",
    "book1 = Book(\"1984\", \"George Orwell\", 1949, 328)\n",
    "book2 = Book(\"Brave New World\", \"Aldous Huxley\", 1932, 288)\n",
    "\n",
    "print(book1)\n",
    "book1\n",
    "print([book1, book2])"
   ]
  },
  {
   "cell_type": "code",
   "execution_count": null,
   "id": "10c61e93",
   "metadata": {},
   "outputs": [],
   "source": [
    "# Python has two ways of presenting objects because, one way is to present\n",
    "# it to developers to help with trouble-shooting, recreating an object and the other way to present\n",
    "# it to the public\n",
    "\n"
   ]
  },
  {
   "cell_type": "code",
   "execution_count": 124,
   "id": "48d7fc11",
   "metadata": {},
   "outputs": [
    {
     "name": "stdout",
     "output_type": "stream",
     "text": [
      "'Inception', (2010) directed by Cristopher Nolan - Rating: 9.0\n",
      "'LOTR', (2000) directed by Peter Jackson - Rating: 9.1\n",
      "[Movie(title='Inception', year=2010, director='Cristopher Nolan', rating=9.0), Movie(title='LOTR', year=2000, director='Peter Jackson', rating=9.1)]\n"
     ]
    }
   ],
   "source": [
    "class Movie:\n",
    "    def __init__(self, title, year, director, rating):\n",
    "        self.title = title\n",
    "        self.year = year\n",
    "        self.director = director\n",
    "        self.rating = rating\n",
    "\n",
    "    def __str__(self):\n",
    "        return f\"'{self.title}', ({self.year}) directed by {self.director} - Rating: {self.rating}\"\n",
    "\n",
    "    def __repr__(self):\n",
    "        return f\"Movie(title='{self.title}', year={self.year}, director='{self.director}', rating={self.rating})\"\n",
    "\n",
    "movie1 = Movie(\"Inception\", (2010), \"Cristopher Nolan\", 9.0)\n",
    "movie2 = Movie(\"LOTR\", 2000, \"Peter Jackson\", 9.1)\n",
    "\n",
    "print(movie1)\n",
    "print(movie2)\n",
    "print([movie1, movie2])\n"
   ]
  },
  {
   "cell_type": "markdown",
   "id": "74536152",
   "metadata": {},
   "source": [
    "### 2. Övning 1 – Recreate the Patient clas"
   ]
  },
  {
   "cell_type": "code",
   "execution_count": 9,
   "id": "54b97361",
   "metadata": {},
   "outputs": [
    {
     "name": "stdout",
     "output_type": "stream",
     "text": [
      "Alice\n",
      "{'_name': 'Alice', '_Patient__diagnosis': 'Diabetes'}\n",
      "Diabetes\n"
     ]
    }
   ],
   "source": [
    "class Patient:\n",
    "    def __init__(self, name, diagnosis):\n",
    "        # Ett attribut med ett underscore (_) signalerar \"skyddat\".\n",
    "        # Det betyder: \"detta är bara till för intern användning\"\n",
    "        # men Python hindrar inte att du når det utifrån.\n",
    "        self._name = name                 \n",
    "        \n",
    "        # Ett attribut med dubbla underscores (__) aktiverar *name mangling*.\n",
    "        # Python döper om detta attribut internt till: _Patient__diagnosis\n",
    "        # för att undvika att subklasser råkar skriva över det.\n",
    "        self.__diagnosis = diagnosis      \n",
    "\n",
    "    def __repr__(self):\n",
    "        # __repr__ används för att ge en teknisk representation av objektet\n",
    "        # Här döljer vi medvetet diagnosen för att simulera informationsskydd.\n",
    "        return f\"Patient(name={self._name}, diagnosis=hidden)\"\n",
    "\n",
    "\n",
    "# Skapar ett Patient-objekt med namn och diagnos\n",
    "p1 = Patient(\"Alice\", \"Diabetes\")\n",
    "\n",
    "# Här når vi \"_name\" trots att det ska vara \"skyddat\"\n",
    "# Det fungerar, men det är en *konvention* att undvika detta.\n",
    "print(p1._name)            # Output: Alice\n",
    "\n",
    "# Den här raden skulle ge fel:\n",
    "# print(p1.__diagnosis)\n",
    "# Python hittar inte \"p1.__diagnosis\" eftersom det bytt namn internt till \"_Patient__diagnosis\"\n",
    "\n",
    "# __dict__ visar alla objektets attribut i en ordbok\n",
    "# Lägg märke till att diagnosen INTE längre heter \"__diagnosis\"\n",
    "print(p1.__dict__)\n",
    "# Output: {'_name': 'Alice', '_Patient__diagnosis': 'Diabetes'}\n",
    "\n",
    "# Här använder vi det \"manglade\" namnet direkt\n",
    "# Det *går* att komma åt diagnosen, men man bör inte göra det\n",
    "# Detta är mer för förståelse eller debugging, inte normalt bruk\n",
    "print(p1._Patient__diagnosis)   # Output: Diabetes\n"
   ]
  },
  {
   "cell_type": "markdown",
   "id": "c055520c",
   "metadata": {},
   "source": [
    "### Övning 2 – Skapa en BankAccount-klass"
   ]
  },
  {
   "cell_type": "code",
   "execution_count": null,
   "id": "0c9edff5",
   "metadata": {},
   "outputs": [],
   "source": [
    "class BankAccount:\n",
    "    def __init__(self, owner, balance=0):\n",
    "        # Publikt attribut — vem som äger kontot\n",
    "        self.owner = owner\n",
    "\n",
    "        # \"Protected\" attribut (endast konvention)\n",
    "        # Det betyder att man inte *borde* komma åt det utanför klassen,\n",
    "        # men Python hindrar det inte.\n",
    "        self._balance = balance \n",
    "    \n",
    "    def deposit(self, amount):\n",
    "        \"\"\"Sätter in pengar på kontot.\"\"\"\n",
    "        # Säkerhetskontroll – beloppet måste vara positivt\n",
    "        if amount < 0:\n",
    "            raise ValueError(\"Deposit must be positive\")\n",
    "        \n",
    "        # Ökar saldot\n",
    "        self._balance += amount\n",
    "\n",
    "    def withdraw(self, amount):\n",
    "        \"\"\"Tar ut pengar från kontot.\"\"\"\n",
    "        # Säkerhetskontroll – man kan inte ta ut mer än man har\n",
    "        if amount > self._balance:\n",
    "            raise ValueError(\"Insufficient funds\")\n",
    "        \n",
    "        # Minskar saldot\n",
    "        self._balance -= amount\n",
    "    \n",
    "    def check_balance(self):\n",
    "        \"\"\"Visar aktuellt saldo.\"\"\"\n",
    "        return f\"Balance: {self._balance} SEK\"\n",
    "\n",
    "\n",
    "# Skapar ett konto med ägare \"Lisa\" och startsaldo 1000\n",
    "account = BankAccount(\"Lisa\", 1000)\n",
    "\n",
    "# Gör några transaktioner via klassens metoder\n",
    "account.deposit(500)     # sätter in 500\n",
    "account.withdraw(300)    # tar ut 300\n",
    "print(account.check_balance())  # -> Balance: 1200 SEK\n",
    "\n",
    "# Nu ändrar vi direkt det \"skyddade\" attributet utanför klassen\n",
    "# Det går — eftersom ett underscore _ bara är en *konvention*, inte ett lås\n",
    "account._balance = 999999\n",
    "\n",
    "# Resultatet visar att vi *kunde* manipulera det ändå\n",
    "print(account.check_balance())  # -> Balance: 999999 SEK\n"
   ]
  },
  {
   "cell_type": "code",
   "execution_count": 20,
   "id": "9856ab32",
   "metadata": {},
   "outputs": [
    {
     "name": "stdout",
     "output_type": "stream",
     "text": [
      "{'_SecureAccount__balance': 500}\n",
      "500\n",
      "{'_SecureAccount__balance': 500, '__balance': 1000}\n"
     ]
    }
   ],
   "source": [
    "class SecureAccount:\n",
    "    def __init__(self, owner, balance=0):\n",
    "        self.__balance = balance\n",
    "\n",
    "a1 = SecureAccount(\"Nisse\", 500)\n",
    "print(a1.__dict__)\n",
    "print(a1._SecureAccount__balance)\n",
    "a1.__balance = 1000\n",
    "print(a1.__dict__)"
   ]
  },
  {
   "cell_type": "markdown",
   "id": "c5482444",
   "metadata": {},
   "source": [
    "# 5. Reflektion\n",
    "\n",
    "Svara kort på dessa:\n",
    "\n",
    "Vad är skillnaden mellan enkel underscore (_) och dubbel underscore (__)?\n",
    "\n",
    "Varför är “_” bara en konvention och inte riktig säkerhet?\n",
    "\n",
    "Varför är inkapsling ändå viktig även om Python inte kan “låsa” attribut?"
   ]
  },
  {
   "cell_type": "markdown",
   "id": "a0c24dad",
   "metadata": {},
   "source": [
    "Day 1 – Classes, Objects, and Methods\n",
    "Uppgift 1: Skapa en klass\n",
    "\n",
    "Skapa en klass Laptop med attribut: brand, model, price.\n",
    "\n",
    "Lägg till en metod display_info() som skriver ut alla attribut.\n",
    "\n",
    "Skapa minst tre instanser av Laptop och kalla på display_info() för var och en.\n",
    "\n",
    "Tips: Reflektera över skillnaden mellan klassattribut och instansattribut."
   ]
  },
  {
   "cell_type": "code",
   "execution_count": 40,
   "id": "9e5eae75",
   "metadata": {},
   "outputs": [
    {
     "name": "stdout",
     "output_type": "stream",
     "text": [
      "Dell Hyperion 400\n",
      "Hp Bockwork 230\n",
      "Acer Asparagus 560\n"
     ]
    }
   ],
   "source": [
    "class Laptop:\n",
    "    def __init__(self, brand, model, price):\n",
    "        self.brand = brand\n",
    "        self.model = model\n",
    "        self.price = price\n",
    "\n",
    "    def display_info(self):\n",
    "        print(f\"{self.brand} {self.model} {self.price}\")\n",
    "\n",
    "lap1 = Laptop(\"Dell\", \"Hyperion\", 400)\n",
    "lap2 = Laptop(\"Hp\", \"Bockwork\", 230)\n",
    "lap3 = Laptop(\"Acer\", \"Asparagus\", 560)\n",
    "\n",
    "lap1.display_info()\n",
    "lap2.display_info()\n",
    "lap3.display_info()"
   ]
  },
  {
   "cell_type": "markdown",
   "id": "a569acfb",
   "metadata": {},
   "source": [
    "Uppgift 2: Jämförelse av objekt\n",
    "\n",
    "Implementera __eq__() i Laptop så att två laptops är lika om brand och model är samma, oavsett pris.\n",
    "\n",
    "Testa jämförelser mellan dina instanser.\n",
    "\n",
    "Skriv ut id() för varje objekt och jämför med ==.\n",
    "\n",
    "Reflektion: Fundera på skillnaden mellan == (innehåll) och is (identitet/minnesadress)."
   ]
  },
  {
   "cell_type": "code",
   "execution_count": 78,
   "id": "2621ab25",
   "metadata": {},
   "outputs": [
    {
     "name": "stdout",
     "output_type": "stream",
     "text": [
      "2893956169216\n",
      "2893956156784\n",
      "2893956165328\n",
      "False\n"
     ]
    }
   ],
   "source": [
    "class Laptop:\n",
    "    def __init__(self, brand, model, price):\n",
    "        self.brand = brand\n",
    "        self.model = model\n",
    "        self.price = price\n",
    "    \n",
    "    def __eq__(self, other):\n",
    "        if isinstance(other, Laptop):\n",
    "            return self.brand == other.brand or self.model == other.model\n",
    "        return False\n",
    "\n",
    "   \n",
    "lap1 = Laptop(\"Dell\", \"Hyperion\", 400)\n",
    "lap2 = Laptop(\"Hp\", \"Bockwork\", 230)\n",
    "lap3 = Laptop(\"Acer\", \"Asparagus\", 560)\n",
    "\n",
    "lap1 == lap2 or lap1 == lap3\n",
    "\n",
    "print(id(lap1))\n",
    "print(id(lap2))\n",
    "print(id(lap3))\n",
    "\n",
    "print(lap1 == lap2)"
   ]
  },
  {
   "cell_type": "markdown",
   "id": "bc1d29c6",
   "metadata": {},
   "source": [
    "Uppgift 3: Garage-övning\n",
    "\n",
    "Skapa en lista garage med olika Laptop-objekt.\n",
    "\n",
    "Loop igenom listan och skriv ut info för varje objekt.\n",
    "\n",
    "Experimentera med == mellan olika objekt i listan."
   ]
  },
  {
   "cell_type": "code",
   "execution_count": null,
   "id": "f586d047",
   "metadata": {},
   "outputs": [
    {
     "name": "stdout",
     "output_type": "stream",
     "text": [
      "A Nissan Maxima has run 15000 miles\n",
      "A Nissan Almega has run 12000 miles\n",
      "A Nissan Micra has run 30000 miles\n"
     ]
    }
   ],
   "source": [
    "class Car:\n",
    "    def __init__(self, brand, model, miles):\n",
    "        self.brand = brand\n",
    "        self.model = model\n",
    "        self.miles = miles\n",
    "\n",
    "    def __str__(self):\n",
    "        return(f\"A {self.brand} {self.model} has run {self.miles} miles\")\n",
    "    \n",
    "    def __eq__(self, other):\n",
    "        if isinstance(self, Car):\n",
    "            return self.brand == other.brand and self.model == other.model\n",
    "        return\n",
    "\n",
    "\n",
    "car1 = Car(\"Nissan\", \"Maxima\", 15000)\n",
    "car2 = Car(\"Nissan\", \"Almega\", 12000)\n",
    "car3 = Car(\"Nissan\", \"Micra\", 30000)\n",
    "\n",
    "\n",
    "\n",
    "garage = [car1, car2, car3]\n",
    "for car in garage:\n",
    "    print(car)\n",
    "\n"
   ]
  },
  {
   "cell_type": "code",
   "execution_count": 116,
   "id": "3787ae8f",
   "metadata": {},
   "outputs": [
    {
     "data": {
      "text/plain": [
       "False"
      ]
     },
     "execution_count": 116,
     "metadata": {},
     "output_type": "execute_result"
    }
   ],
   "source": [
    "car1.brand == car2.brand\n",
    "car2.model == car3.model"
   ]
  },
  {
   "cell_type": "markdown",
   "id": "874ff4df",
   "metadata": {},
   "source": [
    "Day 2 – repr, str, and Object Representation\n",
    "\n",
    "Uppgift 1: Förbättra representationen\n",
    "\n",
    "Lägg till __repr__ och __str__ i din Laptop-klass:\n",
    "\n",
    "__repr__ ska kunna användas för att skapa ett nytt objekt (tekniskt).\n",
    "\n",
    "__str__ ska vara lättläst för användaren."
   ]
  },
  {
   "cell_type": "code",
   "execution_count": 140,
   "id": "287dde69",
   "metadata": {},
   "outputs": [
    {
     "name": "stdout",
     "output_type": "stream",
     "text": [
      "Dell Hyperion 400\n",
      "brand='Hp', model='Bockwork', price=230\n",
      "False\n",
      "True\n"
     ]
    }
   ],
   "source": [
    "class Laptop:\n",
    "    def __init__(self, brand, model, price):\n",
    "        self.brand = brand\n",
    "        self.model = model\n",
    "        self.price = price\n",
    "\n",
    "    def __str__(self):\n",
    "        return f\"{self.brand} {self.model} {self.price}\"\n",
    "\n",
    "    def __repr__(self):\n",
    "        return f\"brand='{self.brand}', model='{self.model}', price={self.price}\"\n",
    "    \n",
    "    def __eq__(self, other):\n",
    "        if isinstance(other, Laptop):\n",
    "            return self.brand == other.brand and self.model == other.model\n",
    "        return False\n",
    "\n",
    "   \n",
    "lap1 = Laptop(\"Dell\", \"Hyperion\", 400)\n",
    "lap2 = Laptop(\"Hp\", \"Bockwork\", 230)\n",
    "lap3 = Laptop(\"Acer\", \"Asparagus\", 560)\n",
    "\n",
    "laptops = [lap1, lap2, lap3]\n",
    "\n",
    "print(str(lap1))\n",
    "print(repr(lap2))\n",
    "print(lap1 == lap2)\n",
    "print(lap2 != lap3)\n"
   ]
  },
  {
   "cell_type": "markdown",
   "id": "191b5c84",
   "metadata": {},
   "source": [
    "Uppgift 2: Skapa Book-klass\n",
    "\n",
    "Skapa en klass Book med attribut: title, author, year.\n",
    "\n",
    "Implementera både __repr__ och __str__.\n",
    "\n",
    "Skapa en lista med minst 3 böcker och skriv ut dem.\n",
    "\n",
    "Reflektera över hur __repr__ underlättar felsökning i listor."
   ]
  },
  {
   "cell_type": "code",
   "execution_count": 139,
   "id": "821a5a5f",
   "metadata": {},
   "outputs": [
    {
     "name": "stdout",
     "output_type": "stream",
     "text": [
      "title=Huckleberry Finn, author=Mark Twain, year=1884\n",
      "To Kill a Mockingbird Harper Lee 1960\n",
      "Ulysses James Joyce 1922\n"
     ]
    }
   ],
   "source": [
    "class Book:\n",
    "    def __init__(self, title, author, year):\n",
    "        self.title = title\n",
    "        self.author = author\n",
    "        self.year = year\n",
    "    \n",
    "    def __str__(self):\n",
    "        return f\"{self.title} {self.author} {self.year}\"\n",
    "    \n",
    "    def __repr__(self):\n",
    "        return f\"title={self.title}, author={self.author}, year={self.year}\"\n",
    "    \n",
    "book1 = Book(\"Huckleberry Finn\", \"Mark Twain\", 1884)\n",
    "book2 = Book(\"To Kill a Mockingbird\", \"Harper Lee\", 1960)\n",
    "book3 = Book(\"Ulysses\", \"James Joyce\", 1922)\n",
    "\n",
    "books = {book1, book2, book3}\n",
    "\n",
    "print(repr(book1))\n",
    "print(str(book2))\n",
    "print(str(book3))"
   ]
  },
  {
   "cell_type": "markdown",
   "id": "38489953",
   "metadata": {},
   "source": [
    "##### Uppgift 3: Praktiskt scenario\n",
    "\n",
    "Skriv ett kort skript där du har en lista av blandade objekt (Laptop och Book).\n",
    "\n",
    "Använd __repr__ för att debugga listan."
   ]
  },
  {
   "cell_type": "code",
   "execution_count": 158,
   "id": "bf464255",
   "metadata": {},
   "outputs": [
    {
     "name": "stdout",
     "output_type": "stream",
     "text": [
      "[Laptop(brand=Dell, model=Hyperion, price=400), Laptop(brand=HP, model=Bookwork, price=230), Laptop(brand=Acer, model=Asparagus, price=560)]\n",
      "[Book(title=Huckleberry Finn, author=Mark Twain, year=1884), Book(title=To Kill a Mockingbird, author=Harper Lee, year=1960), Book(title=Ulysses, author=James Joyce, year=1922)]\n"
     ]
    }
   ],
   "source": [
    "class Book:\n",
    "    def __init__(self, title, author, year):\n",
    "        self.title = title\n",
    "        self.author = author\n",
    "        self.year = year\n",
    "\n",
    "    def __repr__(self):\n",
    "        return f\"Book(title={self.title}, author={self.author}, year={self.year})\"\n",
    "\n",
    "\n",
    "class Laptop:\n",
    "    def __init__(self, brand, model, price):\n",
    "        self.brand = brand\n",
    "        self.model = model\n",
    "        self.price = price\n",
    "\n",
    "    def __repr__(self):\n",
    "        return f\"Laptop(brand={self.brand}, model={self.model}, price={self.price})\"\n",
    "\n",
    "\n",
    "lap1 = Laptop(\"Dell\", \"Hyperion\", 400)\n",
    "lap2 = Laptop(\"HP\", \"Bookwork\", 230)\n",
    "lap3 = Laptop(\"Acer\", \"Asparagus\", 560)\n",
    "\n",
    "book1 = Book(\"Huckleberry Finn\", \"Mark Twain\", 1884)\n",
    "book2 = Book(\"To Kill a Mockingbird\", \"Harper Lee\", 1960)\n",
    "book3 = Book(\"Ulysses\", \"James Joyce\", 1922)\n",
    "\n",
    "laptops = [lap1, lap2, lap3]\n",
    "books = [book1, book2, book3]\n",
    "\n",
    "books_laptops = [laptops, books]\n",
    "print(laptops)\n",
    "print(books)"
   ]
  },
  {
   "cell_type": "markdown",
   "id": "c4eae072",
   "metadata": {},
   "source": [
    "Day 3 – Encapsulation and Private Attributes\n",
    "Uppgift 1: Patient-klass\n",
    "\n",
    "Skapa en klass Patient med attribut: _name och __diagnosis.\n",
    "\n",
    "Testa att komma åt _name direkt, och __diagnosis via name mangling (_Patient__diagnosis).\n",
    "\n",
    "Lägg till __repr__ som döljer diagnosen."
   ]
  },
  {
   "cell_type": "code",
   "execution_count": 176,
   "id": "fd5954a4",
   "metadata": {},
   "outputs": [
    {
     "name": "stdout",
     "output_type": "stream",
     "text": [
      "{'_name': 'Bob', '_Patient__diagnosis': 'Cancer'}\n"
     ]
    },
    {
     "data": {
      "text/plain": [
       "'Brain Tumor'"
      ]
     },
     "execution_count": 176,
     "metadata": {},
     "output_type": "execute_result"
    }
   ],
   "source": [
    "class Patient:\n",
    "    def __init__(self, name, diagnosis):\n",
    "        self._name = name\n",
    "        self.__diagnosis = diagnosis\n",
    "\n",
    "    def __repr__(self):\n",
    "        return f\"name={self._name} diagnosis=hidden\"\n",
    "\n",
    "p1 = Patient(\"Bob\", \"Cancer\")\n",
    "p2 = Patient(\"Greg\", \"Brain Tumor\")\n",
    "\n",
    "print(p1.__dict__)\n",
    "\n",
    "p2._Patient__diagnosis\n"
   ]
  },
  {
   "cell_type": "markdown",
   "id": "2ae428d8",
   "metadata": {},
   "source": [
    "##### Uppgift 2: BankAccount-klass\n",
    "\n",
    "Skapa en klass BankAccount med attribut: owner och _balance.\n",
    "\n",
    "Implementera metoder: deposit(), withdraw(), check_balance().\n",
    "\n",
    "Testa att ändra _balance direkt utanför klassen och reflektera över konsekvenserna."
   ]
  },
  {
   "cell_type": "code",
   "execution_count": null,
   "id": "0d335837",
   "metadata": {},
   "outputs": [
    {
     "name": "stdout",
     "output_type": "stream",
     "text": [
      "300\n",
      "Innehav: 500\n",
      "Innehav: 3800\n",
      "Innehav: 99999\n"
     ]
    }
   ],
   "source": [
    "class BankAccount:\n",
    "\n",
    " \n",
    "    \n",
    "    def __init__(self, owner, _balance=0):\n",
    "        self.owner = owner\n",
    "        self._balance = _balance\n",
    "    \n",
    "\n",
    "    def deposit(self, amount):\n",
    "        if amount < 0:\n",
    "            raise ValueError(\"Summan måste vara positiv\")\n",
    "        \n",
    "        self._balance += amount\n",
    "        \n",
    "    def withdraw(self, amount):\n",
    "        if amount > self._balance:\n",
    "            raise ValueError(\"Slut på kondot\")\n",
    "        \n",
    "        self._balance -= amount\n",
    "        \n",
    "    \n",
    "    def check_balance(self):\n",
    "        return f\"Innehav: {self._balance}\"\n",
    "    \n",
    "\n",
    "p1 = BankAccount(\"Bob\", 300)\n",
    "p2 = BankAccount(\"Anki\", 4300)\n",
    "\n",
    "print(p1._balance)\n",
    "\n",
    "p1.deposit(200)\n",
    "p2.withdraw(500)\n",
    "\n",
    "print(p1.check_balance())\n",
    "print(p2.check_balance())\n",
    "\n",
    "p1._balance = 99999\n",
    "print(p1.check_balance())\n"
   ]
  },
  {
   "cell_type": "markdown",
   "id": "a4fae4ec",
   "metadata": {},
   "source": [
    "Uppgift 3: Säker version\n",
    "\n",
    "Uppgradera BankAccount med @property och @setter så att _balance inte kan sättas till negativt tal.\n",
    "\n",
    "Testa med giltiga och ogiltiga värden."
   ]
  },
  {
   "cell_type": "code",
   "execution_count": null,
   "id": "ea34c6c9",
   "metadata": {},
   "outputs": [
    {
     "name": "stdout",
     "output_type": "stream",
     "text": [
      "BankAccount(owner='Lisa', balance=1000)\n",
      "1500\n",
      "1300\n",
      "2000\n",
      "Fel: Saldo kan inte vara negativt!\n"
     ]
    }
   ],
   "source": [
    "class BankAccount:\n",
    "    def __init__(self, owner, balance=0):\n",
    "        # Initieringsmetod som körs när ett nytt konto skapas.\n",
    "        # owner = kontoinnehavarens namn\n",
    "        # balance = startbalans (default = 0)\n",
    "        self.owner = owner\n",
    "        self._balance = balance  # \"skyddat\" attribut (bör inte ändras direkt utifrån)\n",
    "        \n",
    "    @property\n",
    "    def balance(self):\n",
    "        \"\"\"Getter – gör det möjligt att läsa av saldot på ett säkert sätt.\"\"\"\n",
    "        return self._balance\n",
    "\n",
    "    @balance.setter\n",
    "    def balance(self, value):\n",
    "        \"\"\"\n",
    "        Setter – kontrollerar värden innan de sätts.\n",
    "        Om någon försöker sätta ett negativt saldo kastas ett fel.\n",
    "        \"\"\"\n",
    "        if value < 0:\n",
    "            raise ValueError(\"Saldo kan inte vara negativt!\")\n",
    "        self._balance = value  # Sätter nytt värde på saldot\n",
    "\n",
    "    def deposit(self, amount):\n",
    "        \"\"\"\n",
    "        Metod för insättning av pengar på kontot.\n",
    "        Kontrollerar att beloppet är positivt.\n",
    "        \"\"\"\n",
    "        if amount < 0:\n",
    "            raise ValueError(\"Beloppet måste vara positivt!\")\n",
    "        self._balance += amount  # Lägger till beloppet till saldot\n",
    "\n",
    "    def withdraw(self, amount):\n",
    "        \"\"\"\n",
    "        Metod för uttag av pengar.\n",
    "        Kontrollerar att det finns tillräckligt med pengar innan uttaget görs.\n",
    "        \"\"\"\n",
    "        if amount > self._balance:\n",
    "            raise ValueError(\"Otillräckliga medel!\")\n",
    "        self._balance -= amount  # Minskar saldot\n",
    "\n",
    "    def __repr__(self):\n",
    "        \"\"\"\n",
    "        __repr__ används för att representera objektet på ett tydligt sätt.\n",
    "        Visar klassens namn och aktuella attribut – praktiskt vid felsökning.\n",
    "        \"\"\"\n",
    "        return f\"BankAccount(owner='{self.owner}', balance={self._balance})\"\n",
    "\n",
    "\n",
    "# --- TESTDEL ---\n",
    "\n",
    "# Skapar ett nytt konto med 1000 kr startsaldo\n",
    "account = BankAccount(\"Lisa\", 1000)\n",
    "\n",
    "# Skriver ut kontot – använder __repr__\n",
    "print(account)  # BankAccount(owner='Lisa', balance=1000)\n",
    "\n",
    "# Gör en insättning\n",
    "account.deposit(500)\n",
    "print(account.balance)  # 1500 (använder property-gettern)\n",
    "\n",
    "# Gör ett uttag\n",
    "account.withdraw(200)\n",
    "print(account.balance)  # 1300\n",
    "\n",
    "# Använder settern för att sätta nytt saldo direkt\n",
    "account.balance = 2000\n",
    "print(account.balance)  # 2000\n",
    "\n",
    "# Försöker sätta negativt saldo (ska ge fel)\n",
    "try:\n",
    "    account.balance = -500\n",
    "except ValueError as e:\n",
    "    print(f\"Fel: {e}\")\n"
   ]
  },
  {
   "cell_type": "markdown",
   "id": "a78377ed",
   "metadata": {},
   "source": [
    "\n",
    "# Uppgift: Temperaturkontroll\n",
    "\n",
    "Du ska skapa en klass Temperature som håller reda på temperaturen i Celsius.\n",
    "Men – temperaturen ska aldrig kunna sättas till något orimligt värde (t.ex. under -273.15 °C, den absoluta nollpunkten).\n",
    "\n",
    "🔹 Krav:\n",
    "\n",
    "Skapa en klass Temperature med ett skyddat attribut _celsius.\n",
    "\n",
    "Använd @property för att kunna läsa temperaturen med temp.celsius.\n",
    "\n",
    "Använd @celsius.setter för att:\n",
    "\n",
    "Kontrollera att temperaturen inte är under -273.15.\n",
    "\n",
    "Om det är det → kasta ett ValueError.\n",
    "\n",
    "Skapa en metod to_fahrenheit() som räknar om till Fahrenheit.\n",
    "\n",
    "Testa din klass med både giltiga och ogiltiga värden."
   ]
  },
  {
   "cell_type": "code",
   "execution_count": 218,
   "id": "ef6d690f",
   "metadata": {},
   "outputs": [
    {
     "name": "stdout",
     "output_type": "stream",
     "text": [
      "25\n",
      "77.0\n",
      "-100\n",
      "Fel: Orimlig temperatur! Temperaturen kan inte gå under -273.15°C\n"
     ]
    }
   ],
   "source": [
    "class Temperature:\n",
    "    def __init__(self, celsius):\n",
    "        # Initieringsmetod som körs när ett nytt Temperature-objekt skapas\n",
    "        # celsius: starttemperatur i grader Celsius\n",
    "        # _celsius: skyddat attribut, bör inte ändras direkt utanför klassen\n",
    "        self._celsius = celsius\n",
    "    \n",
    "    @property\n",
    "    def celsius(self):\n",
    "        \"\"\"\n",
    "        Getter – gör det möjligt att läsa av temperaturen som\n",
    "        en egenskap istället för en metod.\n",
    "        Exempel: temp.celsius istället för temp.get_celsius()\n",
    "        \"\"\"\n",
    "        return self._celsius\n",
    "\n",
    "    @celsius.setter\n",
    "    def celsius(self, value):\n",
    "        \"\"\"\n",
    "        Setter – används när man vill ändra temperaturen.\n",
    "        Kontrollerar att värdet inte är under absoluta nollpunkten (-273.15 °C)\n",
    "        \"\"\"\n",
    "        if value < -273.15:\n",
    "            raise ValueError(\"Orimlig temperatur! Temperaturen kan inte gå under -273.15°C\")\n",
    "        self._celsius = value  # Sätter nytt giltigt värde\n",
    "\n",
    "    def to_fahrenheit(self):\n",
    "        \"\"\"\n",
    "        Konverterar temperaturen från Celsius till Fahrenheit.\n",
    "        Formel: (C * 9/5) + 32\n",
    "        \"\"\"\n",
    "        return (self._celsius * 9/5) + 32\n",
    "\n",
    "# --- TEST AV KLASSEN ---\n",
    "temp = Temperature(25)          # Skapar ett nytt objekt med 25°C\n",
    "print(temp.celsius)             # Läser temperaturen via getter → 25\n",
    "print(temp.to_fahrenheit())     # Konverterar till Fahrenheit → 77.0\n",
    "\n",
    "# Ändra temperaturen via setter\n",
    "temp.celsius = -100\n",
    "print(temp.celsius)             # -100\n",
    "\n",
    "# Testa ogiltigt värde\n",
    "try:\n",
    "    temp.celsius = -300         # Skulle ge ValueError\n",
    "except ValueError as e:\n",
    "    print(f\"Fel: {e}\")\n"
   ]
  },
  {
   "cell_type": "code",
   "execution_count": 225,
   "id": "36ec31d6",
   "metadata": {},
   "outputs": [
    {
     "name": "stdout",
     "output_type": "stream",
     "text": [
      "25\n",
      "77.0\n"
     ]
    }
   ],
   "source": [
    "class Temperature:\n",
    "    def __init__(self, celcius):\n",
    "        self._celcius = celcius\n",
    "    \n",
    "    @property\n",
    "    def celcius(self):\n",
    "        return self._celcius\n",
    "    \n",
    "    @celcius.setter\n",
    "    def __temp__(self, value):\n",
    "        if value < -270:\n",
    "            raise ValueError\n",
    "        self._celcius = value\n",
    "    \n",
    "    def to_fahrenheit(self):\n",
    "        return (self._celcius * 9/5) + 32\n",
    "    \n",
    "temp = Temperature(25)\n",
    "\n",
    "print(temp.celcius)\n",
    "print(temp.to_fahrenheit())"
   ]
  },
  {
   "cell_type": "markdown",
   "id": "585228e8",
   "metadata": {},
   "source": [
    "#####cSkapa en superklass Employee med attribut: name och salary och metod work().\n",
    "\n",
    "Skapa två subklasser: Developer och Manager.\n",
    "\n",
    "Developer ska ha en metod code().\n",
    "\n",
    "Manager ska ha en metod hold_meeting().\n",
    "\n",
    "Testa att skapa objekt av varje subklass och anropa både ärvda och egna metoder."
   ]
  },
  {
   "cell_type": "code",
   "execution_count": null,
   "id": "710540f0",
   "metadata": {},
   "outputs": [
    {
     "name": "stdout",
     "output_type": "stream",
     "text": [
      "Bob is working and earns 25000\n",
      "Boris is working and earns 45000\n",
      "Boris is coding in Java and earns 45000\n",
      "Bo is holding a meeting with 10 team members\n"
     ]
    }
   ],
   "source": [
    "# Superklass\n",
    "class Employee:\n",
    "    def __init__(self, name, salary):\n",
    "        self.name = name\n",
    "        self.salary = salary\n",
    "\n",
    "    def work(self):\n",
    "        # Generisk beskrivning av arbetet\n",
    "        return f\"{self.name} is working and earns {self.salary}\"\n",
    "\n",
    "\n",
    "# Subklass Developer\n",
    "class Developer(Employee):\n",
    "    def __init__(self, name, salary, programming_language=\"Python\"):\n",
    "        super().__init__(name, salary)  # anropar superklassens __init__\n",
    "        self.programming_language = programming_language\n",
    "\n",
    "    def code(self):\n",
    "        return f\"{self.name} is coding in {self.programming_language} and earns {self.salary}\"\n",
    "\n",
    "\n",
    "# Subklass Manager\n",
    "class Manager(Employee):\n",
    "    def __init__(self, name, salary, team_size=5):\n",
    "        super().__init__(name, salary)\n",
    "        self.team_size = team_size\n",
    "\n",
    "    def hold_meeting(self):\n",
    "        return f\"{self.name} is holding a meeting with {self.team_size} team members\"\n",
    "\n",
    "\n",
    "# --- Test ---\n",
    "emp1 = Employee(\"Bob\", 25000)\n",
    "dev1 = Developer(\"Boris\", 45000, \"Java\")\n",
    "man1 = Manager(\"Bo\", 75000, 10)\n",
    "\n",
    "print(emp1.work())         # Bob is working and earns 25000\n",
    "print(dev1.work())         # Boris is working and earns 45000\n",
    "print(dev1.code())         # Boris is coding in Java and earns 45000\n",
    "print(man1.hold_meeting()) # Bo is holding a meeting with 10 team members\n"
   ]
  },
  {
   "cell_type": "code",
   "execution_count": null,
   "id": "10df9dae",
   "metadata": {},
   "outputs": [],
   "source": []
  }
 ],
 "metadata": {
  "kernelspec": {
   "display_name": "Python 3",
   "language": "python",
   "name": "python3"
  },
  "language_info": {
   "codemirror_mode": {
    "name": "ipython",
    "version": 3
   },
   "file_extension": ".py",
   "mimetype": "text/x-python",
   "name": "python",
   "nbconvert_exporter": "python",
   "pygments_lexer": "ipython3",
   "version": "3.12.10"
  }
 },
 "nbformat": 4,
 "nbformat_minor": 5
}

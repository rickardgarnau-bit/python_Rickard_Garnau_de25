{
 "cells": [
  {
   "cell_type": "code",
   "execution_count": null,
   "id": "acc06097",
   "metadata": {},
   "outputs": [
    {
     "name": "stdout",
     "output_type": "stream",
     "text": [
      "Toyota Corolla 2020\n",
      "Tesla Model 3 2022\n"
     ]
    }
   ],
   "source": [
    "class Car: # created a class for Car\n",
    "    def __init__(self, brand, model, year): # created attributes for the class\n",
    "\n",
    "        self.brand = brand\n",
    "        self.model = model\n",
    "        self.year = year\n",
    "\n",
    "car1 = Car(\"Toyota\", \"Corolla\", 2020) # gave the car values\n",
    "car2 = Car(\"Tesla\", \"Model 3\", 2022)\n",
    "\n",
    "print(car1.brand, car1.model, car1.year) # printed the result\n",
    "print(car2.brand, car2.model, car2.year)"
   ]
  },
  {
   "cell_type": "code",
   "execution_count": null,
   "id": "06244484",
   "metadata": {},
   "outputs": [
    {
     "name": "stdout",
     "output_type": "stream",
     "text": [
      "Toyota Corolla, Year: 2020\n",
      "Tesla Model 3, Year: 2022\n"
     ]
    }
   ],
   "source": [
    "class Car:\n",
    "    def __init__(self, brand, model, year):\n",
    "\n",
    "        self.brand = brand\n",
    "        self.model = model\n",
    "        self.year = year\n",
    "    \n",
    "    def display_info(self): # added a method to display the info of the car\n",
    "        print(f\"{self.brand} {self.model}, Year: {self.year}\")\n",
    "\n",
    "car1 = Car(\"Toyota\", \"Corolla\", 2020)\n",
    "car2 = Car(\"Tesla\", \"Model 3\", 2022)\n",
    "\n",
    "car1.display_info()\n",
    "car2.display_info()"
   ]
  },
  {
   "cell_type": "code",
   "execution_count": null,
   "id": "753a1de7",
   "metadata": {},
   "outputs": [
    {
     "name": "stdout",
     "output_type": "stream",
     "text": [
      "1805685111216\n",
      "1805685112368\n"
     ]
    },
    {
     "data": {
      "text/plain": [
       "False"
      ]
     },
     "execution_count": 19,
     "metadata": {},
     "output_type": "execute_result"
    }
   ],
   "source": [
    "print(id(car1)) # returns the memory-adresses of the objects. Every instance of a class is unique,\n",
    "print(id(car2)) # even if the attributes are identical\n",
    "id(car1) == id(car2) # is False as a standard without __eq__\n"
   ]
  },
  {
   "cell_type": "code",
   "execution_count": 23,
   "id": "408c7383",
   "metadata": {},
   "outputs": [
    {
     "name": "stdout",
     "output_type": "stream",
     "text": [
      "True\n"
     ]
    }
   ],
   "source": [
    "class Car:\n",
    "    def __init__(self, brand, model, year):\n",
    "\n",
    "        self.brand = brand\n",
    "        self.model = model\n",
    "        self.year = year\n",
    "    \n",
    "    def __eq__(self, other):    # definies an __eq__ method for the class car.\n",
    "                                # instead of comparing the memoryadresses it compares\n",
    "                                # the two objects brand and model\n",
    "        if isinstance(other, Car): # isinstance makes sure to only compare with other Car objects\n",
    "            return self.brand == other.brand and self.model == other.model\n",
    "        return False\n",
    "\n",
    "car1 = Car(\"Toyota\", \"Corolla\", 2020)\n",
    "car3 = Car(\"Toyota\", \"Corolla\", 2020)\n",
    "print(car1 == car3)  # True now because of the comparison of brand and model, not the id address"
   ]
  },
  {
   "cell_type": "code",
   "execution_count": null,
   "id": "63fc7693",
   "metadata": {},
   "outputs": [
    {
     "name": "stdout",
     "output_type": "stream",
     "text": [
      "Garage inventory:\n",
      "Toyota Corolla, Year: 2019\n",
      "Hyundai i20, Year: 2023\n",
      "Toyota Corolla, Year: 2021\n",
      "\n",
      "Equality checks\n",
      "car1 == car2: <__main__.Car object at 0x000001A46B3D6840> == <__main__.Car object at 0x000001A46B3AAE70>\n",
      "car2 == car3: <__main__.Car object at 0x000001A46B3AAE70> == <__main__.Car object at 0x000001A46B395130>\n",
      "\n",
      "Memory addresses:\n",
      "car1 id: 1805685450816\n",
      "car2 id: 1805685272176\n",
      "car3 id: 1805685182768\n",
      "\n",
      "Reflection:\n",
      "car1 och car3 har samma brand och model men olika year och olika id.\n",
      "== jämför innehåll medan 'is' jämför identitet (minnesadress).\n"
     ]
    }
   ],
   "source": [
    "class Car:  # Skapar klassen Car\n",
    "    def __init__(self, brand, model, year):  # Initialiseringsmetod (konstruktor) med attribut\n",
    "        self.brand = brand  # Sätter bilens märke\n",
    "        self.model = model  # Sätter bilens modell\n",
    "        self.year = year    # Sätter bilens årsmodell\n",
    "\n",
    "    def display_info(self):  # Metod för att visa bilens information\n",
    "        print(f\"{self.brand} {self.model}, Year: {self.year}\")\n",
    "\n",
    "    def __eq__(self, other):  # Metod för att jämföra två Car-objekt baserat på brand och model\n",
    "        \"\"\"Returnerar True om brand och model är samma, annars False\"\"\"\n",
    "        if isinstance(other, Car):  # Kontrollerar att other är ett Car-objekt\n",
    "            return self.brand == other.brand and self.model == other.model\n",
    "        return False\n",
    "\n",
    "# Skapar instanser av Car\n",
    "car1 = Car(\"Toyota\", \"Corolla\", 2019)\n",
    "car2 = Car(\"Hyundai\", \"i20\", 2023)\n",
    "car3 = Car(\"Toyota\", \"Corolla\", 2021)\n",
    "\n",
    "# Skapar en lista som representerar garaget\n",
    "garage = [car1, car2, car3]\n",
    "\n",
    "# Loopar igenom garaget och visar varje bil\n",
    "print(\"Garage inventory:\")\n",
    "for car in garage:\n",
    "    car.display_info()\n",
    "\n",
    "# Jämför bilar med __eq__-metoden\n",
    "print(\"\\nEquality checks\")\n",
    "print(f\"car1 == car2: {car1 == car2}\")  # False, olika brand/model\n",
    "print(f\"car2 == car3: {car2 == car3}\")  # False, olika brand/model\n",
    "\n",
    "# Visa minnesadresser för varje bil\n",
    "print(\"\\nMemory addresses:\")\n",
    "for i, car in enumerate(garage, 1):\n",
    "    print(f\"car{i} id: {id(car)}\")\n",
    "\n",
    "# Reflektion över skillnaden mellan innehåll och identitet\n",
    "print(\"\\nReflection:\")\n",
    "print(\"car1 och car3 har samma brand och model men olika year och olika id.\")\n",
    "print(\"== jämför innehåll medan 'is' jämför identitet (minnesadress).\")\n"
   ]
  },
  {
   "cell_type": "code",
   "execution_count": 45,
   "id": "69a81cd0",
   "metadata": {},
   "outputs": [
    {
     "name": "stdout",
     "output_type": "stream",
     "text": [
      "The Green car with the brand Toyotam Model Corolla drives superfast\n",
      "Toyota Corolla 2020 Green\n",
      "Tesla Model 3 2022 Black\n",
      "<class '__main__.Car'>\n",
      "1805685471088\n"
     ]
    }
   ],
   "source": [
    "class Car: # created a class for Car\n",
    "    def __init__(self, brand, model, year, color): # created attributes for the class\n",
    "\n",
    "        self.brand = brand\n",
    "        self.model = model\n",
    "        self.year = year\n",
    "        self.color = color\n",
    "    \n",
    "    def drive(self):\n",
    "        print(f\"The {self.color} car with the brand {self.brand}m Model {self.model} drives superfast\")\n",
    "\n",
    "car1.drive()\n",
    "car1 = Car(\"Toyota\", \"Corolla\", 2020, \"Green\") # gave the car values\n",
    "car2 = Car(\"Tesla\", \"Model 3\", 2022, \"Black\")\n",
    "\n",
    "print(car1.brand, car1.model, car1.year, car1.color) # printed the result\n",
    "print(car2.brand, car2.model, car2.year, car2.color)\n",
    "\n",
    "print(type(car1))\n",
    "print(id(car2))"
   ]
  },
  {
   "cell_type": "code",
   "execution_count": 65,
   "id": "bb632deb",
   "metadata": {},
   "outputs": [
    {
     "name": "stdout",
     "output_type": "stream",
     "text": [
      "Tesla Model 3 2022\n",
      "Tesla Model 3 2022\n",
      "True\n"
     ]
    }
   ],
   "source": [
    "class Car: # created a class for Car\n",
    "    def __init__(self, brand, model, year): # created attributes for the class\n",
    "\n",
    "        self.brand = brand\n",
    "        self.model = model\n",
    "        self.year = year\n",
    "    \n",
    "    def __eq__(self, other):\n",
    "        if isinstance(other, Car):\n",
    "            return self.brand == other.brand and self.model == other.model\n",
    "        return False\n",
    " \n",
    "car1 = Car(\"Tesla\", \"Model 3\", 2022) # gave the car values\n",
    "car2 = Car(\"Tesla\", \"Model 3\", 2022)\n",
    "\n",
    "print(car1.brand, car1.model, car1.year) # printed the result\n",
    "print(car2.brand, car2.model, car2.year)\n",
    "print(car1 == car2)"
   ]
  },
  {
   "cell_type": "code",
   "execution_count": 94,
   "id": "5fbe6646",
   "metadata": {},
   "outputs": [
    {
     "name": "stdout",
     "output_type": "stream",
     "text": [
      "True\n",
      "False\n",
      "True\n",
      "False\n",
      "True\n"
     ]
    }
   ],
   "source": [
    "class Student:\n",
    "    def __init__(self, name, student_id, grade):\n",
    "\n",
    "        self.name = name\n",
    "        self.student_id = student_id\n",
    "        self.grade = grade\n",
    "    \n",
    "    def __eq__(self, other):\n",
    "        if isinstance(self, Student):\n",
    "            return self.student_id == other.student_id\n",
    "        return False\n",
    "\n",
    "    def display(self):\n",
    "        print(f\"{self.name} (ID: {self.student_id}) - Grade: {self.grade}\")\n",
    "\n",
    "    def change_grade(self, new_grade):\n",
    "        self.grade = new_grade\n",
    "\n",
    "s1 = Student(\"Alice\", 101, \"A\")\n",
    "s2 = Student(\"Alice\", 101, \"A\")\n",
    "s3 = s1\n",
    "s4 = Student(\"Alice\", 102, \"A\")\n",
    "\n",
    "print(s1 == s2)\n",
    "print(s1 is s2)\n",
    "print(s1 is s3)\n",
    "print(s1 == s4)\n",
    "print(s1.name == s4.name)\n",
    "\n"
   ]
  },
  {
   "cell_type": "code",
   "execution_count": 95,
   "id": "538f784a",
   "metadata": {},
   "outputs": [
    {
     "name": "stdout",
     "output_type": "stream",
     "text": [
      "None\n"
     ]
    }
   ],
   "source": [
    "def change_grade(self, new_grade):\n",
    "        self.grade = new.grade\n",
    "        s3.change_grade(\"B\")\n",
    "        \n",
    "print(s1.change_grade(\"B\"))"
   ]
  },
  {
   "cell_type": "code",
   "execution_count": 100,
   "id": "a379ce59",
   "metadata": {},
   "outputs": [
    {
     "name": "stdout",
     "output_type": "stream",
     "text": [
      "2022 Tesla Model 3\n"
     ]
    },
    {
     "data": {
      "text/plain": [
       "[Car(brand='Tesla', model='Model 3', year=2022)]"
      ]
     },
     "execution_count": 100,
     "metadata": {},
     "output_type": "execute_result"
    }
   ],
   "source": [
    "class Car: # created a class for Car\n",
    "    def __init__(self, brand, model, year): # created attributes for the class\n",
    "\n",
    "        self.brand = brand\n",
    "        self.model = model\n",
    "        self.year = year\n",
    "\n",
    "    def __repr__(self):\n",
    "        return f\"Car(brand='{self.brand}', model='{self.model}', year={self.year})\"\n",
    "\n",
    "    def __str__(self):\n",
    "        return f\"{self.year} {self.brand} {self.model}\"\n",
    "\n",
    "car = Car(\"Tesla\", \"Model 3\", 2022)\n",
    "\n",
    "print(car)\n",
    "car\n",
    "\n",
    "garage = [car]\n",
    "garage"
   ]
  },
  {
   "cell_type": "code",
   "execution_count": 105,
   "id": "ddb9c86e",
   "metadata": {},
   "outputs": [
    {
     "name": "stdout",
     "output_type": "stream",
     "text": [
      "'1984' by George Orwell (1949) - 328 pages\n",
      "[Book(title='1984', author='George Orwell', year=1949, pages=328), Book(title='Brave New World', author='Aldous Huxley', year=1932, pages=288)]\n"
     ]
    }
   ],
   "source": [
    "class Book:\n",
    "    def __init__(self, title, author, year, pages):\n",
    "        self.title = title\n",
    "        self.author = author\n",
    "        self.year = year\n",
    "        self.pages = pages\n",
    "    \n",
    "    def __str__(self):\n",
    "        return f\"'{self.title}' by {self.author} ({self.year}) - {self.pages} pages\"\n",
    "\n",
    "    def __repr__(self):\n",
    "        return f\"Book(title='{self.title}', author='{self.author}', year={self.year}, pages={self.pages})\"\n",
    "\n",
    "book1 = Book(\"1984\", \"George Orwell\", 1949, 328)\n",
    "book2 = Book(\"Brave New World\", \"Aldous Huxley\", 1932, 288)\n",
    "\n",
    "print(book1)\n",
    "book1\n",
    "print([book1, book2])"
   ]
  },
  {
   "cell_type": "code",
   "execution_count": null,
   "id": "10c61e93",
   "metadata": {},
   "outputs": [],
   "source": [
    "# Python has two ways of presenting objects because, one way is to present\n",
    "# it to developers to help with trouble-shooting, recreating an object and the other way to present\n",
    "# it to the public\n",
    "\n"
   ]
  },
  {
   "cell_type": "code",
   "execution_count": 124,
   "id": "48d7fc11",
   "metadata": {},
   "outputs": [
    {
     "name": "stdout",
     "output_type": "stream",
     "text": [
      "'Inception', (2010) directed by Cristopher Nolan - Rating: 9.0\n",
      "'LOTR', (2000) directed by Peter Jackson - Rating: 9.1\n",
      "[Movie(title='Inception', year=2010, director='Cristopher Nolan', rating=9.0), Movie(title='LOTR', year=2000, director='Peter Jackson', rating=9.1)]\n"
     ]
    }
   ],
   "source": [
    "class Movie:\n",
    "    def __init__(self, title, year, director, rating):\n",
    "        self.title = title\n",
    "        self.year = year\n",
    "        self.director = director\n",
    "        self.rating = rating\n",
    "\n",
    "    def __str__(self):\n",
    "        return f\"'{self.title}', ({self.year}) directed by {self.director} - Rating: {self.rating}\"\n",
    "\n",
    "    def __repr__(self):\n",
    "        return f\"Movie(title='{self.title}', year={self.year}, director='{self.director}', rating={self.rating})\"\n",
    "\n",
    "movie1 = Movie(\"Inception\", (2010), \"Cristopher Nolan\", 9.0)\n",
    "movie2 = Movie(\"LOTR\", 2000, \"Peter Jackson\", 9.1)\n",
    "\n",
    "print(movie1)\n",
    "print(movie2)\n",
    "print([movie1, movie2])\n"
   ]
  },
  {
   "cell_type": "code",
   "execution_count": null,
   "id": "74536152",
   "metadata": {},
   "outputs": [],
   "source": []
  }
 ],
 "metadata": {
  "kernelspec": {
   "display_name": "Python 3",
   "language": "python",
   "name": "python3"
  },
  "language_info": {
   "codemirror_mode": {
    "name": "ipython",
    "version": 3
   },
   "file_extension": ".py",
   "mimetype": "text/x-python",
   "name": "python",
   "nbconvert_exporter": "python",
   "pygments_lexer": "ipython3",
   "version": "3.12.10"
  }
 },
 "nbformat": 4,
 "nbformat_minor": 5
}

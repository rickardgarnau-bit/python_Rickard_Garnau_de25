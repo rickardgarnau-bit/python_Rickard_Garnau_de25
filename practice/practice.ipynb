{
 "cells": [
  {
   "cell_type": "markdown",
   "id": "0a774e33",
   "metadata": {},
   "source": [
    "# 0. Pythagorean theorem (*)\n",
    "a) A right angled triangle has the catheti: a = 3 and b = 4 length units. Compute the hypothenuse of the triangle. (*)\n",
    "\n",
    "b) A right angled triangle has hypothenuse c = 7.0 and a cathetus a = 5.0 length units. Compute the other cathetus and round to one decimal. (*)"
   ]
  },
  {
   "cell_type": "code",
   "execution_count": null,
   "id": "5db38a48",
   "metadata": {},
   "outputs": [],
   "source": [
    "# a)\n",
    "import math\n",
    "a = 3\n",
    "b = 4\n",
    "\n",
    "c = math.sqrt(a**2 + b**2)\n",
    "print('The hypothenuse is:' ,c)\n",
    "\n",
    "# b)\n",
    "\n",
    "c = 7.0\n",
    "a = 5.0\n",
    "\n",
    "b = math.sqrt(c**2 - a**2)\n",
    "\n",
    "print(f'The cathetus is: {b:.1f}')\n",
    "\n",
    "\n",
    "\n"
   ]
  },
  {
   "cell_type": "code",
   "execution_count": null,
   "id": "e3cb61e6",
   "metadata": {},
   "outputs": [],
   "source": [
    "# Initial values for the year and birds variables\n",
    "year = 0\n",
    "birds = 80000\n"
   ]
  },
  {
   "cell_type": "code",
   "execution_count": null,
   "id": "5440bc59",
   "metadata": {},
   "outputs": [],
   "source": [
    "year = 0\n",
    "birds = 80000\n",
    "while birds > 8000:  # provide a condition, not the number of looping times with the while statement\n",
    "    print(f\"Currently, this is year {year} and the number of birds is {birds:.0f}\")\n",
    "    birds /= 2 # birds = birds / 2\n",
    "    print(f\"At the end of {year}, the number of birds decreases to {birds:.0f}\")\n",
    "    print()\n",
    "    year +=1\n",
    "    \n"
   ]
  },
  {
   "cell_type": "code",
   "execution_count": null,
   "id": "685fd1ec",
   "metadata": {},
   "outputs": [],
   "source": [
    "i = 0\n",
    "\n",
    "while True:\n",
    "    print(i)\n",
    "    i += 1\n",
    "\n",
    "    if i >= 5:\n",
    "        break"
   ]
  },
  {
   "cell_type": "code",
   "execution_count": null,
   "id": "c3d3a14b",
   "metadata": {},
   "outputs": [],
   "source": [
    "for i in range(1, 10, 2):\n",
    "    print(i)"
   ]
  },
  {
   "cell_type": "code",
   "execution_count": null,
   "id": "a4ddab99",
   "metadata": {},
   "outputs": [],
   "source": [
    "for i in range(1, 10, 2):\n",
    "    print(i, end=\" \")"
   ]
  },
  {
   "cell_type": "code",
   "execution_count": null,
   "id": "b3ba5fbf",
   "metadata": {},
   "outputs": [],
   "source": [
    "name = input(\"What's your name? \")\n",
    "\n",
    "print(\"Du heter:\", name, \", Fan vad sjukt\")\n"
   ]
  },
  {
   "cell_type": "code",
   "execution_count": null,
   "id": "509ff277",
   "metadata": {},
   "outputs": [],
   "source": [
    "num = int(input(\"Print a number \"))\n",
    "\n",
    "if num % 2 == 0: # tal % 2 → ger resten när tal delas med 2\n",
    "    print(\"Even\")\n",
    "else:\n",
    "    print(\"Odd\")\n"
   ]
  },
  {
   "cell_type": "code",
   "execution_count": null,
   "id": "64f6ffb7",
   "metadata": {},
   "outputs": [],
   "source": [
    "password = input(\"Type your password:\")\n",
    "\n",
    "if password == \"python1\":\n",
    "    print(f\"Logged in successfully\")\n",
    "else:\n",
    "    print(f\"Try again\")"
   ]
  },
  {
   "cell_type": "code",
   "execution_count": null,
   "id": "530cd2a4",
   "metadata": {},
   "outputs": [],
   "source": [
    "lst = [11, 54, 8, 342, 76]\n",
    "\n",
    "print(max(lst))\n",
    "print(min(lst))\n",
    "print(sum(lst))"
   ]
  },
  {
   "cell_type": "code",
   "execution_count": null,
   "id": "d0f1ad29",
   "metadata": {},
   "outputs": [],
   "source": [
    "for i in lst:\n",
    "    print(i)"
   ]
  },
  {
   "cell_type": "code",
   "execution_count": null,
   "id": "fa5b5f67",
   "metadata": {},
   "outputs": [],
   "source": [
    "citys = ('Oslo', 'Sthlm', \"Bro\")\n",
    "\n",
    "for city in sorted(citys):\n",
    "    print(city)"
   ]
  },
  {
   "cell_type": "code",
   "execution_count": null,
   "id": "a193cca8",
   "metadata": {},
   "outputs": [],
   "source": [
    "sentance = input(\"Type a sentance\")\n",
    "print(sentance.upper())\n"
   ]
  },
  {
   "cell_type": "code",
   "execution_count": null,
   "id": "3ca0aa08",
   "metadata": {},
   "outputs": [],
   "source": [
    "tecken = len(sentance)\n",
    "print(tecken)\n",
    "\n",
    "    "
   ]
  },
  {
   "cell_type": "code",
   "execution_count": null,
   "id": "94602cb3",
   "metadata": {},
   "outputs": [],
   "source": [
    "for letter in sentance[:3]:\n",
    "    print(letter)"
   ]
  },
  {
   "cell_type": "code",
   "execution_count": null,
   "id": "dc5b3785",
   "metadata": {},
   "outputs": [],
   "source": [
    "greeting = \"hej\"\n",
    "\n",
    "\n",
    "try: \n",
    "    (int(greeting))\n",
    "except ValueError:\n",
    "    print(\"Det går inte\")"
   ]
  },
  {
   "cell_type": "code",
   "execution_count": null,
   "id": "231c31d1",
   "metadata": {},
   "outputs": [],
   "source": [
    "message = input(\"Skriv något: \")\n",
    "\n",
    "while True:\n",
    "    message = input(\"Skriv ett tal: \")\n",
    "    try:\n",
    "        number = int(message)\n",
    "        print(\"Rätt!\", number)\n",
    "        break\n",
    "    except ValueError:\n",
    "        print(\"Fel, du måste skriva ett tal\")"
   ]
  },
  {
   "cell_type": "code",
   "execution_count": null,
   "id": "698d6910",
   "metadata": {},
   "outputs": [],
   "source": [
    "colors = input(\"Choose one favorite color: \")\n",
    "colors1 = input(\"Second favorite color: \")\n",
    "colors2 = input(\"Third favorite color: \")\n",
    "\n",
    "print(f\"{colors}, {colors1}, {colors2}\")"
   ]
  },
  {
   "cell_type": "code",
   "execution_count": null,
   "id": "9cf34e65",
   "metadata": {},
   "outputs": [],
   "source": [
    "num = int(input(\"Skriv ett tal: \"))\n",
    "\n",
    "if num < 10:\n",
    "    print(\"Litet tal\")\n",
    "else:\n",
    "    print(\"Stort tal\")"
   ]
  },
  {
   "cell_type": "code",
   "execution_count": null,
   "id": "2ae57b3d",
   "metadata": {},
   "outputs": [],
   "source": [
    "numberr = int(input(\"Skriv ett tal: \"))\n",
    "\n",
    "for i in range(1, 11):\n",
    "    print(i * numberr)\n",
    "    \n"
   ]
  },
  {
   "cell_type": "code",
   "execution_count": null,
   "id": "124a8936",
   "metadata": {},
   "outputs": [],
   "source": [
    "secret_animal = input(\"Gissa djuret: \")\n",
    "\n",
    "if secret_animal == \"zebra\":\n",
    "    print(\"Rätt\")\n",
    "else:\n",
    "    print(\"Försök igen\")"
   ]
  },
  {
   "cell_type": "code",
   "execution_count": null,
   "id": "b1546ab4",
   "metadata": {},
   "outputs": [],
   "source": [
    "num1 = int(input(\"Nummer 1\"))\n",
    "num2 = int(input(\"Nummer 2\"))\n",
    "\n",
    "sum = num1 + num2\n",
    "\n",
    "print(sum)\n"
   ]
  },
  {
   "cell_type": "code",
   "execution_count": null,
   "id": "ae8a5a2d",
   "metadata": {},
   "outputs": [],
   "source": [
    "names = [\"Dag\", \"Hans\", \"Bo\", \"Klara\"]\n",
    "\n",
    "print(names[0])\n",
    "print(names[3])\n",
    "print(names[0:4])"
   ]
  },
  {
   "cell_type": "code",
   "execution_count": null,
   "id": "9582cd37",
   "metadata": {},
   "outputs": [],
   "source": [
    "animals = [\"Cow\", \"Chicken\", \"Rabbit\"]\n",
    "\n",
    "print(len(animals))"
   ]
  },
  {
   "cell_type": "code",
   "execution_count": null,
   "id": "651c626e",
   "metadata": {},
   "outputs": [],
   "source": [
    "nummer = [1, 2, 3, 4, 5]\n",
    "\n",
    "for i in nummer:\n",
    "    print(i ** 2)\n",
    "\n",
    "    \n"
   ]
  },
  {
   "cell_type": "code",
   "execution_count": null,
   "id": "54d41426",
   "metadata": {},
   "outputs": [],
   "source": [
    "months = (\"April\", \"Februari\", \"September\")\n",
    "\n",
    "for month in sorted(months):\n",
    "    print(month)"
   ]
  },
  {
   "cell_type": "code",
   "execution_count": null,
   "id": "d141a6a0",
   "metadata": {},
   "outputs": [],
   "source": [
    "fruits = ['banana', 'apple', 'grape', 'orange']\n",
    "\n",
    "fruits[2] = 'pear'\n",
    "fruits\n",
    "\n"
   ]
  },
  {
   "cell_type": "markdown",
   "id": "761d26ba",
   "metadata": {},
   "source": [
    "# OOP - Object oriented programming"
   ]
  },
  {
   "cell_type": "code",
   "execution_count": null,
   "id": "51e94ed1",
   "metadata": {},
   "outputs": [],
   "source": [
    "class Dog:\n",
    "    def __init__(self, name):\n",
    "        self.name = name\n",
    "        print(name)\n",
    "    def add_one(self, x):\n",
    "        return x + 1\n",
    "    def bark(self):\n",
    "        print(\"bark\")\n",
    "\n",
    "d = Dog(\"Tim\")\n",
    "print(d.name)\n",
    "d2 = Dog(\"Bill\")\n",
    "print(d2.name)"
   ]
  },
  {
   "cell_type": "code",
   "execution_count": 29,
   "id": "4acc7ea6",
   "metadata": {},
   "outputs": [
    {
     "name": "stdout",
     "output_type": "stream",
     "text": [
      "Bella har lagts till i Göteborgs Djurpark\n",
      "Misse har lagts till i Göteborgs Djurpark\n",
      "Rocky har lagts till i Göteborgs Djurpark\n",
      "f\n",
      "Djur i Göteborgs Djurpark:\n",
      "- Bella (hund, 4 år)\n",
      "- Misse (katt, 3 år)\n",
      "- Rocky (hund, 2 år)\n",
      "\n",
      "Matar alla djur i Göteborgs Djurpark med mat:\n",
      "Bella äter mat. Mums!\n",
      "Misse äter mat. Mums!\n",
      "Rocky äter mat. Mums!\n",
      "\n",
      "Alla djur fyller år!\n",
      "Grattis Bella! Du blir 5 år gammal.\n",
      "Grattis Misse! Du blir 4 år gammal.\n",
      "Grattis Rocky! Du blir 3 år gammal.\n",
      "Inget djur med namnet Rocky hittades i Göteborgs Djurpark\n",
      "Inget djur med namnet Rocky hittades i Göteborgs Djurpark\n",
      "Rocky har tagits bort från Göteborgs Djurpark\n",
      "f\n",
      "Djur i Göteborgs Djurpark:\n",
      "- Bella (hund, 5 år)\n",
      "- Misse (katt, 4 år)\n"
     ]
    }
   ],
   "source": [
    "class Djur:\n",
    "    def __init__(self, namn, art, ålder):\n",
    "        self.namn = namn\n",
    "        self.art = art\n",
    "        self.ålder = int(ålder)\n",
    "\n",
    "    def prata(self):\n",
    "        print(f\"Hej jag heter {self.namn} och är en {self.art}.\")\n",
    "\n",
    "    def äta(self, mat):\n",
    "        print(f\"{self.namn} äter {mat}. Mums!\")\n",
    "\n",
    "    def fira_födelsedag(self):\n",
    "        self.ålder += 1\n",
    "        print(f\"Grattis {self.namn}! Du blir {self.ålder} år gammal.\")\n",
    "\n",
    "\n",
    "class Hund(Djur):\n",
    "    def __init__(self, namn, ålder, ras):\n",
    "        super().__init__(namn, \"hund\", ålder)\n",
    "        self.ras = ras\n",
    "\n",
    "    def skäll(self):\n",
    "        print(f\"{self.namn} säger: Voff voff!\")\n",
    "\n",
    "\n",
    "class Katt(Djur):\n",
    "    def __init__(self, namn, ålder, favoritmat):\n",
    "        super().__init__(namn, \"katt\", ålder)\n",
    "        self.favoritmat = favoritmat\n",
    "\n",
    "    def spinna(self):\n",
    "        print(f\"{self.namn} spinner. Mjau!\")\n",
    "\n",
    "class Zoo:\n",
    "    def __init__(self, namn):\n",
    "        self.namn = namn\n",
    "        self.djur_lista = []\n",
    "\n",
    "    def lägg_till_djur(self, djur):\n",
    "        self.djur_lista.append(djur)\n",
    "        print(f\"{djur.namn} har lagts till i {self.namn}\")\n",
    "\n",
    "    def ta_bort_djur(self, djur_namn):\n",
    "        for djur in self.djur_lista:\n",
    "            if djur.namn == djur_namn:\n",
    "                self.djur_lista.remove(djur)\n",
    "                print(f\"{djur_namn} har tagits bort från {self.namn}\")\n",
    "                return\n",
    "            print(f\"Inget djur med namnet {djur_namn} hittades i {self.namn}\")\n",
    "\n",
    "    def visa_djur(self):\n",
    "        if not self.djur_lista:\n",
    "            print(f\"{self.namn} har inga djur just nu.\")\n",
    "        else:\n",
    "            print(f\"f\\nDjur i {self.namn}:\")\n",
    "            for djur in self.djur_lista:\n",
    "                print(f\"- {djur.namn} ({djur.art}, {djur.ålder} år)\")\n",
    "\n",
    "    def mata_alla(self, mat):\n",
    "        print(f\"\\nMatar alla djur i {self.namn} med {mat}:\")\n",
    "        for djur in self.djur_lista:\n",
    "            djur.äta(mat)\n",
    "\n",
    "# Skapa zoo\n",
    "mitt_zoo = Zoo(\"Göteborgs Djurpark\")\n",
    "\n",
    "# Skapa djur\n",
    "bella = Hund(\"Bella\", 4, \"Labrador\")\n",
    "misse = Katt(\"Misse\", 3, \"fisk\")\n",
    "rocky = Hund(\"Rocky\", 2, \"Beagle\")\n",
    "\n",
    "# Lägg till djuren i zoo\n",
    "mitt_zoo.lägg_till_djur(bella)\n",
    "mitt_zoo.lägg_till_djur(misse)\n",
    "mitt_zoo.lägg_till_djur(rocky)\n",
    "\n",
    "# Visa alla djur\n",
    "mitt_zoo.visa_djur()\n",
    "\n",
    "# Mata alla\n",
    "mitt_zoo.mata_alla(\"mat\")\n",
    "\n",
    "# Fira födelsedag för alla djur\n",
    "print(\"\\nAlla djur fyller år!\")\n",
    "for djur in mitt_zoo.djur_lista:\n",
    "    djur.fira_födelsedag()\n",
    "\n",
    "# Ta bort ett djur\n",
    "mitt_zoo.ta_bort_djur(\"Rocky\")\n",
    "\n",
    "# Visa igen\n",
    "mitt_zoo.visa_djur()\n",
    "\n",
    "\n",
    "        \n",
    "\n"
   ]
  },
  {
   "cell_type": "code",
   "execution_count": 12,
   "id": "484db80a",
   "metadata": {},
   "outputs": [
    {
     "name": "stdout",
     "output_type": "stream",
     "text": [
      "Setting value...\n",
      "Getting value...\n",
      "37\n",
      "Getting value...\n",
      "98.60000000000001\n",
      "Setting value...\n",
      "Below -273 is not possible\n"
     ]
    }
   ],
   "source": [
    "class Celcius:\n",
    "    def __init__(self, temperature = 0):\n",
    "        self.temperature = temperature\n",
    "\n",
    "    def to_fahrenheit(self):\n",
    "        return (self.temperature * 1.8) + 32\n",
    "    \n",
    "    @property\n",
    "    def temperature(self):\n",
    "        print(\"Getting value...\")\n",
    "        return self._temperature\n",
    "    \n",
    "    @temperature.setter\n",
    "    def temperature(self, value):\n",
    "        print(\"Setting value...\")\n",
    "        if value < -273.15:\n",
    "            raise ValueError(\"Below -273 is not possible\")\n",
    "        self._temperature = value\n",
    "\n",
    "human = Celcius(37)\n",
    "print(human.temperature)\n",
    "print(human.to_fahrenheit())\n",
    "try:\n",
    "    coldest_thing = Celcius(-300)\n",
    "except ValueError as e:\n",
    "    print(e)\n",
    "\n",
    "\n",
    "    "
   ]
  },
  {
   "cell_type": "code",
   "execution_count": null,
   "id": "7498bcd4",
   "metadata": {},
   "outputs": [],
   "source": []
  }
 ],
 "metadata": {
  "kernelspec": {
   "display_name": "Python 3",
   "language": "python",
   "name": "python3"
  },
  "language_info": {
   "codemirror_mode": {
    "name": "ipython",
    "version": 3
   },
   "file_extension": ".py",
   "mimetype": "text/x-python",
   "name": "python",
   "nbconvert_exporter": "python",
   "pygments_lexer": "ipython3",
   "version": "3.12.10"
  }
 },
 "nbformat": 4,
 "nbformat_minor": 5
}

{
 "cells": [
  {
   "cell_type": "markdown",
   "id": "0a774e33",
   "metadata": {},
   "source": [
    "# 0. Pythagorean theorem (*)\n",
    "a) A right angled triangle has the catheti: a = 3 and b = 4 length units. Compute the hypothenuse of the triangle. (*)\n",
    "\n",
    "b) A right angled triangle has hypothenuse c = 7.0 and a cathetus a = 5.0 length units. Compute the other cathetus and round to one decimal. (*)"
   ]
  },
  {
   "cell_type": "code",
   "execution_count": 14,
   "id": "5db38a48",
   "metadata": {},
   "outputs": [
    {
     "name": "stdout",
     "output_type": "stream",
     "text": [
      "The hypothenuse is: 5.0\n",
      "The cathetus is: 4.9\n"
     ]
    }
   ],
   "source": [
    "# a)\n",
    "import math\n",
    "a = 3\n",
    "b = 4\n",
    "\n",
    "c = math.sqrt(a**2 + b**2)\n",
    "print('The hypothenuse is:' ,c)\n",
    "\n",
    "# b)\n",
    "\n",
    "c = 7.0\n",
    "a = 5.0\n",
    "\n",
    "b = math.sqrt(c**2 - a**2)\n",
    "\n",
    "print(f'The cathetus is: {b:.1f}')\n",
    "\n",
    "\n",
    "\n"
   ]
  },
  {
   "cell_type": "code",
   "execution_count": 7,
   "id": "e3cb61e6",
   "metadata": {},
   "outputs": [],
   "source": [
    "# Initial values for the year and birds variables\n",
    "year = 0\n",
    "birds = 80000\n"
   ]
  },
  {
   "cell_type": "code",
   "execution_count": 16,
   "id": "5440bc59",
   "metadata": {},
   "outputs": [
    {
     "name": "stdout",
     "output_type": "stream",
     "text": [
      "Currently, this is year 0 and the number of birds is 80000\n",
      "At the end of 0, the number of birds decreases to 40000\n",
      "\n",
      "Currently, this is year 1 and the number of birds is 40000\n",
      "At the end of 1, the number of birds decreases to 20000\n",
      "\n",
      "Currently, this is year 2 and the number of birds is 20000\n",
      "At the end of 2, the number of birds decreases to 10000\n",
      "\n",
      "Currently, this is year 3 and the number of birds is 10000\n",
      "At the end of 3, the number of birds decreases to 5000\n",
      "\n"
     ]
    }
   ],
   "source": [
    "year = 0\n",
    "birds = 80000\n",
    "while birds > 8000:  # provide a condition, not the number of looping times with the while statement\n",
    "    print(f\"Currently, this is year {year} and the number of birds is {birds:.0f}\")\n",
    "    birds /= 2 # birds = birds / 2\n",
    "    print(f\"At the end of {year}, the number of birds decreases to {birds:.0f}\")\n",
    "    print()\n",
    "    year +=1\n",
    "    \n"
   ]
  },
  {
   "cell_type": "code",
   "execution_count": 1,
   "id": "685fd1ec",
   "metadata": {},
   "outputs": [
    {
     "name": "stdout",
     "output_type": "stream",
     "text": [
      "0\n",
      "1\n",
      "2\n",
      "3\n",
      "4\n"
     ]
    }
   ],
   "source": [
    "i = 0\n",
    "\n",
    "while True:\n",
    "    print(i)\n",
    "    i += 1\n",
    "\n",
    "    if i >= 5:\n",
    "        break"
   ]
  },
  {
   "cell_type": "code",
   "execution_count": 4,
   "id": "c3d3a14b",
   "metadata": {},
   "outputs": [
    {
     "name": "stdout",
     "output_type": "stream",
     "text": [
      "1\n",
      "3\n",
      "5\n",
      "7\n",
      "9\n"
     ]
    }
   ],
   "source": [
    "for i in range(1, 10, 2):\n",
    "    print(i)"
   ]
  },
  {
   "cell_type": "code",
   "execution_count": 8,
   "id": "a4ddab99",
   "metadata": {},
   "outputs": [
    {
     "name": "stdout",
     "output_type": "stream",
     "text": [
      "1 3 5 7 9 "
     ]
    }
   ],
   "source": [
    "for i in range(1, 10, 2):\n",
    "    print(i, end=\" \")"
   ]
  }
 ],
 "metadata": {
  "kernelspec": {
   "display_name": "practice",
   "language": "python",
   "name": "python3"
  },
  "language_info": {
   "codemirror_mode": {
    "name": "ipython",
    "version": 3
   },
   "file_extension": ".py",
   "mimetype": "text/x-python",
   "name": "python",
   "nbconvert_exporter": "python",
   "pygments_lexer": "ipython3",
   "version": "3.12.10"
  }
 },
 "nbformat": 4,
 "nbformat_minor": 5
}

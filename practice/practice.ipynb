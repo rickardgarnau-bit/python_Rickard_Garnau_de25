{
 "cells": [
  {
   "cell_type": "markdown",
   "id": "0a774e33",
   "metadata": {},
   "source": [
    "# 0. Pythagorean theorem (*)\n",
    "a) A right angled triangle has the catheti: a = 3 and b = 4 length units. Compute the hypothenuse of the triangle. (*)\n",
    "\n",
    "b) A right angled triangle has hypothenuse c = 7.0 and a cathetus a = 5.0 length units. Compute the other cathetus and round to one decimal. (*)"
   ]
  },
  {
   "cell_type": "code",
   "execution_count": 14,
   "id": "5db38a48",
   "metadata": {},
   "outputs": [
    {
     "name": "stdout",
     "output_type": "stream",
     "text": [
      "The hypothenuse is: 5.0\n",
      "The cathetus is: 4.9\n"
     ]
    }
   ],
   "source": [
    "# a)\n",
    "import math\n",
    "a = 3\n",
    "b = 4\n",
    "\n",
    "c = math.sqrt(a**2 + b**2)\n",
    "print('The hypothenuse is:' ,c)\n",
    "\n",
    "# b)\n",
    "\n",
    "c = 7.0\n",
    "a = 5.0\n",
    "\n",
    "b = math.sqrt(c**2 - a**2)\n",
    "\n",
    "print(f'The cathetus is: {b:.1f}')\n",
    "\n",
    "\n",
    "\n"
   ]
  },
  {
   "cell_type": "code",
   "execution_count": 7,
   "id": "e3cb61e6",
   "metadata": {},
   "outputs": [],
   "source": [
    "# Initial values for the year and birds variables\n",
    "year = 0\n",
    "birds = 80000\n"
   ]
  },
  {
   "cell_type": "code",
   "execution_count": 16,
   "id": "5440bc59",
   "metadata": {},
   "outputs": [
    {
     "name": "stdout",
     "output_type": "stream",
     "text": [
      "Currently, this is year 0 and the number of birds is 80000\n",
      "At the end of 0, the number of birds decreases to 40000\n",
      "\n",
      "Currently, this is year 1 and the number of birds is 40000\n",
      "At the end of 1, the number of birds decreases to 20000\n",
      "\n",
      "Currently, this is year 2 and the number of birds is 20000\n",
      "At the end of 2, the number of birds decreases to 10000\n",
      "\n",
      "Currently, this is year 3 and the number of birds is 10000\n",
      "At the end of 3, the number of birds decreases to 5000\n",
      "\n"
     ]
    }
   ],
   "source": [
    "year = 0\n",
    "birds = 80000\n",
    "while birds > 8000:  # provide a condition, not the number of looping times with the while statement\n",
    "    print(f\"Currently, this is year {year} and the number of birds is {birds:.0f}\")\n",
    "    birds /= 2 # birds = birds / 2\n",
    "    print(f\"At the end of {year}, the number of birds decreases to {birds:.0f}\")\n",
    "    print()\n",
    "    year +=1\n",
    "    \n"
   ]
  },
  {
   "cell_type": "code",
   "execution_count": 1,
   "id": "685fd1ec",
   "metadata": {},
   "outputs": [
    {
     "name": "stdout",
     "output_type": "stream",
     "text": [
      "0\n",
      "1\n",
      "2\n",
      "3\n",
      "4\n"
     ]
    }
   ],
   "source": [
    "i = 0\n",
    "\n",
    "while True:\n",
    "    print(i)\n",
    "    i += 1\n",
    "\n",
    "    if i >= 5:\n",
    "        break"
   ]
  },
  {
   "cell_type": "code",
   "execution_count": 4,
   "id": "c3d3a14b",
   "metadata": {},
   "outputs": [
    {
     "name": "stdout",
     "output_type": "stream",
     "text": [
      "1\n",
      "3\n",
      "5\n",
      "7\n",
      "9\n"
     ]
    }
   ],
   "source": [
    "for i in range(1, 10, 2):\n",
    "    print(i)"
   ]
  },
  {
   "cell_type": "code",
   "execution_count": 8,
   "id": "a4ddab99",
   "metadata": {},
   "outputs": [
    {
     "name": "stdout",
     "output_type": "stream",
     "text": [
      "1 3 5 7 9 "
     ]
    }
   ],
   "source": [
    "for i in range(1, 10, 2):\n",
    "    print(i, end=\" \")"
   ]
  },
  {
   "cell_type": "code",
   "execution_count": 5,
   "id": "b3ba5fbf",
   "metadata": {},
   "outputs": [
    {
     "name": "stdout",
     "output_type": "stream",
     "text": [
      "Du heter:  , Fan vad sjukt\n"
     ]
    }
   ],
   "source": [
    "name = input(\"What's your name? \")\n",
    "\n",
    "print(\"Du heter:\", name, \", Fan vad sjukt\")\n"
   ]
  },
  {
   "cell_type": "code",
   "execution_count": null,
   "id": "509ff277",
   "metadata": {},
   "outputs": [
    {
     "name": "stdout",
     "output_type": "stream",
     "text": [
      "Even\n"
     ]
    }
   ],
   "source": [
    "num = int(input(\"Print a number \"))\n",
    "\n",
    "if num % 2 == 0: # tal % 2 → ger resten när tal delas med 2\n",
    "    print(\"Even\")\n",
    "else:\n",
    "    print(\"Odd\")\n"
   ]
  },
  {
   "cell_type": "code",
   "execution_count": 15,
   "id": "64f6ffb7",
   "metadata": {},
   "outputs": [
    {
     "name": "stdout",
     "output_type": "stream",
     "text": [
      "Logged in successfully\n"
     ]
    }
   ],
   "source": [
    "password = input(\"Type your password:\")\n",
    "\n",
    "if password == \"python1\":\n",
    "    print(f\"Logged in successfully\")\n",
    "else:\n",
    "    print(f\"Try again\")"
   ]
  },
  {
   "cell_type": "code",
   "execution_count": 24,
   "id": "530cd2a4",
   "metadata": {},
   "outputs": [
    {
     "name": "stdout",
     "output_type": "stream",
     "text": [
      "342\n",
      "8\n",
      "491\n"
     ]
    }
   ],
   "source": [
    "lst = [11, 54, 8, 342, 76]\n",
    "\n",
    "print(max(lst))\n",
    "print(min(lst))\n",
    "print(sum(lst))"
   ]
  },
  {
   "cell_type": "code",
   "execution_count": 27,
   "id": "d0f1ad29",
   "metadata": {},
   "outputs": [
    {
     "name": "stdout",
     "output_type": "stream",
     "text": [
      "11\n",
      "54\n",
      "8\n",
      "342\n",
      "76\n"
     ]
    }
   ],
   "source": [
    "for i in lst:\n",
    "    print(i)"
   ]
  },
  {
   "cell_type": "code",
   "execution_count": 99,
   "id": "fa5b5f67",
   "metadata": {},
   "outputs": [
    {
     "name": "stdout",
     "output_type": "stream",
     "text": [
      "Bro\n",
      "Oslo\n",
      "Sthlm\n"
     ]
    }
   ],
   "source": [
    "citys = ('Oslo', 'Sthlm', \"Bro\")\n",
    "\n",
    "for city in sorted(citys):\n",
    "    print(city)"
   ]
  },
  {
   "cell_type": "code",
   "execution_count": 29,
   "id": "a193cca8",
   "metadata": {},
   "outputs": [
    {
     "name": "stdout",
     "output_type": "stream",
     "text": [
      "HEJ PÅ DIG\n"
     ]
    }
   ],
   "source": [
    "sentance = input(\"Type a sentance\")\n",
    "print(sentance.upper())\n"
   ]
  },
  {
   "cell_type": "code",
   "execution_count": 53,
   "id": "3ca0aa08",
   "metadata": {},
   "outputs": [
    {
     "name": "stdout",
     "output_type": "stream",
     "text": [
      "10\n"
     ]
    }
   ],
   "source": [
    "tecken = len(sentance)\n",
    "print(tecken)\n",
    "\n",
    "    "
   ]
  },
  {
   "cell_type": "code",
   "execution_count": 55,
   "id": "94602cb3",
   "metadata": {},
   "outputs": [
    {
     "name": "stdout",
     "output_type": "stream",
     "text": [
      "h\n",
      "e\n",
      "j\n"
     ]
    }
   ],
   "source": [
    "for letter in sentance[:3]:\n",
    "    print(letter)"
   ]
  },
  {
   "cell_type": "code",
   "execution_count": 14,
   "id": "dc5b3785",
   "metadata": {},
   "outputs": [
    {
     "name": "stdout",
     "output_type": "stream",
     "text": [
      "Det går inte\n"
     ]
    }
   ],
   "source": [
    "greeting = \"hej\"\n",
    "\n",
    "\n",
    "try: \n",
    "    (int(greeting))\n",
    "except ValueError:\n",
    "    print(\"Det går inte\")"
   ]
  },
  {
   "cell_type": "code",
   "execution_count": 17,
   "id": "231c31d1",
   "metadata": {},
   "outputs": [
    {
     "name": "stdout",
     "output_type": "stream",
     "text": [
      "Rätt! 42\n"
     ]
    }
   ],
   "source": [
    "message = input(\"Skriv något: \")\n",
    "\n",
    "while True:\n",
    "    message = input(\"Skriv ett tal: \")\n",
    "    try:\n",
    "        number = int(message)\n",
    "        print(\"Rätt!\", number)\n",
    "        break\n",
    "    except ValueError:\n",
    "        print(\"Fel, du måste skriva ett tal\")"
   ]
  },
  {
   "cell_type": "code",
   "execution_count": 24,
   "id": "698d6910",
   "metadata": {},
   "outputs": [
    {
     "name": "stdout",
     "output_type": "stream",
     "text": [
      "blue, black, red\n"
     ]
    }
   ],
   "source": [
    "colors = input(\"Choose one favorite color: \")\n",
    "colors1 = input(\"Second favorite color: \")\n",
    "colors2 = input(\"Third favorite color: \")\n",
    "\n",
    "print(f\"{colors}, {colors1}, {colors2}\")"
   ]
  },
  {
   "cell_type": "code",
   "execution_count": 25,
   "id": "9cf34e65",
   "metadata": {},
   "outputs": [
    {
     "name": "stdout",
     "output_type": "stream",
     "text": [
      "Litet tal\n"
     ]
    }
   ],
   "source": [
    "num = int(input(\"Skriv ett tal: \"))\n",
    "\n",
    "if num < 10:\n",
    "    print(\"Litet tal\")\n",
    "else:\n",
    "    print(\"Stort tal\")"
   ]
  },
  {
   "cell_type": "code",
   "execution_count": 44,
   "id": "2ae57b3d",
   "metadata": {},
   "outputs": [
    {
     "name": "stdout",
     "output_type": "stream",
     "text": [
      "7\n",
      "14\n",
      "21\n",
      "28\n",
      "35\n",
      "42\n",
      "49\n",
      "56\n",
      "63\n",
      "70\n"
     ]
    }
   ],
   "source": [
    "numberr = int(input(\"Skriv ett tal: \"))\n",
    "\n",
    "for i in range(1, 11):\n",
    "    print(i * numberr)\n",
    "    \n"
   ]
  },
  {
   "cell_type": "code",
   "execution_count": 46,
   "id": "124a8936",
   "metadata": {},
   "outputs": [
    {
     "name": "stdout",
     "output_type": "stream",
     "text": [
      "Rätt\n"
     ]
    }
   ],
   "source": [
    "secret_animal = input(\"Gissa djuret: \")\n",
    "\n",
    "if secret_animal == \"zebra\":\n",
    "    print(\"Rätt\")\n",
    "else:\n",
    "    print(\"Försök igen\")"
   ]
  },
  {
   "cell_type": "code",
   "execution_count": 47,
   "id": "b1546ab4",
   "metadata": {},
   "outputs": [
    {
     "name": "stdout",
     "output_type": "stream",
     "text": [
      "238\n"
     ]
    }
   ],
   "source": [
    "num1 = int(input(\"Nummer 1\"))\n",
    "num2 = int(input(\"Nummer 2\"))\n",
    "\n",
    "sum = num1 + num2\n",
    "\n",
    "print(sum)\n"
   ]
  },
  {
   "cell_type": "code",
   "execution_count": 77,
   "id": "ae8a5a2d",
   "metadata": {},
   "outputs": [
    {
     "name": "stdout",
     "output_type": "stream",
     "text": [
      "Dag\n",
      "Klara\n",
      "['Dag', 'Hans', 'Bo', 'Klara']\n"
     ]
    }
   ],
   "source": [
    "names = [\"Dag\", \"Hans\", \"Bo\", \"Klara\"]\n",
    "\n",
    "print(names[0])\n",
    "print(names[3])\n",
    "print(names[0:4])"
   ]
  },
  {
   "cell_type": "code",
   "execution_count": 78,
   "id": "9582cd37",
   "metadata": {},
   "outputs": [
    {
     "name": "stdout",
     "output_type": "stream",
     "text": [
      "3\n"
     ]
    }
   ],
   "source": [
    "animals = [\"Cow\", \"Chicken\", \"Rabbit\"]\n",
    "\n",
    "print(len(animals))"
   ]
  },
  {
   "cell_type": "code",
   "execution_count": 89,
   "id": "651c626e",
   "metadata": {},
   "outputs": [
    {
     "name": "stdout",
     "output_type": "stream",
     "text": [
      "1\n",
      "4\n",
      "9\n",
      "16\n",
      "25\n"
     ]
    }
   ],
   "source": [
    "nummer = [1, 2, 3, 4, 5]\n",
    "\n",
    "for i in nummer:\n",
    "    print(i ** 2)\n",
    "\n",
    "    \n"
   ]
  },
  {
   "cell_type": "code",
   "execution_count": 101,
   "id": "54d41426",
   "metadata": {},
   "outputs": [
    {
     "name": "stdout",
     "output_type": "stream",
     "text": [
      "April\n",
      "Februari\n",
      "September\n"
     ]
    }
   ],
   "source": [
    "months = (\"April\", \"Februari\", \"September\")\n",
    "\n",
    "for month in sorted(months):\n",
    "    print(month)"
   ]
  },
  {
   "cell_type": "code",
   "execution_count": 116,
   "id": "d141a6a0",
   "metadata": {},
   "outputs": [
    {
     "data": {
      "text/plain": [
       "['banana', 'apple', 'pear', 'orange']"
      ]
     },
     "execution_count": 116,
     "metadata": {},
     "output_type": "execute_result"
    }
   ],
   "source": [
    "fruits = ['banana', 'apple', 'grape', 'orange']\n",
    "\n",
    "fruits[2] = 'pear'\n",
    "fruits\n",
    "\n"
   ]
  },
  {
   "cell_type": "markdown",
   "id": "761d26ba",
   "metadata": {},
   "source": [
    "# OOP - Object oriented programming"
   ]
  },
  {
   "cell_type": "code",
   "execution_count": 24,
   "id": "51e94ed1",
   "metadata": {},
   "outputs": [
    {
     "name": "stdout",
     "output_type": "stream",
     "text": [
      "Tim\n",
      "Tim\n",
      "Bill\n",
      "Bill\n"
     ]
    }
   ],
   "source": [
    "class Dog:\n",
    "    def __init__(self, name):\n",
    "        self.name = name\n",
    "        print(name)\n",
    "    def add_one(self, x):\n",
    "        return x + 1\n",
    "    def bark(self):\n",
    "        print(\"bark\")\n",
    "\n",
    "d = Dog(\"Tim\")\n",
    "print(d.name)\n",
    "d2 = Dog(\"Bill\")\n",
    "print(d2.name)"
   ]
  },
  {
   "cell_type": "code",
   "execution_count": null,
   "id": "4a131961",
   "metadata": {},
   "outputs": [
    {
     "name": "stdout",
     "output_type": "stream",
     "text": [
      "<class '__main__.Dog'>\n"
     ]
    }
   ],
   "source": []
  },
  {
   "cell_type": "code",
   "execution_count": null,
   "id": "4acc7ea6",
   "metadata": {},
   "outputs": [],
   "source": []
  }
 ],
 "metadata": {
  "kernelspec": {
   "display_name": "practice",
   "language": "python",
   "name": "python3"
  },
  "language_info": {
   "codemirror_mode": {
    "name": "ipython",
    "version": 3
   },
   "file_extension": ".py",
   "mimetype": "text/x-python",
   "name": "python",
   "nbconvert_exporter": "python",
   "pygments_lexer": "ipython3",
   "version": "3.12.10"
  }
 },
 "nbformat": 4,
 "nbformat_minor": 5
}

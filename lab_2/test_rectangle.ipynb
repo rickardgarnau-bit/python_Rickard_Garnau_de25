{
 "cells": [
  {
   "cell_type": "code",
   "execution_count": 1,
   "id": "a1d10d45",
   "metadata": {},
   "outputs": [
    {
     "name": "stdout",
     "output_type": "stream",
     "text": [
      "Width: 4\n",
      "Height: 6\n",
      "Area: 24\n",
      "Perimeter: 20\n",
      "Is it a square? False\n",
      "Is r2 a square? True\n"
     ]
    }
   ],
   "source": [
    "from rectangle import Rectangle\n",
    "from pytest import raises\n",
    "\n",
    "\n",
    "\n",
    "def test_valid_init():\n",
    "    rectangle = Rectangle(width=5, height=2)\n",
    "    assert rectangle.width == 5 and rectangle.height == 2\n",
    "\n",
    "\n",
    "def test_negative_base_fails():\n",
    "    with raises(ValueError):\n",
    "        Rectangle(width=-1, height=2)\n",
    "\n",
    "\n",
    "def test_negative_height_fails():\n",
    "    with raises(ValueError):\n",
    "        Rectangle(width=1, height=-2)\n",
    "\n",
    "\n",
    "def test_invalid_type_str_init_fails():\n",
    "    with raises(ValueError):\n",
    "        Rectangle(width=\"1\", height=1)\n",
    "\n",
    "\n",
    "def test_invalid_type_bool_init_fails():\n",
    "    with raises(ValueError):\n",
    "        Rectangle(width=1, height=True)\n",
    "\n",
    "\n",
    "def test_zero_base_fail():\n",
    "    with raises(ValueError):\n",
    "        Rectangle(witdh=0, height=1)\n"
   ]
  }
 ],
 "metadata": {
  "kernelspec": {
   "display_name": "Python 3",
   "language": "python",
   "name": "python3"
  },
  "language_info": {
   "codemirror_mode": {
    "name": "ipython",
    "version": 3
   },
   "file_extension": ".py",
   "mimetype": "text/x-python",
   "name": "python",
   "nbconvert_exporter": "python",
   "pygments_lexer": "ipython3",
   "version": "3.12.10"
  }
 },
 "nbformat": 4,
 "nbformat_minor": 5
}

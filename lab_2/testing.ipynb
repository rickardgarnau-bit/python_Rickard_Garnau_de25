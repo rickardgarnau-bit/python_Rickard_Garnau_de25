{
 "cells": [
  {
   "cell_type": "code",
   "execution_count": null,
   "id": "e6bf7e01",
   "metadata": {},
   "outputs": [
    {
     "name": "stdout",
     "output_type": "stream",
     "text": [
      "The area of the rectangle is: 24^2\n",
      "The perimeter of the rectangle is: 20^2\n"
     ]
    }
   ],
   "source": [
    "from shape import Shape\n",
    "import matplotlib.pyplot as plt\n",
    "\n",
    "class Rectangle(Shape):\n",
    "    def __init__(self, x: float = 0, y: float = 0, width: float = 1, height: float = 1):\n",
    "        super().__init__(x, y)\n",
    "        self.width = width\n",
    "        self.height = height\n",
    "\n",
    "    def area(self):\n",
    "        return self.width * self.height\n",
    "    \n",
    "    def perimeter(self):\n",
    "        return 2 * (self.width + self.height)\n",
    "\n",
    "    def draw(self):\n",
    "        rectangle = plt.Rectangle((0, 0), self.width, self.height)\n",
    "\n",
    "rectangle = Rectangle(width=4, height=6)\n",
    "area = rectangle.area()\n",
    "print(f\"The area of the rectangle is: {rectangle.area()}\")\n",
    "perimeter = rectangle.perimeter()\n",
    "print(f\"The perimeter of the rectangle is: {rectangle.perimeter()}\")\n"
   ]
  },
  {
   "cell_type": "code",
   "execution_count": null,
   "id": "01ede6dd",
   "metadata": {},
   "outputs": [],
   "source": []
  }
 ],
 "metadata": {
  "kernelspec": {
   "display_name": "Python 3",
   "language": "python",
   "name": "python3"
  },
  "language_info": {
   "codemirror_mode": {
    "name": "ipython",
    "version": 3
   },
   "file_extension": ".py",
   "mimetype": "text/x-python",
   "name": "python",
   "nbconvert_exporter": "python",
   "pygments_lexer": "ipython3",
   "version": "3.12.10"
  }
 },
 "nbformat": 4,
 "nbformat_minor": 5
}

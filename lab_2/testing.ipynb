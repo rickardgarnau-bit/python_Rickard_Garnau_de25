{
 "cells": [
  {
   "cell_type": "code",
   "execution_count": 26,
   "id": "e6bf7e01",
   "metadata": {},
   "outputs": [
    {
     "name": "stdout",
     "output_type": "stream",
     "text": [
      "The area of the rectangle is: 24, the perimeter is: 20\n",
      "Rectangle(area=24, perimeter=20)\n"
     ]
    }
   ],
   "source": [
    "from shape import Shape\n",
    "import matplotlib.pyplot as plt\n",
    "\n",
    "class Rectangle(Shape):\n",
    "    def __init__(self, x: float = 0, y: float = 0, width: float = 1, height: float = 1):\n",
    "        super().__init__(x, y)\n",
    "        self.width = width\n",
    "        self.height = height\n",
    "\n",
    "    def area(self):\n",
    "        return self.width * self.height\n",
    "    \n",
    "    def perimeter(self):\n",
    "        return 2 * (self.width + self.height)\n",
    "    \n",
    "    def __repr__(self):\n",
    "        return f\"Rectangle(area={self.area()}, perimeter={self.perimeter()})\"\n",
    "    \n",
    "    def __str__(self):\n",
    "        return f\"The area of the rectangle is: {self.area()}, the perimeter is: {self.perimeter()}\"\n",
    "\n",
    "    def draw(self):\n",
    "        fig, ax = plt.subplots()\n",
    "        rect = plt.Rectangle((self.x, self.y), self.width, self.height, fill=False, edgecolor='blue')\n",
    "        ax.add_patch(rect)\n",
    "        ax.set_xlim(0, self.width + 1)\n",
    "        ax.set_ylim(0, self.height + 1)\n",
    "        ax.set_aspect('equal', adjustable='box')\n",
    "        plt.show()\n",
    "\n",
    "rectangle = Rectangle(width=4, height=6)\n",
    "print(rectangle)\n",
    "print(repr(rectangle))\n"
   ]
  },
  {
   "cell_type": "code",
   "execution_count": null,
   "id": "01ede6dd",
   "metadata": {},
   "outputs": [
    {
     "ename": "TypeError",
     "evalue": "Circle.__init__() got an unexpected keyword argument 'perimeter'",
     "output_type": "error",
     "traceback": [
      "\u001b[31m---------------------------------------------------------------------------\u001b[39m",
      "\u001b[31mTypeError\u001b[39m                                 Traceback (most recent call last)",
      "\u001b[36mCell\u001b[39m\u001b[36m \u001b[39m\u001b[32mIn[4]\u001b[39m\u001b[32m, line 23\u001b[39m\n\u001b[32m     19\u001b[39m     \u001b[38;5;28;01mdef\u001b[39;00m\u001b[38;5;250m \u001b[39m\u001b[34mperimeter\u001b[39m(\u001b[38;5;28mself\u001b[39m):\n\u001b[32m     20\u001b[39m         \u001b[38;5;28;01mreturn\u001b[39;00m \u001b[32m2\u001b[39m * \u001b[32m3.14\u001b[39m * \u001b[38;5;28mself\u001b[39m.radius\n\u001b[32m---> \u001b[39m\u001b[32m23\u001b[39m circle = \u001b[43mCircle\u001b[49m\u001b[43m(\u001b[49m\u001b[43mradius\u001b[49m\u001b[43m=\u001b[49m\u001b[32;43m7\u001b[39;49m\u001b[43m,\u001b[49m\u001b[43m \u001b[49m\u001b[43mperimeter\u001b[49m\u001b[43m=\u001b[49m\u001b[32;43m14\u001b[39;49m\u001b[43m)\u001b[49m\n\u001b[32m     24\u001b[39m area = circle.area()\n\u001b[32m     25\u001b[39m \u001b[38;5;28mprint\u001b[39m(\u001b[33mf\u001b[39m\u001b[33m'\u001b[39m\u001b[33mThe circle area is \u001b[39m\u001b[38;5;132;01m{\u001b[39;00marea\u001b[38;5;132;01m:\u001b[39;00m\u001b[33m.2f\u001b[39m\u001b[38;5;132;01m}\u001b[39;00m\u001b[33m unit²\u001b[39m\u001b[33m'\u001b[39m)\n",
      "\u001b[31mTypeError\u001b[39m: Circle.__init__() got an unexpected keyword argument 'perimeter'"
     ]
    }
   ],
   "source": [
    "from shape import Shape\n",
    "class Circle(Shape):\n",
    "\n",
    "    def __init__(self, radius):\n",
    "        super().__init__(x,y)\n",
    "        self.radius = radius\n",
    "\n",
    "    @property\n",
    "    def radius(self):\n",
    "        pass\n",
    "\n",
    "    @radius.setter\n",
    "    def radius(self):\n",
    "        pass\n",
    "\n",
    "    def area(self):\n",
    "        return 3.14 * self.radius**2\n",
    "\n",
    "    def perimeter(self):\n",
    "        return 2 * 3.14 * self.radius\n",
    "\n",
    "\n",
    "circle = Circle(radius=7)"
   ]
  },
  {
   "cell_type": "code",
   "execution_count": 1,
   "id": "807557fd",
   "metadata": {},
   "outputs": [
    {
     "ename": "TypeError",
     "evalue": "Circle.__init__() got an unexpected keyword argument 'x'",
     "output_type": "error",
     "traceback": [
      "\u001b[31m---------------------------------------------------------------------------\u001b[39m",
      "\u001b[31mTypeError\u001b[39m                                 Traceback (most recent call last)",
      "\u001b[36mCell\u001b[39m\u001b[36m \u001b[39m\u001b[32mIn[1]\u001b[39m\u001b[32m, line 3\u001b[39m\n\u001b[32m      1\u001b[39m \u001b[38;5;28;01mfrom\u001b[39;00m\u001b[38;5;250m \u001b[39m\u001b[34;01mcircle\u001b[39;00m\u001b[38;5;250m \u001b[39m\u001b[38;5;28;01mimport\u001b[39;00m Circle\n\u001b[32m      2\u001b[39m \u001b[38;5;28;01mfrom\u001b[39;00m\u001b[38;5;250m \u001b[39m\u001b[34;01mrectangle\u001b[39;00m\u001b[38;5;250m \u001b[39m\u001b[38;5;28;01mimport\u001b[39;00m Rectangle\n\u001b[32m----> \u001b[39m\u001b[32m3\u001b[39m circle1 = \u001b[43mCircle\u001b[49m\u001b[43m(\u001b[49m\u001b[43mx\u001b[49m\u001b[43m=\u001b[49m\u001b[32;43m0\u001b[39;49m\u001b[43m,\u001b[49m\u001b[43m \u001b[49m\u001b[43my\u001b[49m\u001b[43m=\u001b[49m\u001b[32;43m0\u001b[39;49m\u001b[43m,\u001b[49m\u001b[43m \u001b[49m\u001b[43mradius\u001b[49m\u001b[43m=\u001b[49m\u001b[32;43m1\u001b[39;49m\u001b[43m)\u001b[49m \u001b[38;5;66;03m# unit circle\u001b[39;00m\n\u001b[32m      4\u001b[39m circle2 = Circle(x=\u001b[32m1\u001b[39m, y=\u001b[32m1\u001b[39m, radius=\u001b[32m1\u001b[39m)\n\u001b[32m      5\u001b[39m rectangle = Rectangle(x=\u001b[32m0\u001b[39m, y=\u001b[32m0\u001b[39m, width=\u001b[32m1\u001b[39m, height=\u001b[32m1\u001b[39m)\n",
      "\u001b[31mTypeError\u001b[39m: Circle.__init__() got an unexpected keyword argument 'x'"
     ]
    }
   ],
   "source": [
    "from circle import Circle\n",
    "from rectangle import Rectangle\n",
    "circle1 = Circle(x=0, y=0, radius=1) # unit circle\n",
    "circle2 = Circle(x=1, y=1, radius=1)\n",
    "rectangle = Rectangle(x=0, y=0, width=1, height=1)\n",
    "print(circle1 == circle2) # True\n",
    "print(circle2 == rectangle) # False\n",
    "circle1.translate(5, 3) # moves its center 5 points in x and 3 points in y\n",
    "circle1.translate(\"THREE\", 5) # raise TypeError with an appropriate\n",
    "message\n",
    "circle3 = Circle(radius=3) # a circle with center 0,0 with radius 3\n",
    "circle3 >= circle1 # True\n",
    "rectangle2 = Rectangle(width=3, height=\"5\") # raise TypeError\n"
   ]
  },
  {
   "cell_type": "code",
   "execution_count": null,
   "id": "fed288a3",
   "metadata": {},
   "outputs": [],
   "source": []
  }
 ],
 "metadata": {
  "kernelspec": {
   "display_name": "Python 3",
   "language": "python",
   "name": "python3"
  },
  "language_info": {
   "codemirror_mode": {
    "name": "ipython",
    "version": 3
   },
   "file_extension": ".py",
   "mimetype": "text/x-python",
   "name": "python",
   "nbconvert_exporter": "python",
   "pygments_lexer": "ipython3",
   "version": "3.12.10"
  }
 },
 "nbformat": 4,
 "nbformat_minor": 5
}

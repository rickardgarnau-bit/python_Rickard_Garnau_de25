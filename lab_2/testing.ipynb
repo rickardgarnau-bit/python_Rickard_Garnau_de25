{
 "cells": [
  {
   "cell_type": "code",
   "execution_count": null,
   "id": "e6bf7e01",
   "metadata": {},
   "outputs": [
    {
     "name": "stdout",
     "output_type": "stream",
     "text": [
      "The area of the rectangle is: 24, the perimeter is: 20\n",
      "Rectangle(area=24, perimeter=20)\n"
     ]
    }
   ],
   "source": [
    "from shape import Shape\n",
    "import matplotlib.pyplot as plt\n",
    "\n",
    "class Rectangle(Shape):\n",
    "    def __init__(self, x: float = 0, y: float = 0, width: float = 1, height: float = 1):\n",
    "        super().__init__(x, y)\n",
    "        self.width = width\n",
    "        self.height = height\n",
    "\n",
    "    def area(self):\n",
    "        return self.width * self.height\n",
    "    \n",
    "    def perimeter(self):\n",
    "        return 2 * (self.width + self.height)\n",
    "    \n",
    "    def __repr__(self):\n",
    "        return f\"Rectangle(area={self.area()}, perimeter={self.perimeter()})\"\n",
    "    \n",
    "    def __str__(self):\n",
    "        return f\"The area of the rectangle is: {self.area()}, the perimeter is: {self.perimeter()}\"\n",
    "\n",
    "\n",
    "rectangle = Rectangle(width=4, height=6)\n",
    "print(rectangle)\n",
    "print(repr(rectangle))\n"
   ]
  },
  {
   "cell_type": "code",
   "execution_count": null,
   "id": "01ede6dd",
   "metadata": {},
   "outputs": [],
   "source": [
    "from shape import Shape\n",
    "class Circle(Shape):\n",
    "\n",
    "    def __init__(self, radius):\n",
    "        super().__init__(x,y)\n",
    "        self.radius = radius\n",
    "\n",
    "    @property\n",
    "    def radius(self):\n",
    "        pass\n",
    "\n",
    "    @radius.setter\n",
    "    def radius(self):\n",
    "        pass\n",
    "\n",
    "    def area(self):\n",
    "        return 3.14 * self.radius**2\n",
    "\n",
    "    def perimeter(self):\n",
    "        return 2 * 3.14 * self.radius\n",
    "\n",
    "\n",
    "circle = Circle(radius=7)"
   ]
  },
  {
   "cell_type": "code",
   "execution_count": 6,
   "id": "f74cb77c",
   "metadata": {},
   "outputs": [
    {
     "name": "stdout",
     "output_type": "stream",
     "text": [
      "True\n",
      "False\n"
     ]
    }
   ],
   "source": [
    "class Rectangle():\n",
    "    def __init__(self, x: float = 0, y: float = 0, width: float = 1, height: float = 1):\n",
    "        self.width = width\n",
    "        self.height = height\n",
    "        self.x = x\n",
    "        self.y = y\n",
    "\n",
    "    \n",
    "    def __lt__(self, other):\n",
    "        if self.x == other.x:\n",
    "            return self.y < other.y\n",
    "        return self.x < other.x\n",
    "        \n",
    "\n",
    "r1 = Rectangle(10, 20)\n",
    "r2 = Rectangle(25, 15)\n",
    "\n",
    "print(r1 < r2)\n",
    "print(r2 < r1)"
   ]
  }
 ],
 "metadata": {
  "kernelspec": {
   "display_name": "Python 3",
   "language": "python",
   "name": "python3"
  },
  "language_info": {
   "codemirror_mode": {
    "name": "ipython",
    "version": 3
   },
   "file_extension": ".py",
   "mimetype": "text/x-python",
   "name": "python",
   "nbconvert_exporter": "python",
   "pygments_lexer": "ipython3",
   "version": "3.12.10"
  }
 },
 "nbformat": 4,
 "nbformat_minor": 5
}

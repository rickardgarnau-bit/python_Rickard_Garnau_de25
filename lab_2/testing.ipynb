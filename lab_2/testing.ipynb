{
 "cells": [
  {
   "cell_type": "code",
   "execution_count": null,
   "id": "e6bf7e01",
   "metadata": {},
   "outputs": [
    {
     "name": "stdout",
     "output_type": "stream",
     "text": [
      "The area of the rectangle is: 24, the perimeter is: 20\n",
      "Rectangle(area=24, perimeter=20)\n"
     ]
    }
   ],
   "source": [
    "from shape import Shape\n",
    "import matplotlib.pyplot as plt\n",
    "\n",
    "class Rectangle(Shape):\n",
    "    def __init__(self, x: float = 0, y: float = 0, width: float = 1, height: float = 1):\n",
    "        super().__init__(x, y)\n",
    "        self.width = width\n",
    "        self.height = height\n",
    "\n",
    "    def area(self):\n",
    "        return self.width * self.height\n",
    "    \n",
    "    def perimeter(self):\n",
    "        return 2 * (self.width + self.height)\n",
    "    \n",
    "    def __repr__(self):\n",
    "        return f\"Rectangle(area={self.area()}, perimeter={self.perimeter()})\"\n",
    "    \n",
    "    def __str__(self):\n",
    "        return f\"The area of the rectangle is: {self.area()}, the perimeter is: {self.perimeter()}\"\n",
    "\n",
    "\n",
    "rectangle = Rectangle(width=4, height=6)\n",
    "print(rectangle)\n",
    "print(repr(rectangle))\n"
   ]
  },
  {
   "cell_type": "code",
   "execution_count": 2,
   "id": "f74cb77c",
   "metadata": {},
   "outputs": [
    {
     "name": "stdout",
     "output_type": "stream",
     "text": [
      "True\n",
      "False\n"
     ]
    }
   ],
   "source": [
    "class Rectangle():\n",
    "    def __init__(self, x: float = 0, y: float = 0, width: float = 1, height: float = 1):\n",
    "        self.width = width\n",
    "        self.height = height\n",
    "        self.x = x\n",
    "        self.y = y\n",
    "\n",
    "    \n",
    "    def __lt__(self, other):\n",
    "        if self.x == other.x:\n",
    "            return self.y < other.y\n",
    "        return self.x < other.x\n",
    "        \n",
    "\n",
    "r1 = Rectangle(10, 20)\n",
    "r2 = Rectangle(25, 15)\n",
    "\n",
    "print(r1 < r2)\n",
    "print(r2 < r1)"
   ]
  },
  {
   "cell_type": "code",
   "execution_count": 1,
   "id": "7dd28d76",
   "metadata": {},
   "outputs": [],
   "source": [
    "# shape.py\n",
    "from abc import ABC, abstractmethod\n",
    "\n",
    "class Shape(ABC):\n",
    "    def __init__(self, x=0, y=0):\n",
    "        self.x = x\n",
    "        self.y = y\n",
    "\n",
    "    @abstractmethod\n",
    "    def area(self):\n",
    "        pass\n",
    "\n",
    "    @abstractmethod\n",
    "    def perimeter(self):\n",
    "        pass\n",
    "\n",
    "    def translate(self, dx, dy):\n",
    "        self.x += dx\n",
    "        self.y += dy\n",
    "\n",
    "    def __str__(self):\n",
    "        return f\"Shape at ({self.x}, {self.y})\""
   ]
  },
  {
   "cell_type": "code",
   "execution_count": 3,
   "id": "2d12290b",
   "metadata": {},
   "outputs": [],
   "source": [
    "# rectangle.py\n",
    "from shape import Shape\n",
    "\n",
    "class Rectangle(Shape):\n",
    "    def __init__(self, x=0, y=0, width=1, height=1):\n",
    "        super().__init__(x, y)\n",
    "        self.width = width    # Ingen kontroll!\n",
    "        self.height = height\n",
    "\n",
    "    def area(self):\n",
    "        return self.width * self.height\n",
    "\n",
    "    def perimeter(self):\n",
    "        return 2 * (self.width + self.height)\n",
    "\n",
    "    def is_square(self):\n",
    "        return self.width == self.height\n",
    "\n",
    "    def __str__(self):\n",
    "        return f\"Rectangle: {self.width}x{self.height} at ({self.x}, {self.y})\"\n",
    "\n",
    "    def __repr__(self):\n",
    "        return f\"Rectangle({self.x}, {self.y}, {self.width}, {self.height})\""
   ]
  },
  {
   "cell_type": "code",
   "execution_count": 4,
   "id": "7a5346a4",
   "metadata": {},
   "outputs": [],
   "source": [
    "# circle.py\n",
    "from shape import Shape\n",
    "from math import pi\n",
    "\n",
    "class Circle(Shape):\n",
    "    def __init__(self, x=0, y=0, radius=1):\n",
    "        super().__init__(x, y)\n",
    "        self.radius = radius\n",
    "\n",
    "    def area(self):\n",
    "        return pi * self.radius ** 2\n",
    "\n",
    "    def perimeter(self):\n",
    "        return 2 * pi * self.radius\n",
    "\n",
    "    def is_unit_circle(self):\n",
    "        return self.radius == 1\n",
    "\n",
    "    def __str__(self):\n",
    "        return f\"Circle r={self.radius} at ({self.x}, {self.y})\""
   ]
  },
  {
   "cell_type": "code",
   "execution_count": 5,
   "id": "e7be0ed1",
   "metadata": {},
   "outputs": [
    {
     "name": "stdout",
     "output_type": "stream",
     "text": [
      "Width: 4\n",
      "Height: 6\n",
      "Area: 24\n",
      "Perimeter: 20\n",
      "Is it a square? False\n",
      "Is r2 a square? True\n"
     ]
    },
    {
     "ename": "IndentationError",
     "evalue": "expected an indented block after function definition on line 25 (circle.py, line 25)",
     "output_type": "error",
     "traceback": [
      "Traceback \u001b[36m(most recent call last)\u001b[39m:\n",
      "  File \u001b[92mc:\\Users\\ricka\\AppData\\Local\\Programs\\Python\\Python312\\Lib\\site-packages\\IPython\\core\\interactiveshell.py:3699\u001b[39m in \u001b[95mrun_code\u001b[39m\n    exec(code_obj, self.user_global_ns, self.user_ns)\n",
      "\u001b[36m  \u001b[39m\u001b[36mCell\u001b[39m\u001b[36m \u001b[39m\u001b[32mIn[5]\u001b[39m\u001b[32m, line 2\u001b[39m\n\u001b[31m    \u001b[39m\u001b[31mfrom circle import Circle\u001b[39m\n",
      "  \u001b[36mFile \u001b[39m\u001b[32mc:\\Users\\ricka\\Documents\\Course\\python_Rickard_Garnau_de25\\lab_2\\circle.py:25\u001b[39m\n\u001b[31m    \u001b[39m\u001b[31mdef move(self, dx, dy):\u001b[39m\n                           ^\n\u001b[31mIndentationError\u001b[39m\u001b[31m:\u001b[39m expected an indented block after function definition on line 25\n"
     ]
    }
   ],
   "source": [
    "from rectangle import Rectangle\n",
    "from circle import Circle\n",
    "\n",
    "r = Rectangle(0, 0, 4, 6)\n",
    "c = Circle(0, 0, 1)\n",
    "\n",
    "print(r)\n",
    "print(c.area())\n",
    "print(r == c)\n",
    "r.width = -5\n",
    "c.radius = \"hello\""
   ]
  },
  {
   "cell_type": "code",
   "execution_count": null,
   "id": "ae2b321f",
   "metadata": {},
   "outputs": [],
   "source": []
  }
 ],
 "metadata": {
  "kernelspec": {
   "display_name": "Python 3",
   "language": "python",
   "name": "python3"
  },
  "language_info": {
   "codemirror_mode": {
    "name": "ipython",
    "version": 3
   },
   "file_extension": ".py",
   "mimetype": "text/x-python",
   "name": "python",
   "nbconvert_exporter": "python",
   "pygments_lexer": "ipython3",
   "version": "3.12.10"
  }
 },
 "nbformat": 4,
 "nbformat_minor": 5
}

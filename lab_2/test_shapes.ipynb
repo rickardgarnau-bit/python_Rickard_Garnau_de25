{
 "cells": [
  {
   "cell_type": "code",
   "execution_count": 14,
   "id": "a9b037c3",
   "metadata": {},
   "outputs": [
    {
     "name": "stdout",
     "output_type": "stream",
     "text": [
      "Center circle (5, 10) and radius 3.0. Area: 28.27, Perimeter: 18.85\n",
      "Circle(x=5, y=10, radius=3.0)\n",
      "Radie: 3.0\n",
      "Area: 28.2743\n",
      "Omkrets: 18.8496\n"
     ]
    }
   ],
   "source": [
    "from circle import Circle\n",
    "\n",
    "c1 = Circle(x=5, y=10, radius=3)\n",
    "print(c1)\n",
    "\n",
    "print(repr(c1))\n",
    "\n",
    "print(f\"Radie: {c1.radius}\")\n",
    "print(f\"Area: {c1.area:.4f}\")\n",
    "print(f\"Omkrets: {c1.perimeter:.4f}\")"
   ]
  },
  {
   "cell_type": "code",
   "execution_count": 15,
   "id": "2c204983",
   "metadata": {},
   "outputs": [
    {
     "name": "stdout",
     "output_type": "stream",
     "text": [
      "Originalradie: 1.0\n",
      "Ny radie: 5.0\n",
      "Ny X-position: 20\n",
      "Expected error: The radius cannot be negative\n",
      "Expected error The radius has to be of type(int, float)\n",
      "Expected error 'x' must be a number, (int or float)\n"
     ]
    }
   ],
   "source": [
    "c_test = Circle()\n",
    "print(f\"Originalradie: {c_test.radius}\")\n",
    "\n",
    "c_test.radius = 5\n",
    "print(f\"Ny radie: {c_test.radius}\")\n",
    "\n",
    "\n",
    "c_test.x = 20\n",
    "print(f\"Ny X-position: {c_test.x}\")\n",
    "\n",
    "\n",
    "try:\n",
    "    c_test.radius = -2\n",
    "except ValueError as e:\n",
    "    print(f\"Expected error: {e}\")\n",
    "\n",
    "\n",
    "try:\n",
    "    c_test.radius = \"hej\"\n",
    "except TypeError as e:\n",
    "    print(f\"Expected error {e}\")\n",
    "\n",
    "try:\n",
    "    c_test.x = \"mitten\"\n",
    "except TypeError as e:\n",
    "    print(f\"Expected error {e}\")"
   ]
  },
  {
   "cell_type": "code",
   "execution_count": 16,
   "id": "75a1515b",
   "metadata": {},
   "outputs": [
    {
     "name": "stdout",
     "output_type": "stream",
     "text": [
      "Startposition: (0, 0)\n",
      "Slutposition: (10, -5.5)\n",
      "Expected error Translate values must be numbers (int or float)\n"
     ]
    }
   ],
   "source": [
    "c_move = Circle(x=0, y=0, radius=2)\n",
    "print(f\"Startposition: ({c_move.x}, {c_move.y})\")\n",
    "\n",
    "c_move.translate(10, -5.5)\n",
    "print(f\"Slutposition: ({c_move.x}, {c_move.y})\")\n",
    "\n",
    "try:\n",
    "    c_move.translate(\"fem\", \"tio\")\n",
    "except TypeError as e:\n",
    "    print(f\"Expected error {e}\")"
   ]
  },
  {
   "cell_type": "code",
   "execution_count": 17,
   "id": "3b053f91",
   "metadata": {},
   "outputs": [
    {
     "name": "stdout",
     "output_type": "stream",
     "text": [
      "Är c_unit_true en enhetscirkel? True\n",
      "Är c_unit_false_pos en enhetscirkel? False\n",
      "Är c_unit_false_rad en enhetscirkel? False\n",
      "Är c_unit_close en enhetscirkel? False\n"
     ]
    }
   ],
   "source": [
    "c_unit_true = Circle(x=0, y=0, radius=1)\n",
    "print(f\"Är c_unit_true en enhetscirkel? {c_unit_true.is_unit_circle()}\")\n",
    "\n",
    "c_unit_false_pos = Circle(x=10, y=0, radius=1)\n",
    "print(f\"Är c_unit_false_pos en enhetscirkel? {c_unit_false_pos.is_unit_circle()}\")\n",
    "\n",
    "c_unit_false_rad = Circle(x=0, y=0, radius=2)\n",
    "print(f\"Är c_unit_false_rad en enhetscirkel? {c_unit_false_rad.is_unit_circle()}\")\n",
    "\n",
    "c_unit_close = Circle(x=1e-10, y=0, radius=0.9999999999)\n",
    "print(f\"Är c_unit_close en enhetscirkel? {c_unit_close.is_unit_circle()}\")\n"
   ]
  },
  {
   "cell_type": "code",
   "execution_count": 18,
   "id": "e9a4c1e9",
   "metadata": {},
   "outputs": [
    {
     "name": "stdout",
     "output_type": "stream",
     "text": [
      "Area c_small: 12.57, Area c_large: 314.16\n",
      "c_small < c_large:  True\n",
      "c_small > c_large:  False\n",
      "c_small == c_large: False\n",
      "c_small == c_small_copy: True\n",
      "c_small != c_large: True\n"
     ]
    }
   ],
   "source": [
    "c_small = Circle(radius=2)\n",
    "c_large = Circle(radius=10)\n",
    "c_small_copy = Circle(radius=2)\n",
    "\n",
    "print(f\"Area c_small: {c_small.area:.2f}, Area c_large: {c_large.area:.2f}\")\n",
    "\n",
    "print(f\"c_small < c_large:  {c_small < c_large}\")\n",
    "print(f\"c_small > c_large:  {c_small > c_large}\")\n",
    "print(f\"c_small == c_large: {c_small == c_large}\")\n",
    "print(f\"c_small == c_small_copy: {c_small == c_small_copy}\")\n",
    "print(f\"c_small != c_large: {c_small != c_large}\")"
   ]
  },
  {
   "cell_type": "code",
   "execution_count": 19,
   "id": "36a58670",
   "metadata": {},
   "outputs": [
    {
     "name": "stdout",
     "output_type": "stream",
     "text": [
      "Succesful test Fångat fel: Can't instantiate abstract class Shape without an implementation for abstract methods 'area', 'perimeter'\n"
     ]
    }
   ],
   "source": [
    "from shape import Shape\n",
    "try:\n",
    "    s = Shape()\n",
    "    print(f\"Failed test: Lyckades skapa Shape: {s}\")\n",
    "except TypeError as e:\n",
    "    print(f\"Succesful test Fångat fel: {e}\")"
   ]
  }
 ],
 "metadata": {
  "kernelspec": {
   "display_name": "Python 3",
   "language": "python",
   "name": "python3"
  },
  "language_info": {
   "codemirror_mode": {
    "name": "ipython",
    "version": 3
   },
   "file_extension": ".py",
   "mimetype": "text/x-python",
   "name": "python",
   "nbconvert_exporter": "python",
   "pygments_lexer": "ipython3",
   "version": "3.12.10"
  }
 },
 "nbformat": 4,
 "nbformat_minor": 5
}

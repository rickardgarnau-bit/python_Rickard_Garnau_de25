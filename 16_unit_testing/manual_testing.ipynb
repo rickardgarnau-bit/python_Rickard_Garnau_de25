{
 "cells": [
  {
   "cell_type": "markdown",
   "id": "9f42270b",
   "metadata": {},
   "source": [
    "# Manual testing of Vector class"
   ]
  },
  {
   "cell_type": "code",
   "execution_count": 7,
   "id": "8361ca6b",
   "metadata": {},
   "outputs": [
    {
     "data": {
      "text/plain": [
       "(Vector(2.0, 5.0), Vector(-1.0, 1.0))"
      ]
     },
     "execution_count": 7,
     "metadata": {},
     "output_type": "execute_result"
    }
   ],
   "source": [
    "from vector import Vector\n",
    "\n",
    "# vector with 2 and 5 \n",
    "v1 = Vector (2,5)\n",
    "v2 = Vector (-1,1)\n",
    "v1, v2"
   ]
  },
  {
   "cell_type": "markdown",
   "id": "ecfd5981",
   "metadata": {},
   "source": [
    "### a few tests that we expect will work"
   ]
  },
  {
   "cell_type": "code",
   "execution_count": 8,
   "id": "67e72317",
   "metadata": {},
   "outputs": [
    {
     "name": "stdout",
     "output_type": "stream",
     "text": [
      "len(v1)=2\n",
      "v1.numbers=(2.0, 5.0)\n",
      "v1 + v2 =Vector(1.0, 6.0)\n"
     ]
    }
   ],
   "source": [
    "print(f\"{len(v1)=}\")\n",
    "print(f\"{v1.numbers=}\")\n",
    "print(f\"{v1 + v2 =}\")"
   ]
  },
  {
   "cell_type": "markdown",
   "id": "7dadfadd",
   "metadata": {},
   "source": [
    "### testing correct errors"
   ]
  },
  {
   "cell_type": "code",
   "execution_count": 9,
   "id": "971a8c21",
   "metadata": {},
   "outputs": [
    {
     "name": "stdout",
     "output_type": "stream",
     "text": [
      "1 is not valid number in a vector\n"
     ]
    }
   ],
   "source": [
    "try:\n",
    "    Vector(\"1\",1)\n",
    "except TypeError as err:\n",
    "    print(err)"
   ]
  },
  {
   "cell_type": "code",
   "execution_count": 10,
   "id": "375d2002",
   "metadata": {},
   "outputs": [
    {
     "name": "stdout",
     "output_type": "stream",
     "text": [
      "Both must be Vector and have the same length\n"
     ]
    }
   ],
   "source": [
    "v1 = Vector(1,2)\n",
    "v2 = Vector(1,2,3)\n",
    "\n",
    "try:\n",
    "    v1 + v2\n",
    "except TypeError as err:\n",
    "    print(err)"
   ]
  },
  {
   "cell_type": "code",
   "execution_count": 11,
   "id": "31431fda",
   "metadata": {},
   "outputs": [
    {
     "data": {
      "text/plain": [
       "\"'1'\""
      ]
     },
     "execution_count": 11,
     "metadata": {},
     "output_type": "execute_result"
    }
   ],
   "source": [
    "repr(\"1\")"
   ]
  },
  {
   "cell_type": "markdown",
   "id": "877273c4",
   "metadata": {},
   "source": [
    "#### assert will be used in automatical testing"
   ]
  },
  {
   "cell_type": "code",
   "execution_count": 12,
   "id": "d5ec5bc8",
   "metadata": {},
   "outputs": [
    {
     "ename": "AssertionError",
     "evalue": "",
     "output_type": "error",
     "traceback": [
      "\u001b[31m---------------------------------------------------------------------------\u001b[39m",
      "\u001b[31mAssertionError\u001b[39m                            Traceback (most recent call last)",
      "\u001b[36mCell\u001b[39m\u001b[36m \u001b[39m\u001b[32mIn[12]\u001b[39m\u001b[32m, line 2\u001b[39m\n\u001b[32m      1\u001b[39m x = \u001b[32m5\u001b[39m\n\u001b[32m----> \u001b[39m\u001b[32m2\u001b[39m \u001b[38;5;28;01massert\u001b[39;00m x == \u001b[32m4\u001b[39m\n",
      "\u001b[31mAssertionError\u001b[39m: "
     ]
    }
   ],
   "source": [
    "x = 5\n",
    "assert x == 4"
   ]
  },
  {
   "cell_type": "code",
   "execution_count": null,
   "id": "968ef910",
   "metadata": {},
   "outputs": [],
   "source": []
  }
 ],
 "metadata": {
  "kernelspec": {
   "display_name": "16_unit_testing",
   "language": "python",
   "name": "python3"
  },
  "language_info": {
   "codemirror_mode": {
    "name": "ipython",
    "version": 3
   },
   "file_extension": ".py",
   "mimetype": "text/x-python",
   "name": "python",
   "nbconvert_exporter": "python",
   "pygments_lexer": "ipython3",
   "version": "3.12.10"
  }
 },
 "nbformat": 4,
 "nbformat_minor": 5
}

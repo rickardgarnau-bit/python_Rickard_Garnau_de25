{
 "cells": [
  {
   "cell_type": "markdown",
   "id": "02a9644f",
   "metadata": {},
   "source": []
  },
  {
   "cell_type": "code",
   "execution_count": null,
   "id": "40e09fb0",
   "metadata": {},
   "outputs": [
    {
     "name": "stdout",
     "output_type": "stream",
     "text": [
      "No apples for you!\n",
      "You pay 50\n"
     ]
    }
   ],
   "source": [
    "price = 10\n",
    "\n",
    "user_answer = (input(\"Are you a student or a pensioner? :\"))\n",
    "\n",
    "if user_answer == 'student':\n",
    "    print(\"You get 30 percent discount\")\n",
    "elif user_answer == 'pensioner':\n",
    "    print(\"You get 50 percent off\")\n",
    "else:\n",
    "    print(\"No apples for you!\")\n",
    "\n",
    "apples = int(input(\"How many apples do you want? \"))\n",
    "if user_answer == 'student':\n",
    "    print(f\"You pay: {apples * (price * 0.7)} kr\")\n",
    "elif user_answer == 'pensioner':\n",
    "    print(f\"You pay: {apples * (price * 0.5)} kr\")\n",
    "else:\n",
    "    print(f\"You pay {apples * price}kr \")\n"
   ]
  }
 ],
 "metadata": {
  "kernelspec": {
   "display_name": "class_exercise",
   "language": "python",
   "name": "python3"
  },
  "language_info": {
   "codemirror_mode": {
    "name": "ipython",
    "version": 3
   },
   "file_extension": ".py",
   "mimetype": "text/x-python",
   "name": "python",
   "nbconvert_exporter": "python",
   "pygments_lexer": "ipython3",
   "version": "3.12.10"
  }
 },
 "nbformat": 4,
 "nbformat_minor": 5
}

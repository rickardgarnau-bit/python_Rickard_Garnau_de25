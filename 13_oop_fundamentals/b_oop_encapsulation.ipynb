{
 "cells": [
  {
   "cell_type": "markdown",
   "id": "60c281c3",
   "metadata": {},
   "source": [
    "# Py.OOP encapsulation\n",
    "\n",
    "- information hiding \n",
    "- user don't need to know underlying how it works\n",
    "- for example we can hide validation - e.g. proper age for a person\n",
    "- user of your class needs to know how to use it - i.e. which methods and attributes can be used\n",
    "\n",
    "In general\n",
    "- one way to do encapsulation is to use private attributes and private methods\n",
    "  - these can't be accessed from outside of the class\n",
    "\n",
    "- however in python there is no such thing as private\n",
    "- in Python - private by convention by using a underscore prefix"
   ]
  },
  {
   "cell_type": "code",
   "execution_count": 5,
   "id": "7fb5642a",
   "metadata": {},
   "outputs": [
    {
     "data": {
      "text/plain": [
       "('Kokchun', 34)"
      ]
     },
     "execution_count": 5,
     "metadata": {},
     "output_type": "execute_result"
    }
   ],
   "source": [
    "# everything public\n",
    "\n",
    "class Person:\n",
    "    def __init__(self, name, age):\n",
    "        self.name = name\n",
    "        self.age = age\n",
    "\n",
    "p1 = Person(\"Kokchun\", 34)\n",
    "p1.name, p1.age\n"
   ]
  },
  {
   "cell_type": "code",
   "execution_count": 6,
   "id": "4d9793ff",
   "metadata": {},
   "outputs": [
    {
     "data": {
      "text/plain": [
       "-5"
      ]
     },
     "execution_count": 6,
     "metadata": {},
     "output_type": "execute_result"
    }
   ],
   "source": [
    "p2 = Person(\"Ada\", -5)\n",
    "p2.age"
   ]
  },
  {
   "cell_type": "code",
   "execution_count": 7,
   "id": "aa0ab045",
   "metadata": {},
   "outputs": [
    {
     "ename": "AttributeError",
     "evalue": "'Person' object has no attribute 'name'",
     "output_type": "error",
     "traceback": [
      "\u001b[31m---------------------------------------------------------------------------\u001b[39m",
      "\u001b[31mAttributeError\u001b[39m                            Traceback (most recent call last)",
      "\u001b[36mCell\u001b[39m\u001b[36m \u001b[39m\u001b[32mIn[7]\u001b[39m\u001b[32m, line 9\u001b[39m\n\u001b[32m      6\u001b[39m p3 = Person(\u001b[33m\"\u001b[39m\u001b[33mBeda\u001b[39m\u001b[33m\"\u001b[39m, -\u001b[32m3\u001b[39m)\n\u001b[32m      8\u001b[39m \u001b[38;5;66;03m# name attribute don't exist anymore \u001b[39;00m\n\u001b[32m----> \u001b[39m\u001b[32m9\u001b[39m \u001b[43mp3\u001b[49m\u001b[43m.\u001b[49m\u001b[43mname\u001b[49m\n",
      "\u001b[31mAttributeError\u001b[39m: 'Person' object has no attribute 'name'"
     ]
    }
   ],
   "source": [
    "class Person:\n",
    "    def __init__(self, name, age):\n",
    "        self._name = name\n",
    "        self._age = age\n",
    "\n",
    "p3 = Person(\"Beda\", -3)\n",
    "\n",
    "# name attribute don't exist anymore \n",
    "p3.name\n"
   ]
  },
  {
   "cell_type": "code",
   "execution_count": null,
   "id": "05d6ba38",
   "metadata": {},
   "outputs": [
    {
     "data": {
      "text/plain": [
       "'Beda'"
      ]
     },
     "execution_count": 4,
     "metadata": {},
     "output_type": "execute_result"
    }
   ],
   "source": [
    "# you should not do this, but you can \n",
    "# python programmers know that underscore prefix is private by convention\n",
    "p3._name"
   ]
  },
  {
   "cell_type": "markdown",
   "id": "5acbb40c",
   "metadata": {},
   "source": [
    "fix validation of age - Naive approach"
   ]
  },
  {
   "cell_type": "code",
   "execution_count": null,
   "id": "1863553f",
   "metadata": {},
   "outputs": [
    {
     "name": "stdout",
     "output_type": "stream",
     "text": [
      "Age must be between 0 and 124\n"
     ]
    },
    {
     "data": {
      "text/plain": [
       "Person('Eda', 5)"
      ]
     },
     "execution_count": 10,
     "metadata": {},
     "output_type": "execute_result"
    }
   ],
   "source": [
    "class Person:\n",
    "    def __init__(self, name, age):\n",
    "        self._name = name\n",
    "\n",
    "        # issue: this validation only happens during instantiation\n",
    "        if not (0 <= age < 125):\n",
    "            raise ValueError(\"Age must be between 0 and 124\")\n",
    "\n",
    "        self._age = age\n",
    "\n",
    "    def __repr__(self):\n",
    "        return f\"Person('{self._name}', {self._age})\"\n",
    "\n",
    "try:\n",
    "    p4 = Person(\"Doda\", -5)\n",
    "except ValueError as err:\n",
    "    print(err)\n",
    "\n",
    "p5 = Person(\"Eda\", 5)\n",
    "p5"
   ]
  },
  {
   "cell_type": "code",
   "execution_count": null,
   "id": "afebe54d",
   "metadata": {},
   "outputs": [
    {
     "data": {
      "text/plain": [
       "Person('Eda', -5)"
      ]
     },
     "execution_count": 12,
     "metadata": {},
     "output_type": "execute_result"
    }
   ],
   "source": [
    "# this is not good, but okay because validation happens only in __init__ now\n",
    "p5._age = -5 \n",
    "p5"
   ]
  },
  {
   "cell_type": "code",
   "execution_count": null,
   "id": "63dc41da",
   "metadata": {},
   "outputs": [
    {
     "ename": "AttributeError",
     "evalue": "'Person' object has no attribute 'age'",
     "output_type": "error",
     "traceback": [
      "\u001b[31m---------------------------------------------------------------------------\u001b[39m",
      "\u001b[31mAttributeError\u001b[39m                            Traceback (most recent call last)",
      "\u001b[36mCell\u001b[39m\u001b[36m \u001b[39m\u001b[32mIn[16]\u001b[39m\u001b[32m, line 1\u001b[39m\n\u001b[32m----> \u001b[39m\u001b[32m1\u001b[39m \u001b[43mp5\u001b[49m\u001b[43m.\u001b[49m\u001b[43mage\u001b[49m\n",
      "\u001b[31mAttributeError\u001b[39m: 'Person' object has no attribute 'age'"
     ]
    }
   ],
   "source": [
    "p5.age"
   ]
  },
  {
   "cell_type": "markdown",
   "id": "a3384438",
   "metadata": {},
   "source": [
    "## property\n",
    "\n",
    "- getter -> gets a value\n",
    "- setter -> sets a value\n",
    "\n",
    "idea: put in validation code in the setter -> encapsulated validation code"
   ]
  },
  {
   "cell_type": "markdown",
   "id": "67667aa6",
   "metadata": {},
   "source": [
    "### read-only age \n",
    "\n",
    "only the getter is defined that is with the @property"
   ]
  },
  {
   "cell_type": "code",
   "execution_count": null,
   "id": "d8919cad",
   "metadata": {},
   "outputs": [
    {
     "name": "stdout",
     "output_type": "stream",
     "text": [
      "age getter called\n"
     ]
    },
    {
     "data": {
      "text/plain": [
       "8"
      ]
     },
     "execution_count": 14,
     "metadata": {},
     "output_type": "execute_result"
    }
   ],
   "source": [
    "class Person:\n",
    "    def __init__(self, name, age):\n",
    "        self._name = name\n",
    "\n",
    "        # issue: this validation only happens during instantiation\n",
    "        if not (0 <= age < 125):\n",
    "            raise ValueError(\"Age must be between 0 and 124\")\n",
    "\n",
    "        self._age = age\n",
    "\n",
    "    # a decorator - it gives a function more functionality\n",
    "    # makes it into a property (getter and setter)\n",
    "    @property\n",
    "    def age(self):\n",
    "        print(\"age getter called\")\n",
    "        return self._age\n",
    "\n",
    "    def __repr__(self):\n",
    "        return f\"Person('{self._name}', {self._age})\"\n",
    "\n",
    "p6 = Person(\"Bibbi\", 8)\n",
    "p6.age"
   ]
  },
  {
   "cell_type": "code",
   "execution_count": null,
   "id": "a674100e",
   "metadata": {},
   "outputs": [
    {
     "ename": "AttributeError",
     "evalue": "property 'age' of 'Person' object has no setter",
     "output_type": "error",
     "traceback": [
      "\u001b[31m---------------------------------------------------------------------------\u001b[39m",
      "\u001b[31mAttributeError\u001b[39m                            Traceback (most recent call last)",
      "\u001b[36mCell\u001b[39m\u001b[36m \u001b[39m\u001b[32mIn[15]\u001b[39m\u001b[32m, line 1\u001b[39m\n\u001b[32m----> \u001b[39m\u001b[32m1\u001b[39m \u001b[43mp6\u001b[49m\u001b[43m.\u001b[49m\u001b[43mage\u001b[49m = \u001b[32m5\u001b[39m\n",
      "\u001b[31mAttributeError\u001b[39m: property 'age' of 'Person' object has no setter"
     ]
    }
   ],
   "source": [
    "# there is no setter \n",
    "p6.age = 5"
   ]
  },
  {
   "cell_type": "markdown",
   "id": "1f2f2108",
   "metadata": {},
   "source": [
    "### implementing setter"
   ]
  },
  {
   "cell_type": "code",
   "execution_count": null,
   "id": "4888d374",
   "metadata": {},
   "outputs": [
    {
     "name": "stdout",
     "output_type": "stream",
     "text": [
      "age setter called\n",
      "age getter called\n"
     ]
    },
    {
     "data": {
      "text/plain": [
       "8"
      ]
     },
     "execution_count": 19,
     "metadata": {},
     "output_type": "execute_result"
    }
   ],
   "source": [
    "class Person:\n",
    "    def __init__(self, name, age):\n",
    "        self._name = name\n",
    "\n",
    "        # issue: this validation only happens during instantiation\n",
    "        if not (0 <= age < 125):\n",
    "            raise ValueError(\"Age must be between 0 and 124\")\n",
    "\n",
    "        self.age = age\n",
    "\n",
    "    # a decorator - it gives a function more functionality\n",
    "    # makes it into a property (getter and setter)\n",
    "    @property\n",
    "    def age(self):\n",
    "        print(\"age getter called\")\n",
    "        return self._age\n",
    "\n",
    "    @age.setter\n",
    "    def age(self, value):\n",
    "        print(\"age setter called\")\n",
    "        self._age = value\n",
    "\n",
    "    def __repr__(self):\n",
    "        return f\"Person('{self._name}', {self._age})\"\n",
    "\n",
    "# when instantiating Person - we use the age setter\n",
    "p7 = Person(\"Bobbo\", 8)\n",
    "# use the age getter\n",
    "p7.age\n",
    "\n"
   ]
  },
  {
   "cell_type": "code",
   "execution_count": null,
   "id": "72f6561e",
   "metadata": {},
   "outputs": [
    {
     "name": "stdout",
     "output_type": "stream",
     "text": [
      "age setter called\n"
     ]
    },
    {
     "data": {
      "text/plain": [
       "Person('Bobbo', 33)"
      ]
     },
     "execution_count": 20,
     "metadata": {},
     "output_type": "execute_result"
    }
   ],
   "source": [
    "p7.age = 33\n",
    "p7"
   ]
  },
  {
   "cell_type": "markdown",
   "id": "4eea7c61",
   "metadata": {},
   "source": [
    "## EXERCISE\n",
    "\n",
    "work until 10:52\n",
    "\n",
    "make sure that this is not allowed, give proper error message\n",
    "\n",
    "- test them out, both getter and setter\n",
    "- extra: check the type also with isinstance()\n"
   ]
  },
  {
   "cell_type": "code",
   "execution_count": null,
   "id": "60bea0cd",
   "metadata": {},
   "outputs": [
    {
     "name": "stdout",
     "output_type": "stream",
     "text": [
      "age setter called\n"
     ]
    },
    {
     "data": {
      "text/plain": [
       "Person('Bobbo', -5)"
      ]
     },
     "execution_count": 23,
     "metadata": {},
     "output_type": "execute_result"
    }
   ],
   "source": [
    "\n",
    "p7.age = -5\n",
    "p7"
   ]
  },
  {
   "cell_type": "markdown",
   "id": "b9c65be7",
   "metadata": {},
   "source": [
    "### solution"
   ]
  },
  {
   "cell_type": "code",
   "execution_count": null,
   "id": "62f979ff",
   "metadata": {},
   "outputs": [
    {
     "name": "stdout",
     "output_type": "stream",
     "text": [
      "age setter called\n",
      "age setter called\n",
      "Age must be between 0 and 124, not -3\n",
      "age getter called\n"
     ]
    },
    {
     "data": {
      "text/plain": [
       "Person('Dadda', 5)"
      ]
     },
     "execution_count": 32,
     "metadata": {},
     "output_type": "execute_result"
    }
   ],
   "source": [
    "class Person:\n",
    "    def __init__(self, name, age):\n",
    "        self._name = name\n",
    "        # whenever we do assignment where there is a setter\n",
    "        # the setter will be called\n",
    "        self.age = age\n",
    "\n",
    "    # a decorator - it gives a function more functionality\n",
    "    # makes it into a property (getter and setter)\n",
    "    @property\n",
    "    def age(self):\n",
    "        print(\"age getter called\")\n",
    "        return self._age\n",
    "\n",
    "    @age.setter\n",
    "    def age(self, value):\n",
    "        print(\"age setter called\")\n",
    "\n",
    "        if not (0 <= value < 125):\n",
    "            raise ValueError(f\"Age must be between 0 and 124, not {value}\")\n",
    "        self._age = value\n",
    "\n",
    "    def __repr__(self):\n",
    "        return f\"Person('{self._name}', {self.age})\"\n",
    "\n",
    "p9 = Person(\"Dadda\", 5)\n",
    "try:\n",
    "    p9.age = -3\n",
    "except ValueError as err:\n",
    "    print(err)\n",
    "p9"
   ]
  },
  {
   "cell_type": "code",
   "execution_count": null,
   "id": "d084e964",
   "metadata": {},
   "outputs": [
    {
     "name": "stdout",
     "output_type": "stream",
     "text": [
      "age getter called\n"
     ]
    },
    {
     "data": {
      "text/plain": [
       "5"
      ]
     },
     "execution_count": 33,
     "metadata": {},
     "output_type": "execute_result"
    }
   ],
   "source": [
    "p9.age"
   ]
  },
  {
   "cell_type": "code",
   "execution_count": null,
   "id": "e1eac2a5",
   "metadata": {},
   "outputs": [
    {
     "name": "stdout",
     "output_type": "stream",
     "text": [
      "age setter called\n"
     ]
    },
    {
     "ename": "ValueError",
     "evalue": "Age must be between 0 and 124, not -82391",
     "output_type": "error",
     "traceback": [
      "\u001b[31m---------------------------------------------------------------------------\u001b[39m",
      "\u001b[31mValueError\u001b[39m                                Traceback (most recent call last)",
      "\u001b[36mCell\u001b[39m\u001b[36m \u001b[39m\u001b[32mIn[31]\u001b[39m\u001b[32m, line 1\u001b[39m\n\u001b[32m----> \u001b[39m\u001b[32m1\u001b[39m \u001b[43mPerson\u001b[49m\u001b[43m(\u001b[49m\u001b[33;43m\"\u001b[39;49m\u001b[33;43mBabba\u001b[39;49m\u001b[33;43m\"\u001b[39;49m\u001b[43m,\u001b[49m\u001b[43m \u001b[49m\u001b[43m-\u001b[49m\u001b[32;43m82391\u001b[39;49m\u001b[43m)\u001b[49m\n",
      "\u001b[36mCell\u001b[39m\u001b[36m \u001b[39m\u001b[32mIn[30]\u001b[39m\u001b[32m, line 7\u001b[39m, in \u001b[36mPerson.__init__\u001b[39m\u001b[34m(self, name, age)\u001b[39m\n\u001b[32m      3\u001b[39m \u001b[38;5;28mself\u001b[39m._name = name\n\u001b[32m      5\u001b[39m \u001b[38;5;66;03m# issue: this validation only happens during instantiation\u001b[39;00m\n\u001b[32m----> \u001b[39m\u001b[32m7\u001b[39m \u001b[38;5;28;43mself\u001b[39;49m\u001b[43m.\u001b[49m\u001b[43mage\u001b[49m = age\n",
      "\u001b[36mCell\u001b[39m\u001b[36m \u001b[39m\u001b[32mIn[30]\u001b[39m\u001b[32m, line 21\u001b[39m, in \u001b[36mPerson.age\u001b[39m\u001b[34m(self, value)\u001b[39m\n\u001b[32m     18\u001b[39m \u001b[38;5;28mprint\u001b[39m(\u001b[33m\"\u001b[39m\u001b[33mage setter called\u001b[39m\u001b[33m\"\u001b[39m)\n\u001b[32m     20\u001b[39m \u001b[38;5;28;01mif\u001b[39;00m \u001b[38;5;129;01mnot\u001b[39;00m (\u001b[32m0\u001b[39m <= value < \u001b[32m125\u001b[39m):\n\u001b[32m---> \u001b[39m\u001b[32m21\u001b[39m     \u001b[38;5;28;01mraise\u001b[39;00m \u001b[38;5;167;01mValueError\u001b[39;00m(\u001b[33mf\u001b[39m\u001b[33m\"\u001b[39m\u001b[33mAge must be between 0 and 124, not \u001b[39m\u001b[38;5;132;01m{\u001b[39;00mvalue\u001b[38;5;132;01m}\u001b[39;00m\u001b[33m\"\u001b[39m)\n\u001b[32m     22\u001b[39m \u001b[38;5;28mself\u001b[39m._age = value\n",
      "\u001b[31mValueError\u001b[39m: Age must be between 0 and 124, not -82391"
     ]
    }
   ],
   "source": [
    "Person(\"Babba\", -82391)"
   ]
  },
  {
   "cell_type": "markdown",
   "id": "7e700f96",
   "metadata": {},
   "source": [
    "note in other languages\n",
    "\n",
    "- p7.get_age()\n",
    "- p7.set_age()"
   ]
  },
  {
   "cell_type": "markdown",
   "id": "1b5af5a4",
   "metadata": {},
   "source": [
    "## OOP employee encapsulation exercise\n",
    "\n",
    "![](../assets/oop_employee_exercise.png)"
   ]
  },
  {
   "cell_type": "markdown",
   "id": "b31d0239",
   "metadata": {},
   "source": [
    "**version 1**"
   ]
  },
  {
   "cell_type": "code",
   "execution_count": 8,
   "id": "22e4efeb",
   "metadata": {},
   "outputs": [
    {
     "data": {
      "text/plain": [
       "Employee(Cicci, 200212012222, 30000, Säljare, 2024)"
      ]
     },
     "execution_count": 8,
     "metadata": {},
     "output_type": "execute_result"
    }
   ],
   "source": [
    "class Employee:\n",
    "    def __init__(self, name, social_security_nr, salary, role, employment_year):\n",
    "        self.name = name\n",
    "        self._social_security_nr = social_security_nr\n",
    "        self.salary = salary\n",
    "        self.role = role\n",
    "        self.employment_year = employment_year\n",
    "\n",
    "    def increase_salary(self, value):\n",
    "        self.salary += value\n",
    "\n",
    "    def __repr__(self):\n",
    "        return f\"Employee({self.name}, {self._social_security_nr}, {self.salary}, {self.role}, {self.employment_year})\"\n",
    "\n",
    "e1 = Employee(\"Cicci\", 200212012222, 25000, \"Säljare\", 2024)\n",
    "\n",
    "e1.increase_salary(5000)\n",
    "e1"
   ]
  },
  {
   "cell_type": "code",
   "execution_count": 9,
   "id": "d9838216",
   "metadata": {},
   "outputs": [
    {
     "data": {
      "text/plain": [
       "30000"
      ]
     },
     "execution_count": 9,
     "metadata": {},
     "output_type": "execute_result"
    }
   ],
   "source": [
    "e1.salary"
   ]
  },
  {
   "cell_type": "markdown",
   "id": "45043924",
   "metadata": {},
   "source": [
    "**version 2**\n",
    "\n",
    "- also add type hinting\n",
    "- documentation with docstring"
   ]
  },
  {
   "cell_type": "code",
   "execution_count": null,
   "id": "4e1ae182",
   "metadata": {},
   "outputs": [
    {
     "name": "stdout",
     "output_type": "stream",
     "text": [
      "Salary can't be negative, you inputted -25000\n"
     ]
    }
   ],
   "source": [
    "class Employee:\n",
    "    \"\"\"\n",
    "    A class to hold employee information\n",
    "\n",
    "    Attributes:\n",
    "    - name (str): name of the person\n",
    "    - social_security_nr (int): the social security number of a person in 12 numbers\n",
    "    - salary (int): salary in SEK, needs to be larger than 0\n",
    "    ...\n",
    "\n",
    "    Methods:\n",
    "    - increase_salary(value): increases the salary of the employee with value SEK\n",
    "\n",
    "    Example usage:\n",
    "    >>> e1 = Employee(\"Diddi\", 200212012222, 25000, \"Säljare\", 2024)\n",
    "    >>> e1.increase_salary(5000)\n",
    "    >>> e1.salary\n",
    "\n",
    "    \"\"\"\n",
    "\n",
    "    def __init__(\n",
    "        self,\n",
    "        name: str,\n",
    "        social_security_nr: int,\n",
    "        salary: int,\n",
    "        role: str,\n",
    "        employment_year: int,\n",
    "    ) -> None:\n",
    "        self.name = name\n",
    "        self._social_security_nr = social_security_nr\n",
    "        self.salary = salary\n",
    "        self.role = role\n",
    "        self.employment_year = employment_year\n",
    "\n",
    "    @property\n",
    "    def salary(self) -> int:\n",
    "        # return the private backing variable\n",
    "        return self._salary\n",
    "\n",
    "    @salary.setter\n",
    "    def salary(self, value) -> None:\n",
    "        if value <= 0:\n",
    "            raise ValueError(f\"Salary can't be negative, you inputted {value}\")\n",
    "        self._salary = value\n",
    "\n",
    "    def increase_salary(self, value) -> None:\n",
    "        self.salary += value\n",
    "\n",
    "    def __repr__(self) -> str:\n",
    "        return f\"Employee({self.name}, {self._social_security_nr}, {self.salary}, {self.role}, {self.employment_year})\"\n",
    "\n",
    "\n",
    "try:\n",
    "    e2 = Employee(\"Diddi\", 200212012222, -25000, \"Säljare\", 2024)\n",
    "except ValueError as err:\n",
    "    print(err)"
   ]
  },
  {
   "cell_type": "code",
   "execution_count": 14,
   "id": "0534d517",
   "metadata": {},
   "outputs": [
    {
     "data": {
      "text/plain": [
       "Employee(1, 1, 1, 1, 1)"
      ]
     },
     "execution_count": 14,
     "metadata": {},
     "output_type": "execute_result"
    }
   ],
   "source": [
    "# possible because type hints are only hints, and not enforceable by Python\n",
    "Employee(1,1,1,1,1)"
   ]
  },
  {
   "cell_type": "code",
   "execution_count": null,
   "id": "54243ecf",
   "metadata": {},
   "outputs": [],
   "source": [
    "Employee()"
   ]
  },
  {
   "cell_type": "code",
   "execution_count": 15,
   "id": "e3cb3515",
   "metadata": {},
   "outputs": [
    {
     "name": "stdout",
     "output_type": "stream",
     "text": [
      "Help on class Employee in module __main__:\n",
      "\n",
      "class Employee(builtins.object)\n",
      " |  Employee(name: str, social_security_nr: int, salary: int, role: str, employment_year: int)\n",
      " |  \n",
      " |  A class to hold employee information\n",
      " |  \n",
      " |  Attributes:\n",
      " |  - name (str): name of the person\n",
      " |  - social_security_nr (int): the social security number of a person in 12 numbers\n",
      " |  - salary (int): salary in SEK, needs to be larger than 0\n",
      " |  ...\n",
      " |  \n",
      " |  Methods:\n",
      " |  - increase_salary(value): increases the salary of the employee with value SEK\n",
      " |  \n",
      " |  Example usage:\n",
      " |  >>> e1 = Employee(\"Diddi\", 200212012222, 25000, \"Säljare\", 2024)\n",
      " |  >>> e1.increase_salary(5000)\n",
      " |  >>> e1.salary\n",
      " |  \n",
      " |  Methods defined here:\n",
      " |  \n",
      " |  __init__(self, name: str, social_security_nr: int, salary: int, role: str, employment_year: int)\n",
      " |      Initialize self.  See help(type(self)) for accurate signature.\n",
      " |  \n",
      " |  __repr__(self)\n",
      " |      Return repr(self).\n",
      " |  \n",
      " |  increase_salary(self, value)\n",
      " |  \n",
      " |  ----------------------------------------------------------------------\n",
      " |  Data descriptors defined here:\n",
      " |  \n",
      " |  __dict__\n",
      " |      dictionary for instance variables\n",
      " |  \n",
      " |  __weakref__\n",
      " |      list of weak references to the object\n",
      " |  \n",
      " |  salary\n",
      "\n"
     ]
    }
   ],
   "source": [
    "help(Employee)"
   ]
  }
 ],
 "metadata": {
  "kernelspec": {
   "display_name": "python_code_along_DE25",
   "language": "python",
   "name": "python3"
  },
  "language_info": {
   "codemirror_mode": {
    "name": "ipython",
    "version": 3
   },
   "file_extension": ".py",
   "mimetype": "text/x-python",
   "name": "python",
   "nbconvert_exporter": "python",
   "pygments_lexer": "ipython3",
   "version": "3.11.8"
  }
 },
 "nbformat": 4,
 "nbformat_minor": 5
}
